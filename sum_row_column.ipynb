{
 "cells": [
  {
   "cell_type": "code",
   "execution_count": null,
   "id": "40ffe037",
   "metadata": {},
   "outputs": [
    {
     "name": "stdout",
     "output_type": "stream",
     "text": [
      "Input number of rows/columns (0 to exit)\n",
      "5\n",
      "Input cell value :\n",
      "12 45 84 62 32 \n",
      "84 65 52 14 13\n",
      "95 45 74 62 32\n",
      "85 45 62 13 62\n",
      "95 45 78 12 23\n",
      "Result :\n",
      "   12   45   84   62   32  235\n",
      "   84   65   52   14   13  228\n",
      "   95   45   74   62   32  308\n",
      "   85   45   62   13   62  267\n",
      "   95   45   78   12   23  253\n",
      "  235  228  308  267  253 1291\n",
      "Input number of rows/columns (0 to exit)\n"
     ]
    }
   ],
   "source": [
    "#입력된 벡터의 가로 세로 합을 구하기\n",
    "\n",
    "\n",
    "while True :\n",
    "    print(\"Input number of rows/columns (0 to exit)\")\n",
    "    n = int(input())\n",
    "    if n ==0 :\n",
    "        brea\n",
    "    print(\"Input cell value :\")\n",
    "    x = []\n",
    "    for i in range(n):\n",
    "        x.append([int(num) for num in input().split()])\n",
    "        \n",
    "    for i in range(n):\n",
    "        sum = 0\n",
    "        for j in range(n):\n",
    "            sum +=x[i][j]\n",
    "        x[i].append(sum)\n",
    "        \n",
    "    x.append([])\n",
    "    for i in range(n +1) :\n",
    "        sum = 0\n",
    "        for j in range(n) :\n",
    "            sum += x[i][j]\n",
    "        x[n].append(sum)\n",
    "    print(\"Result :\")\n",
    "    for i in range(n+1):\n",
    "        for j in range(n+1) :\n",
    "            print('{0:>5}'.format(x[i][j]), end=\"\")\n",
    "        print()"
   ]
  },
  {
   "cell_type": "code",
   "execution_count": null,
   "id": "f257af73",
   "metadata": {},
   "outputs": [],
   "source": []
  }
 ],
 "metadata": {
  "kernelspec": {
   "display_name": "Python 3 (ipykernel)",
   "language": "python",
   "name": "python3"
  },
  "language_info": {
   "codemirror_mode": {
    "name": "ipython",
    "version": 3
   },
   "file_extension": ".py",
   "mimetype": "text/x-python",
   "name": "python",
   "nbconvert_exporter": "python",
   "pygments_lexer": "ipython3",
   "version": "3.9.7"
  }
 },
 "nbformat": 4,
 "nbformat_minor": 5
}
