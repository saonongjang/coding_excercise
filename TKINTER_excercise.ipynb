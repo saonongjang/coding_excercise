{
 "cells": [
  {
   "cell_type": "code",
   "execution_count": 10,
   "id": "3ece3f71",
   "metadata": {},
   "outputs": [],
   "source": [
    "#TKINTER를 이용하여 사용자 인터페이스 만들기\n",
    "\n",
    "import tkinter as tk\n",
    "\n",
    "#run main GUI\n",
    "gui = tk.Tk()\n",
    "\n",
    "#%%create labels #%%sms 셀단위로 실행을 할 수 있게 함\n",
    "my_label_1 = tk.Label(gui,text='Python is Great!!')\n",
    "my_label_2 = tk.Label(gui,text='I will conquer!!')\n",
    "\n",
    "# #place in GUI\n",
    "# my_label_1.pack()   #pack함수를 이용하여 단순하게 만들기\n",
    "# my_label_2.pack()\n",
    "\n",
    "#grid함수를 이용하여 특정위치에 글자를 배치\n",
    "my_label_1.grid(row=0,column=0)\n",
    "my_label_2.grid(row=1,column=0)\n"
   ]
  },
  {
   "cell_type": "code",
   "execution_count": null,
   "id": "c653fcc6",
   "metadata": {},
   "outputs": [],
   "source": [
    "#%%define function\n",
    "\n",
    "def my_click() :\n",
    "    my_label = tk.Label(gui,text='Button Clickd!!')\n",
    "    my_label.pack()"
   ]
  },
  {
   "cell_type": "code",
   "execution_count": 11,
   "id": "11fc0208",
   "metadata": {},
   "outputs": [],
   "source": [
    "#%%create Button\n",
    "\n",
    "my_button = tk.Button(gui,text='Click!'\n",
    "        padx=50,    #button size\n",
    "        pady=10,\n",
    "        command=my_click) #위 정의된 함수를 실행하는 명령\n",
    "\n",
    "#place in gui\n",
    "my_button.pack()"
   ]
  },
  {
   "cell_type": "code",
   "execution_count": null,
   "id": "01ecd14a",
   "metadata": {},
   "outputs": [],
   "source": [
    "#%%입력 박스 만들기\n",
    "\n",
    "my_entry = tk.Entry(gui, width=50) #입력박스 길이\n",
    "my_entry.pack()\n",
    "my_entry.insert(0,'Enter values:') #입력박스안에 미리 string을 표시하여 뭘 입력하는지 알게함"
   ]
  },
  {
   "cell_type": "code",
   "execution_count": null,
   "id": "346af187",
   "metadata": {},
   "outputs": [],
   "source": [
    "#%%입력박스에서 받은 값을 클릭하면 출력되도로 함\n",
    "\n",
    "def my_click():\n",
    "    user_msg = \"Yoou typed :\"+ my_entry.get()\n",
    "    my_label = tk.Label(gui, text=user_msg)\n",
    "    my_label.pack()\n",
    "    "
   ]
  }
 ],
 "metadata": {
  "kernelspec": {
   "display_name": "Python 3 (ipykernel)",
   "language": "python",
   "name": "python3"
  },
  "language_info": {
   "codemirror_mode": {
    "name": "ipython",
    "version": 3
   },
   "file_extension": ".py",
   "mimetype": "text/x-python",
   "name": "python",
   "nbconvert_exporter": "python",
   "pygments_lexer": "ipython3",
   "version": "3.9.7"
  }
 },
 "nbformat": 4,
 "nbformat_minor": 5
}
