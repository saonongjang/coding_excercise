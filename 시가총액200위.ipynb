{
  "nbformat": 4,
  "nbformat_minor": 0,
  "metadata": {
    "colab": {
      "name": "시가총액200위.ipynb",
      "provenance": [],
      "authorship_tag": "ABX9TyNGGwySwnXd4jiwPR9xAIB+",
      "include_colab_link": true
    },
    "kernelspec": {
      "name": "python3",
      "display_name": "Python 3"
    },
    "language_info": {
      "name": "python"
    }
  },
  "cells": [
    {
      "cell_type": "markdown",
      "metadata": {
        "id": "view-in-github",
        "colab_type": "text"
      },
      "source": [
        "<a href=\"https://colab.research.google.com/github/saonongjang/coding_excercise/blob/main/%EC%8B%9C%EA%B0%80%EC%B4%9D%EC%95%A1200%EC%9C%84.ipynb\" target=\"_parent\"><img src=\"https://colab.research.google.com/assets/colab-badge.svg\" alt=\"Open In Colab\"/></a>"
      ]
    },
    {
      "cell_type": "code",
      "execution_count": 23,
      "metadata": {
        "id": "K-MIMjDzGMML"
      },
      "outputs": [],
      "source": [
        "#네이버 금융에서 시가총액 200위까지의 시장데이터를 csv형태로 다운 받기\n",
        "\n",
        "import csv\n",
        "import requests\n",
        "from bs4 import BeautifulSoup\n",
        "\n",
        "url = \"https://finance.naver.com/sise/sise_market_sum.naver?&page=\" #페이지를 for문으로 돌리기 위해 삭제\n",
        "\n",
        "filename=\"mktcap_200.csv\"\n",
        "f = open(filename, \"w\", encoding=\"utf-8-sig\",newline=\"\") #엑셀에서 한글이 깨어지면 encoding=\"utf-8-sig\"로 수정해야\n",
        "writer = csv.writer(f)\n",
        "\n",
        "title =\"N\t종목명\t현재가\t전일비\t등락률\t액면가\t시가총액\t상장주식수\t외국인비율\t거래량\tPER\tROE\".split(\"\\t\")\n",
        "writer.writerow(title)\n",
        "\n",
        "for page in range(1,5):\n",
        "  res = requests.get(url + str(page))\n",
        "  res.raise_for_status()\n",
        "  soup = BeautifulSoup(res.text, \"lxml\")\n",
        "\n",
        "  data_rows = soup.find(\"table\", attrs={\"class\":\"type_2\"}).find(\"tbody\").find_all(\"tr\")\n",
        "  for row in data_rows :\n",
        "    columns =row.find_all(\"td\")\n",
        "    if len(columns) <=1 : #데이터와 상관없는 것들은 스킵\n",
        "      continue\n",
        "    data = [column.get_text().strip() for column in columns]\n",
        "    #print(data)\n",
        "    writer.writerow(data)\n",
        "\n"
      ]
    },
    {
      "cell_type": "markdown",
      "source": [
        "# 새 섹션"
      ],
      "metadata": {
        "id": "eztANci7Uzjl"
      }
    }
  ]
}