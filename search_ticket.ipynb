{
 "cells": [
  {
   "cell_type": "code",
   "execution_count": 15,
   "id": "244293f8",
   "metadata": {},
   "outputs": [
    {
     "ename": "SyntaxError",
     "evalue": "invalid syntax (Temp/ipykernel_12776/1493442918.py, line 3)",
     "output_type": "error",
     "traceback": [
      "\u001b[1;36m  File \u001b[1;32m\"C:\\Users\\RICHAR~1\\AppData\\Local\\Temp/ipykernel_12776/1493442918.py\"\u001b[1;36m, line \u001b[1;32m3\u001b[0m\n\u001b[1;33m    pip install selenium\u001b[0m\n\u001b[1;37m        ^\u001b[0m\n\u001b[1;31mSyntaxError\u001b[0m\u001b[1;31m:\u001b[0m invalid syntax\n"
     ]
    }
   ],
   "source": [
    "#네이버여행에서 내가 원하는 일정에과 가격에 적합한 티켓 검색하기\n",
    "\n",
    "pip install selenium"
   ]
  },
  {
   "cell_type": "code",
   "execution_count": null,
   "id": "5eca1404",
   "metadata": {},
   "outputs": [],
   "source": [
    "from selenium import webdriver\n",
    "from selenium.webdriver.common.by import By\n",
    "from selenium.webdriver.support.ui import WebDriverWait\n",
    "from selenium.webdriver.support import expected_conditions as EC\n",
    "\n",
    "browser = webdriver.Chrome(\"C:/Temp/chromedrive/chromedriver_win32/chromedriver.exe\")\n",
    "\n",
    "browser.maximize_window() # 창 최대화\n",
    "\n",
    "url = \"https://flight.naver.com/flights/\"\n",
    "browser.get(url) # url 로 이동\n",
    "\n",
    "# 가는 날 선택 클릭\n",
    "browser.find_element_by_link_text(\"가는 날\").click()\n",
    "\n",
    "# 이번달 27일, 28일 선택\n",
    "# browser.find_elements_by_link_text(\"27\")[0].click() # [0] -> 이번달\n",
    "# browser.find_elements_by_link_text(\"28\")[0].click() # [0] -> 이번달\n",
    "\n",
    "# 다음달 27일, 28일 선택\n",
    "# browser.find_elements_by_link_text(\"27\")[1].click() # [1] -> 다음달\n",
    "# browser.find_elements_by_link_text(\"28\")[1].click() # [1] -> 다음달\n",
    "\n",
    "# 이번달 27일, 다음달 28일 선택\n",
    "browser.find_elements_by_link_text(\"27\")[0].click() # [0] -> 이번달\n",
    "browser.find_elements_by_link_text(\"28\")[1].click() # [1] -> 다음달\n",
    "\n",
    "# 제주도 선택\n",
    "browser.find_element_by_xpath(\"//*[@id='recommendationList']/ul/li[1]\").click()\n",
    "\n",
    "# 항공권 검색 클릭\n",
    "browser.find_element_by_link_text(\"항공권 검색\").click()\n",
    "\n",
    "try:\n",
    "    elem = WebDriverWait(browser, 10).until(EC.presence_of_element_located((By.XPATH, \"//*[@id='content']/div[2]/div/div[4]/ul/li[1]\")))\n",
    "    # 성공했을 때 동작 수행    \n",
    "    print(elem.text) # 첫번째 결과 출력\n",
    "finally:\n",
    "    browser.quit()"
   ]
  }
 ],
 "metadata": {
  "kernelspec": {
   "display_name": "Python 3 (ipykernel)",
   "language": "python",
   "name": "python3"
  },
  "language_info": {
   "codemirror_mode": {
    "name": "ipython",
    "version": 3
   },
   "file_extension": ".py",
   "mimetype": "text/x-python",
   "name": "python",
   "nbconvert_exporter": "python",
   "pygments_lexer": "ipython3",
   "version": "3.9.7"
  }
 },
 "nbformat": 4,
 "nbformat_minor": 5
}
