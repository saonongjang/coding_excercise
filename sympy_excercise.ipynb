{
  "nbformat": 4,
  "nbformat_minor": 0,
  "metadata": {
    "colab": {
      "name": "Untitled6.ipynb",
      "provenance": [],
      "authorship_tag": "ABX9TyNLMG5eJqTiZav+0WvXVv67",
      "include_colab_link": true
    },
    "kernelspec": {
      "name": "python3",
      "display_name": "Python 3"
    },
    "language_info": {
      "name": "python"
    }
  },
  "cells": [
    {
      "cell_type": "markdown",
      "metadata": {
        "id": "view-in-github",
        "colab_type": "text"
      },
      "source": [
        "<a href=\"https://colab.research.google.com/github/saonongjang/coding_excercise/blob/main/sympy_excercise.ipynb\" target=\"_parent\"><img src=\"https://colab.research.google.com/assets/colab-badge.svg\" alt=\"Open In Colab\"/></a>"
      ]
    },
    {
      "cell_type": "code",
      "execution_count": 1,
      "metadata": {
        "id": "_ENh4MjT62IA"
      },
      "outputs": [],
      "source": [
        "from sympy import symbols\n",
        "x = symbols('x')"
      ]
    },
    {
      "cell_type": "code",
      "source": [
        "expr = 2*x\n",
        "expr.subs(x,2)"
      ],
      "metadata": {
        "colab": {
          "base_uri": "https://localhost:8080/",
          "height": 37
        },
        "id": "QHZ8Cyd97q_z",
        "outputId": "37ab0e84-14b2-42c9-80d1-41041bad2a31"
      },
      "execution_count": 2,
      "outputs": [
        {
          "output_type": "execute_result",
          "data": {
            "text/latex": "$\\displaystyle 4$",
            "text/plain": [
              "4"
            ]
          },
          "metadata": {},
          "execution_count": 2
        }
      ]
    },
    {
      "cell_type": "code",
      "source": [
        "# 미분(Differentiation)의 계산\n",
        "\n",
        "from sympy import diff\n",
        "f = x**3\n",
        "df1 = diff(f,x)\n",
        "print(df1)"
      ],
      "metadata": {
        "colab": {
          "base_uri": "https://localhost:8080/"
        },
        "id": "OZlA_FKs8DM3",
        "outputId": "b0d67069-cb9c-49b8-eaab-339cad4ff909"
      },
      "execution_count": 5,
      "outputs": [
        {
          "output_type": "stream",
          "name": "stdout",
          "text": [
            "3*x**2\n"
          ]
        }
      ]
    },
    {
      "cell_type": "code",
      "source": [
        "df2 = diff(df1, x)\n",
        "print(df2)"
      ],
      "metadata": {
        "colab": {
          "base_uri": "https://localhost:8080/"
        },
        "id": "7EsKaT_S8xur",
        "outputId": "d13a6263-ce6d-421e-c81b-0d26bdbd9729"
      },
      "execution_count": 8,
      "outputs": [
        {
          "output_type": "stream",
          "name": "stdout",
          "text": [
            "6*x\n"
          ]
        }
      ]
    },
    {
      "cell_type": "code",
      "source": [
        "df3 = diff(df2,x)\n",
        "print(df3)"
      ],
      "metadata": {
        "colab": {
          "base_uri": "https://localhost:8080/"
        },
        "id": "Zfn-0fQo9KBK",
        "outputId": "5fd57018-48fb-460d-dc14-dee9f9f30a60"
      },
      "execution_count": 9,
      "outputs": [
        {
          "output_type": "stream",
          "name": "stdout",
          "text": [
            "6\n"
          ]
        }
      ]
    },
    {
      "cell_type": "code",
      "source": [
        "from sympy import sin\n",
        "f = sin(x)\n",
        "df1 = diff(f,x)\n",
        "print(df1)"
      ],
      "metadata": {
        "colab": {
          "base_uri": "https://localhost:8080/"
        },
        "id": "ayDvUPEv9d8L",
        "outputId": "f00edb93-51c7-4e52-c06e-c3766fd57c5a"
      },
      "execution_count": 10,
      "outputs": [
        {
          "output_type": "stream",
          "name": "stdout",
          "text": [
            "cos(x)\n"
          ]
        }
      ]
    },
    {
      "cell_type": "code",
      "source": [
        "#적분(Integration)하기\n",
        "\n",
        "from sympy import integrate\n",
        "integrate(f,(x,0,2*3.14))"
      ],
      "metadata": {
        "colab": {
          "base_uri": "https://localhost:8080/",
          "height": 37
        },
        "id": "r7lYESxl9xt7",
        "outputId": "d8224520-c7d3-4997-e081-ffb07a33090a"
      },
      "execution_count": 11,
      "outputs": [
        {
          "output_type": "execute_result",
          "data": {
            "text/latex": "$\\displaystyle 5.07308662478501 \\cdot 10^{-6}$",
            "text/plain": [
              "5.07308662478501e-6"
            ]
          },
          "metadata": {},
          "execution_count": 11
        }
      ]
    },
    {
      "cell_type": "code",
      "source": [
        "#Limit계산하기\n",
        "\n",
        "from sympy import limit\n",
        "y = limit(sin(x)/x,x,0)\n",
        "print(y)"
      ],
      "metadata": {
        "colab": {
          "base_uri": "https://localhost:8080/"
        },
        "id": "0bSfXig1-Ztr",
        "outputId": "ad8c4069-244d-4327-ae8f-83a32b554692"
      },
      "execution_count": 13,
      "outputs": [
        {
          "output_type": "stream",
          "name": "stdout",
          "text": [
            "1\n"
          ]
        }
      ]
    },
    {
      "cell_type": "code",
      "source": [
        ""
      ],
      "metadata": {
        "id": "H86vgUbzAPpq"
      },
      "execution_count": null,
      "outputs": []
    }
  ]
}