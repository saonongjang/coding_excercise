{
 "cells": [
  {
   "cell_type": "markdown",
   "id": "88338232",
   "metadata": {},
   "source": [
    "# Assignment 1"
   ]
  },
  {
   "cell_type": "markdown",
   "id": "84cb4d10",
   "metadata": {},
   "source": [
    "## The following equations are plotted for the corresponding domains\n",
    "\n",
    "$f(x) = \\frac{1}{10}x^2$                    for $x\\in[0,1.5)$$\n",
    "\n",
    "$f(x) = \\sum_{n=1,3,5..}^{N}{\\frac{4}{\\pi n} \\text{sin}(\\frac{2\\pi n(x-1.5)}{ T})} $ for $x\\in[1.5,3]$"
   ]
  },
  {
   "cell_type": "markdown",
   "id": "253225d4",
   "metadata": {},
   "source": [
    "## 예쁘게 정렬하기"
   ]
  },
  {
   "cell_type": "markdown",
   "id": "5c00477d",
   "metadata": {},
   "source": [
    "$\n",
    "\\begin{align}\n",
    "\\begin{cases}\n",
    "f(x) = \\frac{1}{10}x^2 & \\text{ for } x \\in[0,1.5)\\\\\n",
    "f(x) = \\sum_{n=1,3,5..}^{N}{\\frac{4}{\\pi n} \\text{sin}(\\frac{2\\pi n(x-1.5)}{ T})} & \\text{ for } x\\in[1.5,3]\n",
    "\\end{cases}\n",
    "\\end{align}\n",
    "$"
   ]
  },
  {
   "cell_type": "markdown",
   "id": "ad1c9fe1",
   "metadata": {},
   "source": [
    "## Script만들기"
   ]
  },
  {
   "cell_type": "code",
   "execution_count": 1,
   "id": "aa040a1a",
   "metadata": {},
   "outputs": [],
   "source": [
    "#라이브러리 불러오기\n",
    "\n",
    "import numpy as np\n",
    "import matplotlib.pyplot as plt\n"
   ]
  },
  {
   "cell_type": "code",
   "execution_count": 3,
   "id": "0837a823",
   "metadata": {},
   "outputs": [],
   "source": [
    "# calculate  the first equation\n",
    "\n",
    "dx = 0.01\n",
    "x1 = np.arange(0,1.5,0.01)\n",
    "y1 = 1/10*x1**2"
   ]
  },
  {
   "cell_type": "code",
   "execution_count": 8,
   "id": "5b4e3f3c",
   "metadata": {},
   "outputs": [],
   "source": [
    "#calculate the second equation\n",
    "\n",
    "x2 = np.arange(1.5, 3+dx,dx)\n",
    "N = 50 \n",
    "T =1\n",
    "y2 = np.zeros(x2.shape)\n",
    "for n in range(N):\n",
    "    if n%2==1:\n",
    "        series = (4/(np.pi*n))*np.sin((2*np.pi*n*(x2-1.5))/T)\n",
    "        y2 = y2 + series\n",
    "        "
   ]
  },
  {
   "cell_type": "code",
   "execution_count": 9,
   "id": "f60b7c8d",
   "metadata": {},
   "outputs": [
    {
     "data": {
      "text/plain": [
       "Text(0.5, 1.0, 'Piecewise Function')"
      ]
     },
     "execution_count": 9,
     "metadata": {},
     "output_type": "execute_result"
    },
    {
     "data": {
      "image/png": "[encoded data removed]",
      "text/plain": [
       "<Figure size 432x288 with 1 Axes>"
      ]
     },
     "metadata": {
      "needs_background": "light"
     },
     "output_type": "display_data"
    }
   ],
   "source": [
    "#plot\n",
    "\n",
    "plt.plot(x1,y1)\n",
    "plt.plot(x2,y2)\n",
    "plt.xlabel('x')\n",
    "plt.ylabel('y')\n",
    "plt.title('Piecewise Function')"
   ]
  },
  {
   "cell_type": "code",
   "execution_count": null,
   "id": "14ee6c31",
   "metadata": {},
   "outputs": [],
   "source": []
  }
 ],
 "metadata": {
  "kernelspec": {
   "display_name": "Python 3 (ipykernel)",
   "language": "python",
   "name": "python3"
  },
  "language_info": {
   "codemirror_mode": {
    "name": "ipython",
    "version": 3
   },
   "file_extension": ".py",
   "mimetype": "text/x-python",
   "name": "python",
   "nbconvert_exporter": "python",
   "pygments_lexer": "ipython3",
   "version": "3.9.7"
  }
 },
 "nbformat": 4,
 "nbformat_minor": 5
}
