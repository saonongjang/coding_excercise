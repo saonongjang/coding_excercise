{
 "cells": [
  {
   "cell_type": "markdown",
   "id": "7de87b02",
   "metadata": {},
   "source": [
    "# TKinter를 이용한 계산기 만들기\n",
    "\n",
    "## Gongburo 따라하기"
   ]
  },
  {
   "cell_type": "code",
   "execution_count": 167,
   "id": "26864965",
   "metadata": {},
   "outputs": [],
   "source": [
    "#%% import libararies\n",
    "\n",
    "import tkinter as tk\n",
    "from tkinter import ttk\n"
   ]
  },
  {
   "cell_type": "code",
   "execution_count": 168,
   "id": "c7165df7",
   "metadata": {},
   "outputs": [
    {
     "data": {
      "text/plain": [
       "''"
      ]
     },
     "execution_count": 168,
     "metadata": {},
     "output_type": "execute_result"
    }
   ],
   "source": [
    "#%% create and start window\n",
    "\n",
    "win =tk.Tk()\n",
    "win.title('Calculator for MK')"
   ]
  },
  {
   "cell_type": "code",
   "execution_count": 169,
   "id": "27c257c8",
   "metadata": {},
   "outputs": [],
   "source": [
    "# define functions\n",
    "\n",
    "def button_click(number):\n",
    "    curr_num =entry_box.get()\n",
    "    entry_box.delete(0,tk.END)\n",
    "    entry_box.insert(0,str(curr_num)+str(number))\n",
    "    \n",
    "def button_clear():\n",
    "    entry_box.delete(0,tk.END)\n",
    "    \n",
    "def button_add():\n",
    "    first_num = entry_box.get()\n",
    "    global g_first_num\n",
    "    global g_operation\n",
    "    g_operation ='add'\n",
    "    g_first_num = int(first_num) # 정수만 입력되는 것으로 가정\n",
    "    entry_box.delete(0,tk.END)\n",
    "    \n",
    "def button_subtract():\n",
    "    first_num = entry_box.get()\n",
    "    global g_first_num\n",
    "    global g_operation\n",
    "    g_operation ='subtract'\n",
    "    g_first_num = int(first_num) # 정수만 입력되는 것으로 가정\n",
    "    entry_box.delete(0,tk.END)\n",
    "    \n",
    "def button_multiply():\n",
    "    first_num = entry_box.get()\n",
    "    global g_first_num\n",
    "    global g_operation\n",
    "    g_operation ='multiply'\n",
    "    g_first_num = int(first_num) # 정수만 입력되는 것으로 가정\n",
    "    entry_box.delete(0,tk.END)\n",
    "    \n",
    "def button_divide():\n",
    "    first_num = entry_box.get()\n",
    "    global g_first_num\n",
    "    global g_operation\n",
    "    g_operation ='divide'\n",
    "    g_first_num = int(first_num) # 정수만 입력되는 것으로 가정\n",
    "    entry_box.delete(0,tk.END)\n",
    "    \n",
    "def button_equal():\n",
    "    second_num=entry_box.get()\n",
    "    entry_box.delete(0,tk.END)\n",
    "    if g_operation =='add':\n",
    "        result = g_first_num +int(second_num)\n",
    "        entry_box.insert(0,result)\n",
    "        \n",
    "    elif g_operation == 'subtract':\n",
    "        resutl = g_first_num -int(second_num)\n",
    "        entry_box.insert(0,result)\n",
    "        \n",
    "    elif g_operation == 'multiply':\n",
    "        result = g_first_num *int(second_num)\n",
    "        entry_box.insert(0,result)\n",
    "        \n",
    "    elif g_operation == 'divide':\n",
    "        result= g_first_num /int(second_num)\n",
    "        entry_box.insert(0,result)\n",
    "            "
   ]
  },
  {
   "cell_type": "code",
   "execution_count": 170,
   "id": "ce9c4c1e",
   "metadata": {},
   "outputs": [],
   "source": [
    "#%% create entry box\n",
    "\n",
    "entry_box =tk.Entry(win, width =30, borderwidth=5)\n",
    "entry_box.grid(row=0, column=0, columnspan=4, padx =40, pady=1)\n"
   ]
  },
  {
   "cell_type": "code",
   "execution_count": 171,
   "id": "1528b284",
   "metadata": {},
   "outputs": [],
   "source": [
    "#%% create buttons\n",
    "\n",
    "button_0 = tk.Button(win, text='0',padx=25,pady=15, command=lambda:button_click(0))\n",
    "button_1 = tk.Button(win, text='1',padx=25,pady=15, command=lambda:button_click(1))\n",
    "button_2 = tk.Button(win, text='2',padx=25,pady=15, command=lambda:button_click(2))\n",
    "button_3 = tk.Button(win, text='3',padx=25,pady=15, command=lambda:button_click(3))\n",
    "button_4 = tk.Button(win, text='4',padx=25,pady=15, command=lambda:button_click(4))\n",
    "button_5 = tk.Button(win, text='5',padx=25,pady=15, command=lambda:button_click(5))\n",
    "button_6 = tk.Button(win, text='6',padx=25,pady=15, command=lambda:button_click(6))\n",
    "button_7 = tk.Button(win, text='7',padx=25,pady=15, command=lambda:button_click(7))\n",
    "button_8 = tk.Button(win, text='8',padx=25,pady=15, command=lambda:button_click(8))\n",
    "button_9 = tk.Button(win, text='9',padx=25,pady=15, command=lambda:button_click(9))\n",
    "\n",
    "# 연산 버튼 만들기\n",
    "button_add = tk.Button(win, text='+',padx=25,pady=15,command = button_add)\n",
    "button_subtract = tk.Button(win, text='-',padx=25,pady=15, command = button_subtract)\n",
    "button_multiply = tk.Button(win, text='*',padx=25,pady=15, command = button_multiply)\n",
    "button_divide = tk.Button(win, text='/',padx=25,pady=15, command = button_divide)\n",
    "button_equal = tk.Button(win, text='=',padx=25,pady=15, command = button_equal)\n",
    "button_clear = tk.Button(win, text='C',padx=25,pady=15, command = button_clear)\n",
    "\n",
    "\n",
    "button_7.grid(row=1,column=0)\n",
    "button_8.grid(row=1,column=1)\n",
    "button_9.grid(row=1,column=2)\n",
    "button_divide.grid(row=1,column=3)\n",
    "\n",
    "button_4.grid(row=2,column=0)\n",
    "button_5.grid(row=2,column=1)\n",
    "button_6.grid(row=2,column=2)\n",
    "button_multiply.grid(row=2,column=3)\n",
    "\n",
    "button_1.grid(row=3,column=0)\n",
    "button_2.grid(row=3,column=1)\n",
    "button_3.grid(row=3,column=2)\n",
    "button_subtract.grid(row=3,column=3)\n",
    "\n",
    "button_0.grid(row=4,column=0)\n",
    "button_clear.grid(row=4,column=1,)\n",
    "button_equal.grid(row=4,column=2)\n",
    "button_add.grid(row=4,column=3)\n",
    "\n"
   ]
  },
  {
   "cell_type": "code",
   "execution_count": 172,
   "id": "d51fc799",
   "metadata": {},
   "outputs": [],
   "source": [
    "win.mainloop()"
   ]
  },
  {
   "cell_type": "code",
   "execution_count": null,
   "id": "c15cb158",
   "metadata": {},
   "outputs": [],
   "source": []
  }
 ],
 "metadata": {
  "kernelspec": {
   "display_name": "Python 3 (ipykernel)",
   "language": "python",
   "name": "python3"
  },
  "language_info": {
   "codemirror_mode": {
    "name": "ipython",
    "version": 3
   },
   "file_extension": ".py",
   "mimetype": "text/x-python",
   "name": "python",
   "nbconvert_exporter": "python",
   "pygments_lexer": "ipython3",
   "version": "3.9.7"
  }
 },
 "nbformat": 4,
 "nbformat_minor": 5
}
