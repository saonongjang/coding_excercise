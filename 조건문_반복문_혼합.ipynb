{
  "nbformat": 4,
  "nbformat_minor": 0,
  "metadata": {
    "colab": {
      "name": "조건문_반복문 혼합.ipynb",
      "provenance": [],
      "authorship_tag": "ABX9TyMRhRVtpnOPRco90SN+AfAz",
      "include_colab_link": true
    },
    "kernelspec": {
      "name": "python3",
      "display_name": "Python 3"
    },
    "language_info": {
      "name": "python"
    }
  },
  "cells": [
    {
      "cell_type": "markdown",
      "metadata": {
        "id": "view-in-github",
        "colab_type": "text"
      },
      "source": [
        "<a href=\"https://colab.research.google.com/github/saonongjang/coding_excercise/blob/main/%EC%A1%B0%EA%B1%B4%EB%AC%B8_%EB%B0%98%EB%B3%B5%EB%AC%B8_%ED%98%BC%ED%95%A9.ipynb\" target=\"_parent\"><img src=\"https://colab.research.google.com/assets/colab-badge.svg\" alt=\"Open In Colab\"/></a>"
      ]
    },
    {
      "cell_type": "code",
      "execution_count": 5,
      "metadata": {
        "colab": {
          "base_uri": "https://localhost:8080/"
        },
        "id": "6s7vaAMogQYv",
        "outputId": "64890fdf-cd0e-4df1-d05f-d37570d281cc"
      },
      "outputs": [
        {
          "output_type": "stream",
          "name": "stdout",
          "text": [
            "18\n"
          ]
        }
      ],
      "source": [
        "# 조건문과 반복문을 섞어서 쓰기\n",
        "\n",
        "import numpy as np\n",
        "\n",
        "# Find Max\n",
        "\n",
        "x = np.array([10,15,12,18,16])\n",
        "\n",
        "num_max = np.NINF  #리스트 내에 최대 수를 찾는 것을 함수화\n",
        "for i in x:\n",
        "  num_curr = i\n",
        "  if num_max < num_curr:\n",
        "    num_max = num_curr\n",
        "print(num_max)"
      ]
    },
    {
      "cell_type": "code",
      "source": [
        "#숫자를 홀수와 짝수로 구분\n",
        "\n",
        "x = np.array([1,2,3,4,5,6,7,8,9])\n",
        "for i in x:\n",
        "  if i%2 ==0:\n",
        "    print('{}는 짝수입니다.'.format(i))\n",
        "  else:\n",
        "    print('{}는 홀수입니다'.format(i))\n"
      ],
      "metadata": {
        "colab": {
          "base_uri": "https://localhost:8080/"
        },
        "id": "VyQAhs0shst-",
        "outputId": "48c69700-742a-4bf8-8d6e-a5b22a96ea7e"
      },
      "execution_count": 7,
      "outputs": [
        {
          "output_type": "stream",
          "name": "stdout",
          "text": [
            "1는 홀수입니다\n",
            "2는 짝수입니다.\n",
            "3는 홀수입니다\n",
            "4는 짝수입니다.\n",
            "5는 홀수입니다\n",
            "6는 짝수입니다.\n",
            "7는 홀수입니다\n",
            "8는 짝수입니다.\n",
            "9는 홀수입니다\n"
          ]
        }
      ]
    },
    {
      "cell_type": "code",
      "source": [
        "# 로그인 일정횟수를 제한하는 프로그램\n",
        "\n",
        "UD = User_Database ={'u1':'1111','u2':'2222','u3':'3333'}\n",
        "\n",
        "password_attempts = 3\n",
        "while password_attempts >0:\n",
        "  user_id = input('아이디를 입력하시오:')\n",
        "  user_pw = input('비밀번호를 입력하시오:')\n",
        "  if user_id in UD.keys() and user_pw in UD.values() :\n",
        "    print('성공적으로 로그인되었습니다. ')\n",
        "    break\n",
        "  else:\n",
        "    password_attempts -=1\n",
        "    print('다시입력하여 주십시오')\n",
        "    print('입력 횟수가 {}번 남았습니다.'.format(password_attempts))\n",
        "    "
      ],
      "metadata": {
        "colab": {
          "base_uri": "https://localhost:8080/"
        },
        "id": "GrRgygP1kqig",
        "outputId": "ca3d9706-3121-4413-99f8-6c79288d4fa2"
      },
      "execution_count": 9,
      "outputs": [
        {
          "output_type": "stream",
          "name": "stdout",
          "text": [
            "아이디를 입력하시오:u1\n",
            "비밀번호를 입력하시오:1212\n",
            "다시입력하여 주십시오\n",
            "입력 횟수가 2번 남았습니다.\n",
            "아이디를 입력하시오:u1\n",
            "비밀번호를 입력하시오:1234\n",
            "다시입력하여 주십시오\n",
            "입력 횟수가 1번 남았습니다.\n",
            "아이디를 입력하시오:u3\n",
            "비밀번호를 입력하시오:3333\n",
            "성공적으로 로그인되었습니다. \n"
          ]
        }
      ]
    },
    {
      "cell_type": "code",
      "source": [
        "# list comprehesion --> 일정한 조건으로 바로 리스트를 만들어 주는 방법\n",
        "\n",
        "my_str ='Kyounghobaek'\n",
        "\n",
        "my_str_2 =[letter for letter in my_str]\n",
        "print(my_str_2)"
      ],
      "metadata": {
        "colab": {
          "base_uri": "https://localhost:8080/"
        },
        "id": "tl1lRUiloSiC",
        "outputId": "76bacac5-bea9-4d8e-8636-c2656b3843c6"
      },
      "execution_count": 11,
      "outputs": [
        {
          "output_type": "stream",
          "name": "stdout",
          "text": [
            "['K', 'y', 'o', 'u', 'n', 'g', 'h', 'o', 'b', 'a', 'e', 'k']\n"
          ]
        }
      ]
    },
    {
      "cell_type": "code",
      "source": [
        "num_list =[x for x in range(20) if x%2==0]\n",
        "print(num_list)"
      ],
      "metadata": {
        "colab": {
          "base_uri": "https://localhost:8080/"
        },
        "id": "pKPKQ1TLpinM",
        "outputId": "a9174665-02c8-46ae-d489-ed26fa1a3106"
      },
      "execution_count": 13,
      "outputs": [
        {
          "output_type": "stream",
          "name": "stdout",
          "text": [
            "[0, 2, 4, 6, 8, 10, 12, 14, 16, 18]\n"
          ]
        }
      ]
    },
    {
      "cell_type": "code",
      "source": [
        "num_list =[x for x in range(20) if x%2!=0]\n",
        "print(num_list)"
      ],
      "metadata": {
        "colab": {
          "base_uri": "https://localhost:8080/"
        },
        "id": "4gUjrU1iqQ_R",
        "outputId": "031f7100-73ed-489c-d878-c0dbfa3b3568"
      },
      "execution_count": 14,
      "outputs": [
        {
          "output_type": "stream",
          "name": "stdout",
          "text": [
            "[1, 3, 5, 7, 9, 11, 13, 15, 17, 19]\n"
          ]
        }
      ]
    },
    {
      "cell_type": "code",
      "source": [
        "num_list =[x for x in range(100) if x%2==0 if x%5==0] #짝수이면서 5의 배수\n",
        "print(num_list)"
      ],
      "metadata": {
        "colab": {
          "base_uri": "https://localhost:8080/"
        },
        "id": "NrXDuKusqg2g",
        "outputId": "ebdb0e35-d12e-422d-b989-b92525cb44e5"
      },
      "execution_count": 15,
      "outputs": [
        {
          "output_type": "stream",
          "name": "stdout",
          "text": [
            "[0, 10, 20, 30, 40, 50, 60, 70, 80, 90]\n"
          ]
        }
      ]
    },
    {
      "cell_type": "code",
      "source": [
        "# dictionary comprehesion\n",
        "\n",
        "squares = {x:x**2 for x in range(6)}\n",
        "print(squares)"
      ],
      "metadata": {
        "colab": {
          "base_uri": "https://localhost:8080/"
        },
        "id": "gdsf9vdPq3bI",
        "outputId": "c106d886-b771-4671-d3a7-0c2ac9d419ab"
      },
      "execution_count": 18,
      "outputs": [
        {
          "output_type": "stream",
          "name": "stdout",
          "text": [
            "{0: 0, 1: 1, 2: 4, 3: 9, 4: 16, 5: 25}\n"
          ]
        }
      ]
    },
    {
      "cell_type": "code",
      "source": [
        "import sys, os"
      ],
      "metadata": {
        "id": "dTGbXDmGroVY"
      },
      "execution_count": 19,
      "outputs": []
    },
    {
      "cell_type": "code",
      "source": [
        "print(os.getcwd())"
      ],
      "metadata": {
        "colab": {
          "base_uri": "https://localhost:8080/"
        },
        "id": "N2XoX92itN5h",
        "outputId": "c0c0bc25-8fac-4e77-dee0-4b6b0d049b5d"
      },
      "execution_count": 20,
      "outputs": [
        {
          "output_type": "stream",
          "name": "stdout",
          "text": [
            "/content\n"
          ]
        }
      ]
    },
    {
      "cell_type": "code",
      "source": [
        ""
      ],
      "metadata": {
        "id": "EN696gaTtSiH"
      },
      "execution_count": null,
      "outputs": []
    }
  ]
}