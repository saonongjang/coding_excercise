{
  "nbformat": 4,
  "nbformat_minor": 0,
  "metadata": {
    "colab": {
      "name": "Untitled0.ipynb",
      "provenance": [],
      "authorship_tag": "ABX9TyO3AyOxEWGptVujiB16BDei",
      "include_colab_link": true
    },
    "kernelspec": {
      "name": "python3",
      "display_name": "Python 3"
    },
    "language_info": {
      "name": "python"
    }
  },
  "cells": [
    {
      "cell_type": "markdown",
      "metadata": {
        "id": "view-in-github",
        "colab_type": "text"
      },
      "source": [
        "<a href=\"https://colab.research.google.com/github/saonongjang/coding_excercise/blob/main/coupan_notebook.ipynb\" target=\"_parent\"><img src=\"https://colab.research.google.com/assets/colab-badge.svg\" alt=\"Open In Colab\"/></a>"
      ]
    },
    {
      "cell_type": "code",
      "source": [
        "import requests\n",
        "import re\n",
        "\n",
        "from bs4 import BeautifulSoup\n",
        "url= \"https://www.coupang.com/np/search?q=%EB%85%B8%ED%8A%B8%EB%B6%81&channel=auto&component=&eventCategory=SRP&trcid=&traid=&sorter=scoreDesc&minPrice=&maxPrice=&priceRange=&filterType=&listSize=36&filter=&isPriceRange=false&brand=&offerCondition=&rating=0&page=2&rocketAll=false&searchIndexingToken=1=5&backgroundColor=res = requests.get(url)\"\n",
        "headers = {\"User-Agent\" : \"Mozilla/5.0 (Windows NT 10.0; WOW64) AppleWebKit/537.36 (KHTML, like Gecko) Chrome/98.0.4758.82 Safari/537.36\"}\n",
        "res = requests.get(url,headers=headers)\n",
        "res.raise_for_status()\n",
        "soup = BeautifulSoup(res.text, \"lxml\")\n",
        "\n",
        "# 리뷰 100개 이상 평점4.5이상인 제품만 가려 보기 \n",
        "items =soup.find_all(\"li\", attrs={\"class\":re.compile(\"^search-product\")})\n",
        "for item in items :\n",
        "  name=item.find(\"div\", attrs={\"class\":\"name\"}).get_text() # 제품명 가져오기\n",
        "  price = item.find(\"strong\", attrs={\"class\":\"price-value\"}).get_text() # 가격 가져오기\n",
        "  rate = item.find(\"em\", attrs={\"class\":\"rating\"})\n",
        "  if rate :\n",
        "    rate = rate.get_text()\n",
        "  else:\n",
        "    rate =\"평점 없음\"\n",
        "    print(\"<평점없는 상품은 제외합니다>\")\n",
        "    continue\n",
        "\n",
        "  rate_cnt = item.find(\"span\", attrs={\"class\":\"rating-total-count\"})\n",
        "  if rate_cnt :\n",
        "    rate_cnt = rate_cnt.get_text()\n",
        "    rate_cnt = rate_cnt[1:-1]\n",
        "    print(\"리뷰수\", rate_cnt)\n",
        "    \n",
        "  else:\n",
        "    rate_cnt =\"평점 없음\"\n",
        "\n",
        "  if float(rate) >=4.5 and int(rate_cnt) :\n",
        "     print(name, price, rate, rate_cnt)\n",
        "\n",
        "\n",
        "\n",
        "\n"
      ],
      "metadata": {
        "colab": {
          "base_uri": "https://localhost:8080/"
        },
        "id": "Put4bp_owDdz",
        "outputId": "97bce146-a368-4f54-ca92-cd1da6aa2e88"
      },
      "execution_count": 63,
      "outputs": [
        {
          "output_type": "stream",
          "name": "stdout",
          "text": [
            "리뷰수 7576\n",
            "Apple 2020 맥북 에어 13, 골드, M1, 256GB, 8GB, MAC OS, MGND3KH/A 1,153,060 5.0 7576\n",
            "리뷰수 25\n",
            "레노버 2021 IdeaPad S150-11 PRO, Platinum Grey, 셀러론, 128GB, 4GB, WIN10 Home, 81VT004CKR 690,000 5.0 25\n",
            "리뷰수 224\n",
            "HP 2021 노트북 15s, 내츄럴 실버, 라이젠7 3세대, 512GB, 8GB, WIN10 Home, 15s-eq1158AU 1,225,000 5.0 224\n",
            "리뷰수 221\n",
            "LG전자 2020 울트라 PC 15.6, 화이트, 펜티엄, 256GB, 4GB, Free DOS, 15UD50N-LX20K 820,000 5.0 221\n",
            "리뷰수 374\n",
            "LG전자 2020 울트라 PC 14, 화이트, 셀러론, 256GB, 8GB, WIN10 Home, 14U390-ME1TK 507,000 4.5 374\n",
            "리뷰수 354\n",
            "레노버 2021 ThinkPad E15, 블랙, 라이젠5 4세대, 256GB, 8GB, Free DOS, 20YG0010KD 1,198,450 5.0 354\n",
            "리뷰수 505\n",
            "Apple 2021 맥북프로 14, 실버, M1 Pro 8코어, GPU 14코어, 16GB, 512GB 2,486,500 5.0 505\n",
            "리뷰수 180\n",
            "레노버 2021 노트북 15.6, Abyss Blue, ideaPad Slim3-15ALC R5 82KU, 라이젠5, 256GB, 20GB, Free DOS 1,242,000 5.0 180\n",
            "리뷰수 76\n",
            "레노버 2021 IdeaPad slim1 14, 플레티넘 그레이, ATHLON, 128GB, 4GB, Free DOS, 14ADA05 598,000 4.5 76\n",
            "리뷰수 77\n",
            "삼성전자 2021 갤럭시북 프로 13.3, 미스틱 실버, 코어i5 11세대, 256GB, 16GB, WIN10 Home, NT930XDY-A51AS 1,736,500 5.0 77\n",
            "리뷰수 84\n",
            "에이수스 2021 X415 14, 투명 실버, 코어i5 11세대, 256GB, 8GB, Free DOS, X415EA-EB030 1,168,860 5.0 84\n",
            "리뷰수 11\n",
            "LG전자 2021 울트라 PC 노트북 14, 화이트, 14U30P-E316K, 셀러론, 320GB, 8GB, WIN10 Pro 750,000 5.0 11\n",
            "리뷰수 250\n",
            "삼성전자 갤럭시북 프로360 NT950QDY-A51AS (i5-1135G7 39.6cm WIN10 미스틱실버), 미스틱 실버, 코어i5 11세대, 512GB, 16GB, WIN10 Home 2,990,000 5.0 250\n",
            "리뷰수 180\n",
            "레노버 2021 노트북 15.6, Arctic Grey, ideaPad Slim3-15ALC R5 82KU, 라이젠5, 1280GB, 12GB, Free DOS 1,275,860 5.0 180\n",
            "리뷰수 18\n",
            "레노버 2021 ThinkPad X1 Carbon Gen 9 14, 블랙, 코어i7 11세대, 256GB, 16GB, WIN10 Pro, 20XWS0D300 3,650,000 5.0 18\n",
            "리뷰수 16\n",
            "레노버 2020 V15, 펜티엄, 128GB, 4GB, Free DOS, 82C3001GKR 622,050 5.0 16\n",
            "리뷰수 33\n",
            "HP 2021 노트북 15s, 스노우 화이트, 라이젠7 4세대, 512GB, 8GB, WIN10 Home, 15s-eq2249AU 1,300,500 5.0 33\n",
            "리뷰수 20\n",
            "HP 2021 Pavilion 14, 트랜퀼 핑크 + 내츄럴 실버, 코어i5 11세대, 256GB, 8GB, WIN10 Home, 14-dv0075TU 1,280,000 4.5 20\n",
            "리뷰수 67\n",
            "레노버 2021 ideapad 3D 14, 플래티넘 그레이, Slim3 14IML 81WA00JDKR, 코어i3, 256GB, 4GB, Free DOS 389,000 5.0 67\n",
            "리뷰수 42\n",
            "레노버 2021 V15 GEN2, 아이언 그레이, 코어i3 11세대, 128GB, 4GB, Free DOS, 82KB002GKR 770,000 5.0 42\n",
            "리뷰수 1259\n",
            "LG전자 2020 울트라 PC 15.6, 화이트, 라이젠7 3세대, 256GB, 8GB, Free DOS, 15UD40N-GX76K 919,240 5.0 1259\n",
            "리뷰수 156\n",
            "레노버 2021 IdeaPad Slim3 15.6, SAND, 코어i3 11세대, 256GB, 4GB, WIN10 S, 82H800GCKR 559,000 5.0 156\n",
            "리뷰수 7576\n",
            "Apple 2020 맥북 에어 13, 스페이스 그레이, M1, 256GB, 16GB, MAC OS, Z124000BL 1,466,400 5.0 7576\n",
            "리뷰수 7576\n",
            "Apple 2020 맥북 에어 13, 실버, M1, 256GB, 8GB, MAC OS, MGN93KH/A 1,134,010 5.0 7576\n",
            "리뷰수 516\n",
            "레노버 2021 IdeaPad Slim3 15.6, 샌드, 코어i5 11세대, 256GB, 8GB, WIN10 Home, 82H800H5KR 1,478,000 4.5 516\n",
            "리뷰수 774\n",
            "삼성전자 2020 갤럭시북 S 13.3, 머큐리 그레이, 코어i5, 512GB, 8GB, WIN10 Home, NT767XCL-KLTES 899,000 5.0 774\n",
            "리뷰수 348\n",
            "삼성전자 2021 갤럭시북 프로 360 13.3 + S펜, 미스틱 네이비, 코어i5 11세대, 512GB, 16GB, WIN10 Home, NT930QDY-A51AV 2,397,320 5.0 348\n",
            "리뷰수 25\n",
            "레노버 2021 IdeaPad S150-11 PRO, Ice Blue, 셀러론, 128GB, 4GB, WIN10 Home, 81VT004DKR 323,100 5.0 25\n",
            "리뷰수 16\n",
            "HP 2021 노트북 14s, 실버, 라이젠3 4세대, 256GB, 8GB, WIN11 Home, 14s-fq1073AU 750,000 5.0 16\n",
            "리뷰수 26\n",
            "이그닉 2021 리트북 15.6, 셀러론, 544GB, 4GB, WIN10 Pro, RT-LAP15001 372,000 4.5 26\n",
            "리뷰수 6\n",
            "레노버 2021 V14 GEN2, 아이언 그레이, 코어i3 11세대, 128GB, 4GB, Free DOS, 82KA002JKR 898,000 5.0 6\n",
            "리뷰수 354\n",
            "레노버 2021 ThinkPad E15, 블랙, 라이젠3 4세대, 256GB, 8GB, Free DOS, 20YG000YKD 572,510 5.0 354\n",
            "리뷰수 2\n",
            "한성컴퓨터 2021 노트북 17.3, Black, TFX7130H, 코어i5, 500GB, 16GB, WIN10 Home 1,149,000 5.0 2\n",
            "리뷰수 22\n",
            "기가바이트 2021 노트북 15.6, 블랙, 코어i5, 512GB, 16GB, Free DOS, GIGABYTE G5 KD Gen11 i5 1,316,650 5.0 22\n",
            "리뷰수 22\n",
            "에이수스 2021 VivoBook Flip 14, 투명 실버, 코어i5 11세대, 512GB, 8GB, WIN10 Home, TP470EA-EC054T 907,580 5.0 22\n",
            "리뷰수 18\n",
            "삼성전자 2021 갤럭시북 프로 15.6, 미스틱 블루, NT950XDB-K71AL, 코어i7 11세대, 1TB, 16GB, WIN11 Home 1,598,340 4.5 18\n"
          ]
        }
      ]
    }
  ]
}