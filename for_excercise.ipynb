{
  "nbformat": 4,
  "nbformat_minor": 0,
  "metadata": {
    "colab": {
      "name": "for_excercise.ipynb",
      "provenance": [],
      "authorship_tag": "ABX9TyOmLkx8wgKx4KY2ZiQPSn7V",
      "include_colab_link": true
    },
    "kernelspec": {
      "name": "python3",
      "display_name": "Python 3"
    },
    "language_info": {
      "name": "python"
    }
  },
  "cells": [
    {
      "cell_type": "markdown",
      "metadata": {
        "id": "view-in-github",
        "colab_type": "text"
      },
      "source": [
        "<a href=\"https://colab.research.google.com/github/saonongjang/coding_excercise/blob/main/for_excercise.ipynb\" target=\"_parent\"><img src=\"https://colab.research.google.com/assets/colab-badge.svg\" alt=\"Open In Colab\"/></a>"
      ]
    },
    {
      "cell_type": "code",
      "execution_count": 1,
      "metadata": {
        "id": "naOk29rERUCH"
      },
      "outputs": [],
      "source": [
        "#파이썬 반복문 연습\n",
        "\n",
        "import numpy as np\n",
        "\n",
        "x_list =[1,2,3]\n",
        "x_tuple = (1,2,3)\n",
        "x_set = {1,2,3}\n",
        "x_dict = {'a':1, 'b':2, 'c':3}\n",
        "x_array =np.array([1,2,3,])\n",
        "x_range = range(1,4,1)\n",
        "\n",
        "#반복문은 for VARIABLE in ITERABLE_OBJECT : 의 형태로 이루어진다. \n",
        "#줄바꾸기가 중요. \n"
      ]
    },
    {
      "cell_type": "code",
      "source": [
        "for num in x_list :\n",
        "    print(num)"
      ],
      "metadata": {
        "colab": {
          "base_uri": "https://localhost:8080/"
        },
        "id": "upKCyRwCTRQO",
        "outputId": "bb34cb88-f7f9-419b-c0df-23b874296bf6"
      },
      "execution_count": 2,
      "outputs": [
        {
          "output_type": "stream",
          "name": "stdout",
          "text": [
            "1\n",
            "2\n",
            "3\n"
          ]
        }
      ]
    },
    {
      "cell_type": "code",
      "source": [
        "for num in x_tuple :\n",
        "    print(num)"
      ],
      "metadata": {
        "colab": {
          "base_uri": "https://localhost:8080/"
        },
        "id": "hND1MFiZTZ3P",
        "outputId": "c0a2393f-b8f5-4738-aece-fb960c7fcd06"
      },
      "execution_count": 4,
      "outputs": [
        {
          "output_type": "stream",
          "name": "stdout",
          "text": [
            "1\n",
            "2\n",
            "3\n"
          ]
        }
      ]
    },
    {
      "cell_type": "code",
      "source": [
        "for num in x_set :\n",
        "    print(num)"
      ],
      "metadata": {
        "colab": {
          "base_uri": "https://localhost:8080/"
        },
        "id": "KXSqibCKUale",
        "outputId": "783ade55-6101-41cf-e309-3e274679a86e"
      },
      "execution_count": 5,
      "outputs": [
        {
          "output_type": "stream",
          "name": "stdout",
          "text": [
            "1\n",
            "2\n",
            "3\n"
          ]
        }
      ]
    },
    {
      "cell_type": "code",
      "source": [
        "for num in x_dict :\n",
        "    print(num)"
      ],
      "metadata": {
        "colab": {
          "base_uri": "https://localhost:8080/"
        },
        "id": "XjWS-dudUmHH",
        "outputId": "d2185f55-c2dd-4282-f226-5ae85f560f55"
      },
      "execution_count": 6,
      "outputs": [
        {
          "output_type": "stream",
          "name": "stdout",
          "text": [
            "a\n",
            "b\n",
            "c\n"
          ]
        }
      ]
    },
    {
      "cell_type": "code",
      "source": [
        "for num in x_array :\n",
        "    print(num)"
      ],
      "metadata": {
        "colab": {
          "base_uri": "https://localhost:8080/"
        },
        "id": "9E7o75GOUrdV",
        "outputId": "9afbc3b0-c9d4-48c7-b072-764afbb32238"
      },
      "execution_count": 7,
      "outputs": [
        {
          "output_type": "stream",
          "name": "stdout",
          "text": [
            "1\n",
            "2\n",
            "3\n"
          ]
        }
      ]
    },
    {
      "cell_type": "code",
      "source": [
        "for num in x_range :\n",
        "    print(num)"
      ],
      "metadata": {
        "colab": {
          "base_uri": "https://localhost:8080/"
        },
        "id": "LS6I4w6eUziu",
        "outputId": "de5fd8c5-a940-4006-ad1b-66b1f2a3672d"
      },
      "execution_count": 8,
      "outputs": [
        {
          "output_type": "stream",
          "name": "stdout",
          "text": [
            "1\n",
            "2\n",
            "3\n"
          ]
        }
      ]
    },
    {
      "cell_type": "code",
      "source": [
        "# 반복문을 이용하여 i=1~10까지 만들기\n",
        "\n",
        "import time #순서대로 돌아가는 것을 보기 위해 time함수를 임포트\n",
        "for i in range(1,10,1):  #array로 지정을 하면 for i in np.linspace(1,100,100) :가 된다\n",
        "    print(\"i=\" +str(i))\n",
        "    time.sleep(1)"
      ],
      "metadata": {
        "colab": {
          "base_uri": "https://localhost:8080/"
        },
        "id": "9V_vljxiU6M_",
        "outputId": "5c174ab7-e8b2-42e4-eaef-01097bc903f7"
      },
      "execution_count": 12,
      "outputs": [
        {
          "output_type": "stream",
          "name": "stdout",
          "text": [
            "i=1\n",
            "i=2\n",
            "i=3\n",
            "i=4\n",
            "i=5\n",
            "i=6\n",
            "i=7\n",
            "i=8\n",
            "i=9\n"
          ]
        }
      ]
    },
    {
      "cell_type": "code",
      "source": [
        "#String을 조건문으로 만들기\n",
        "\n",
        "for i in '12345':\n",
        "    print('i=' +i)\n",
        "    time.sleep(1)"
      ],
      "metadata": {
        "colab": {
          "base_uri": "https://localhost:8080/"
        },
        "id": "qgAOBmqKWecB",
        "outputId": "56576b6c-bc16-4f19-ac2c-39db74aa1b12"
      },
      "execution_count": 13,
      "outputs": [
        {
          "output_type": "stream",
          "name": "stdout",
          "text": [
            "i=1\n",
            "i=2\n",
            "i=3\n",
            "i=4\n",
            "i=5\n"
          ]
        }
      ]
    },
    {
      "cell_type": "code",
      "source": [
        "for i in 'abcde':\n",
        "    print('i=' +i)\n",
        "    time.sleep(1)"
      ],
      "metadata": {
        "colab": {
          "base_uri": "https://localhost:8080/"
        },
        "id": "Pkg0SpXWgx8K",
        "outputId": "213ebc04-ea09-4b1d-f127-d95d6e5a6fe4"
      },
      "execution_count": 14,
      "outputs": [
        {
          "output_type": "stream",
          "name": "stdout",
          "text": [
            "i=a\n",
            "i=b\n",
            "i=c\n",
            "i=d\n",
            "i=e\n"
          ]
        }
      ]
    },
    {
      "cell_type": "code",
      "source": [
        "#dictionary를 조건문을 사용하기\n",
        "\n",
        "D = {'P1':20, 'P2':22, 'P3':24}\n",
        "for i in D.items() :   #key값 또는 value값만 불러올 경우 keys, values 변수를 쓴다.\n",
        "    print('i=' +str(i))\n",
        "    time.sleep(1)"
      ],
      "metadata": {
        "colab": {
          "base_uri": "https://localhost:8080/"
        },
        "id": "REKE8zzHhBYe",
        "outputId": "eb25467c-9ddb-4d32-ee7a-5e77c69ab413"
      },
      "execution_count": 19,
      "outputs": [
        {
          "output_type": "stream",
          "name": "stdout",
          "text": [
            "i=('P1', 20)\n",
            "i=('P2', 22)\n",
            "i=('P3', 24)\n"
          ]
        }
      ]
    },
    {
      "cell_type": "code",
      "source": [
        "#Multiple loops\n",
        "\n",
        "for i in [1,2,3]:\n",
        "    for j in [1,2,3]:\n",
        "        print('i=', str(i))\n",
        "        print('j=',str(j))\n",
        "        print('')\n",
        "        time.sleep(1)"
      ],
      "metadata": {
        "colab": {
          "base_uri": "https://localhost:8080/"
        },
        "id": "qcX0fHcciY2N",
        "outputId": "ad8a651e-c9ab-456b-f398-eee02b8ae4ef"
      },
      "execution_count": 22,
      "outputs": [
        {
          "output_type": "stream",
          "name": "stdout",
          "text": [
            "i= 1\n",
            "j= 1\n",
            "\n",
            "i= 1\n",
            "j= 2\n",
            "\n",
            "i= 1\n",
            "j= 3\n",
            "\n",
            "i= 2\n",
            "j= 1\n",
            "\n",
            "i= 2\n",
            "j= 2\n",
            "\n",
            "i= 2\n",
            "j= 3\n",
            "\n",
            "i= 3\n",
            "j= 1\n",
            "\n",
            "i= 3\n",
            "j= 2\n",
            "\n",
            "i= 3\n",
            "j= 3\n",
            "\n"
          ]
        }
      ]
    },
    {
      "cell_type": "code",
      "source": [
        "#구구단 실행하기\n",
        "\n",
        "for i in [1,2,3]:\n",
        "    for j in [1,2,3] :\n",
        "        print('i*j={}*{}={}'.format(i,j,i*j))\n",
        "        time.sleep(1)\n",
        "    print('') #한개의 단이 끝날 때마다 한칸씩 띄우기"
      ],
      "metadata": {
        "colab": {
          "base_uri": "https://localhost:8080/"
        },
        "id": "JDyw3_lLj_Yy",
        "outputId": "a414b9e9-45c3-4aa3-b64c-d1e6a3885fac"
      },
      "execution_count": 25,
      "outputs": [
        {
          "output_type": "stream",
          "name": "stdout",
          "text": [
            "i*j=1*1=1\n",
            "i*j=1*2=2\n",
            "i*j=1*3=3\n",
            "\n",
            "i*j=2*1=2\n",
            "i*j=2*2=4\n",
            "i*j=2*3=6\n",
            "\n",
            "i*j=3*1=3\n",
            "i*j=3*2=6\n",
            "i*j=3*3=9\n",
            "\n"
          ]
        }
      ]
    },
    {
      "cell_type": "code",
      "source": [
        "#iteration에 대한 이해 - 순서대로 불러올 수 있는 데이터로 변환\n",
        "\n",
        "x_list = [1,2,3]\n",
        "x_iter = iter(x_list)\n",
        "next(x_iter) #next명령이 실행될 때마다 순차적으로 데이터를 보여줌\n",
        "next(x_iter)\n"
      ],
      "metadata": {
        "colab": {
          "base_uri": "https://localhost:8080/"
        },
        "id": "kKNuDnKzlH5s",
        "outputId": "ff331e0b-3af0-41db-8893-14efe4c3fe5a"
      },
      "execution_count": 28,
      "outputs": [
        {
          "output_type": "execute_result",
          "data": {
            "text/plain": [
              "2"
            ]
          },
          "metadata": {},
          "execution_count": 28
        }
      ]
    },
    {
      "cell_type": "code",
      "source": [
        "x_str  = 'Python'\n",
        "x_iter = iter(x_str)\n",
        "next(x_iter) \n",
        "next(x_iter)\n",
        "next(x_iter) \n",
        "next(x_iter)"
      ],
      "metadata": {
        "colab": {
          "base_uri": "https://localhost:8080/",
          "height": 35
        },
        "id": "6vIMW6tomOpE",
        "outputId": "5b869c87-be07-4338-f568-2c7dd409f08b"
      },
      "execution_count": 32,
      "outputs": [
        {
          "output_type": "execute_result",
          "data": {
            "application/vnd.google.colaboratory.intrinsic+json": {
              "type": "string"
            },
            "text/plain": [
              "'h'"
            ]
          },
          "metadata": {},
          "execution_count": 32
        }
      ]
    },
    {
      "cell_type": "code",
      "source": [
        "#Enumerate : 리스트나 튜플, array등의 값을 인덱스를 포함하는 값으로 바꿔 줌\n",
        "\n",
        "M = np.array([10,20,30])\n",
        "VIP = ['Newton', 'Kepler', 'Euler']\n",
        "PD = {'P1':25, 'P2':27, 'P3':29}\n",
        "\n",
        "for idx, value in enumerate(PD.items()) :\n",
        "    print(idx)\n",
        "    print(value)\n",
        "    print('')\n",
        "    time.sleep(1)"
      ],
      "metadata": {
        "colab": {
          "base_uri": "https://localhost:8080/"
        },
        "id": "HBEkGQ5qmtI8",
        "outputId": "a2df0715-c06d-4693-fe90-439fca0d41fa"
      },
      "execution_count": 40,
      "outputs": [
        {
          "output_type": "stream",
          "name": "stdout",
          "text": [
            "0\n",
            "('P1', 25)\n",
            "\n",
            "1\n",
            "('P2', 27)\n",
            "\n",
            "2\n",
            "('P3', 29)\n",
            "\n"
          ]
        }
      ]
    },
    {
      "cell_type": "code",
      "source": [
        "M = np.array([10,20,30])\n",
        "VIP = ['Newton', 'Kepler', 'Euler']\n",
        "PD = {'P1':25, 'P2':27, 'P3':29}\n",
        "\n",
        "for idx, value in enumerate(VIP) :\n",
        "    print(idx)\n",
        "    print(value)\n",
        "    print('')\n",
        "    time.sleep(1)"
      ],
      "metadata": {
        "colab": {
          "base_uri": "https://localhost:8080/"
        },
        "id": "tmRhg3fWpM4e",
        "outputId": "85e7aee0-b24e-4797-9f25-0b3f7647a85e"
      },
      "execution_count": 41,
      "outputs": [
        {
          "output_type": "stream",
          "name": "stdout",
          "text": [
            "0\n",
            "Newton\n",
            "\n",
            "1\n",
            "Kepler\n",
            "\n",
            "2\n",
            "Euler\n",
            "\n"
          ]
        }
      ]
    },
    {
      "cell_type": "code",
      "source": [
        "#반복문이 몇번 실행되었는지 카운트 하기\n",
        "\n",
        "for cnt, values in enumerate(PD.values(), start=1) : #초기값이 0임으로 1로 바꿔줌\n",
        "    print(cnt)\n",
        "    print('')\n",
        "    time.sleep(1)"
      ],
      "metadata": {
        "colab": {
          "base_uri": "https://localhost:8080/"
        },
        "id": "dvU4fWxrqJSN",
        "outputId": "d1d5cfa7-a0e8-4c81-b7bd-2a9d430e98e9"
      },
      "execution_count": 42,
      "outputs": [
        {
          "output_type": "stream",
          "name": "stdout",
          "text": [
            "1\n",
            "\n",
            "2\n",
            "\n",
            "3\n",
            "\n"
          ]
        }
      ]
    },
    {
      "cell_type": "code",
      "source": [
        "#zip을 사용하여 위 세가지 데이터를 합쳐서 보여주기\n",
        "\n",
        "for i in zip(M,VIP,PD.items()):\n",
        "    print(i)\n",
        "    time.sleep(1)"
      ],
      "metadata": {
        "colab": {
          "base_uri": "https://localhost:8080/"
        },
        "id": "XQvb5jXOq1YC",
        "outputId": "17dd98eb-48fb-4f8a-e31d-d99cf8d67a66"
      },
      "execution_count": 43,
      "outputs": [
        {
          "output_type": "stream",
          "name": "stdout",
          "text": [
            "(10, 'Newton', ('P1', 25))\n",
            "(20, 'Kepler', ('P2', 27))\n",
            "(30, 'Euler', ('P3', 29))\n"
          ]
        }
      ]
    },
    {
      "cell_type": "code",
      "source": [
        "#반복문의 활용 _ 단순 반복\n",
        "\n",
        "s = '우리 민결이가 최고야 뽀뽀뽀~~~!!'\n",
        "for i in range(10):\n",
        "    print(s)\n",
        "    print('')"
      ],
      "metadata": {
        "colab": {
          "base_uri": "https://localhost:8080/"
        },
        "id": "9wjRU7uWrcQ7",
        "outputId": "f22559e9-48dc-4277-f0e1-3176f51836ce"
      },
      "execution_count": 44,
      "outputs": [
        {
          "output_type": "stream",
          "name": "stdout",
          "text": [
            "우리 민결이가 최고야 뽀뽀뽀~~~!!\n",
            "\n",
            "우리 민결이가 최고야 뽀뽀뽀~~~!!\n",
            "\n",
            "우리 민결이가 최고야 뽀뽀뽀~~~!!\n",
            "\n",
            "우리 민결이가 최고야 뽀뽀뽀~~~!!\n",
            "\n",
            "우리 민결이가 최고야 뽀뽀뽀~~~!!\n",
            "\n",
            "우리 민결이가 최고야 뽀뽀뽀~~~!!\n",
            "\n",
            "우리 민결이가 최고야 뽀뽀뽀~~~!!\n",
            "\n",
            "우리 민결이가 최고야 뽀뽀뽀~~~!!\n",
            "\n",
            "우리 민결이가 최고야 뽀뽀뽀~~~!!\n",
            "\n",
            "우리 민결이가 최고야 뽀뽀뽀~~~!!\n",
            "\n"
          ]
        }
      ]
    },
    {
      "cell_type": "code",
      "source": [
        "#파티에서의 Name-Tag 만들기\n",
        "\n",
        "VIP =['Kepler', 'Newton', 'Euler']\n",
        "for i in VIP :\n",
        "    print('Name :', i)\n",
        "    print('Scientist Party')\n",
        "    print('')"
      ],
      "metadata": {
        "colab": {
          "base_uri": "https://localhost:8080/"
        },
        "id": "W1fyYilAsLBj",
        "outputId": "7efe3796-2285-4e74-fd62-14cbde65d573"
      },
      "execution_count": 46,
      "outputs": [
        {
          "output_type": "stream",
          "name": "stdout",
          "text": [
            "Name : Kepler\n",
            "Scientist Party\n",
            "\n",
            "Name : Newton\n",
            "Scientist Party\n",
            "\n",
            "Name : Euler\n",
            "Scientist Party\n",
            "\n"
          ]
        }
      ]
    },
    {
      "cell_type": "code",
      "source": [
        "#피보나치 수열 만들기\n",
        "\n",
        "fib = np.array([0,1])\n",
        "N =10\n",
        "for i in range(N-2):\n",
        "    fib = np.append(fib, fib[-1]+fib[-2])\n",
        "    print(fib)\n",
        "    time.sleep(0.1)"
      ],
      "metadata": {
        "colab": {
          "base_uri": "https://localhost:8080/"
        },
        "id": "dgL5En3ss18v",
        "outputId": "37cb8198-7bdb-4de8-e609-51035a96ac3a"
      },
      "execution_count": 48,
      "outputs": [
        {
          "output_type": "stream",
          "name": "stdout",
          "text": [
            "[0 1 1]\n",
            "[0 1 1 2]\n",
            "[0 1 1 2 3]\n",
            "[0 1 1 2 3 5]\n",
            "[0 1 1 2 3 5 8]\n",
            "[ 0  1  1  2  3  5  8 13]\n",
            "[ 0  1  1  2  3  5  8 13 21]\n",
            "[ 0  1  1  2  3  5  8 13 21 34]\n"
          ]
        }
      ]
    },
    {
      "cell_type": "code",
      "source": [
        "a,b = 0,1\n",
        "for i in range(10) :\n",
        "    print(a)\n",
        "    a, b = b, a+b\n",
        "    time.sleep(0.5)"
      ],
      "metadata": {
        "colab": {
          "base_uri": "https://localhost:8080/"
        },
        "id": "EgmhWP2lxs1V",
        "outputId": "40732f2c-9532-4597-c6d4-05addcc6b659"
      },
      "execution_count": 49,
      "outputs": [
        {
          "output_type": "stream",
          "name": "stdout",
          "text": [
            "0\n",
            "1\n",
            "1\n",
            "2\n",
            "3\n",
            "5\n",
            "8\n",
            "13\n",
            "21\n",
            "34\n"
          ]
        }
      ]
    },
    {
      "cell_type": "code",
      "source": [
        "#반복문을 사용하여 애니메이션 효과 내기\n",
        "\n",
        "import numpy as np\n",
        "import time\n",
        "import matplotlib.pyplot as plt\n",
        "\n",
        "t = np.linspace(0,1,100)\n",
        "phase = 0\n",
        "y = np.sin(2*np.pi*1*(t-phase))\n",
        "\n",
        "fig, ax = plt.subplots()\n",
        "line, = ax.plot(t,y)\n",
        "ax.set_xlabel('t[s]')\n",
        "ax.set_ylabel('Sin Graph')\n",
        "\n",
        "phase_array =np.linspace(0,1,100)\n",
        "for phase in phase_array :\n",
        "    y= np.sin(2*np.pi*1*(t-phase))\n",
        "    line.set_ydata(y)\n",
        "    plt.pause(0.2)\n"
      ],
      "metadata": {
        "colab": {
          "base_uri": "https://localhost:8080/",
          "height": 279
        },
        "id": "XCJV8gK8y_Ta",
        "outputId": "20cf15cd-492c-46b5-a7a7-7b0bde691143"
      },
      "execution_count": 53,
      "outputs": [
        {
          "output_type": "display_data",
          "data": {
            "image/png": "[encoded data removed]",
            "text/plain": [
              "<Figure size 432x288 with 1 Axes>"
            ]
          },
          "metadata": {
            "needs_background": "light"
          }
        }
      ]
    },
    {
      "cell_type": "code",
      "source": [
        ""
      ],
      "metadata": {
        "id": "rhEh7qN11Nn0"
      },
      "execution_count": null,
      "outputs": []
    }
  ]
}