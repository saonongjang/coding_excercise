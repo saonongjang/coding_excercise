{
  "nbformat": 4,
  "nbformat_minor": 0,
  "metadata": {
    "colab": {
      "name": "Timeseries.ipynb",
      "provenance": [],
      "authorship_tag": "ABX9TyOidYzxneGUjXjkLqASLe5n",
      "include_colab_link": true
    },
    "kernelspec": {
      "name": "python3",
      "display_name": "Python 3"
    },
    "language_info": {
      "name": "python"
    }
  },
  "cells": [
    {
      "cell_type": "markdown",
      "metadata": {
        "id": "view-in-github",
        "colab_type": "text"
      },
      "source": [
        "<a href=\"https://colab.research.google.com/github/saonongjang/coding_excercise/blob/main/Timeseries.ipynb\" target=\"_parent\"><img src=\"https://colab.research.google.com/assets/colab-badge.svg\" alt=\"Open In Colab\"/></a>"
      ]
    },
    {
      "cell_type": "markdown",
      "source": [
        "## 문자열 연산"
      ],
      "metadata": {
        "id": "FETv43QNdmMe"
      }
    },
    {
      "cell_type": "code",
      "source": [
        "# 문자열 연산자\n",
        "\n",
        "import pandas as pd\n",
        "import numpy as np"
      ],
      "metadata": {
        "id": "FomEnNVcdp7R"
      },
      "execution_count": 1,
      "outputs": []
    },
    {
      "cell_type": "code",
      "source": [
        "name_tuple = ['MK Baek', 'Steve J', 'Larry P', 'Elon M', None, 'Bill C', 'Mark J', 'Jeff B']\n",
        "name_tuple"
      ],
      "metadata": {
        "colab": {
          "base_uri": "https://localhost:8080/"
        },
        "id": "mE_-cViMdzjZ",
        "outputId": "d490ebc9-4602-4d43-f273-6eb06ca009a1"
      },
      "execution_count": 9,
      "outputs": [
        {
          "output_type": "execute_result",
          "data": {
            "text/plain": [
              "['MK Baek', 'Steve J', 'Larry P', 'Elon M', None, 'Bill C', 'Mark J', 'Jeff B']"
            ]
          },
          "metadata": {},
          "execution_count": 9
        }
      ]
    },
    {
      "cell_type": "code",
      "source": [
        "# 시리즈로 만들기\n",
        "\n",
        "names = pd.Series(name_tuple)\n",
        "names"
      ],
      "metadata": {
        "colab": {
          "base_uri": "https://localhost:8080/"
        },
        "id": "kfvfX10heSQZ",
        "outputId": "818f2986-10a8-409e-d183-c3659887d105"
      },
      "execution_count": 10,
      "outputs": [
        {
          "output_type": "execute_result",
          "data": {
            "text/plain": [
              "0    MK Baek\n",
              "1    Steve J\n",
              "2    Larry P\n",
              "3     Elon M\n",
              "4       None\n",
              "5     Bill C\n",
              "6     Mark J\n",
              "7     Jeff B\n",
              "dtype: object"
            ]
          },
          "metadata": {},
          "execution_count": 10
        }
      ]
    },
    {
      "cell_type": "code",
      "source": [
        "# 모든 문자 소문자로 만들기\n",
        "\n",
        "names.str.lower()"
      ],
      "metadata": {
        "colab": {
          "base_uri": "https://localhost:8080/"
        },
        "id": "3-hlYS24e2_c",
        "outputId": "79069d4d-ad40-450b-dea1-8e31847ddbe0"
      },
      "execution_count": 11,
      "outputs": [
        {
          "output_type": "execute_result",
          "data": {
            "text/plain": [
              "0    mk baek\n",
              "1    steve j\n",
              "2    larry p\n",
              "3     elon m\n",
              "4       None\n",
              "5     bill c\n",
              "6     mark j\n",
              "7     jeff b\n",
              "dtype: object"
            ]
          },
          "metadata": {},
          "execution_count": 11
        }
      ]
    },
    {
      "cell_type": "code",
      "source": [
        "# 문자길이 구하기\n",
        "\n",
        "names.str.len()"
      ],
      "metadata": {
        "colab": {
          "base_uri": "https://localhost:8080/"
        },
        "id": "yc2Ft7sggXaJ",
        "outputId": "4190996e-21b1-4d90-c7a7-15b8c4d6881f"
      },
      "execution_count": 12,
      "outputs": [
        {
          "output_type": "execute_result",
          "data": {
            "text/plain": [
              "0    7.0\n",
              "1    7.0\n",
              "2    7.0\n",
              "3    6.0\n",
              "4    NaN\n",
              "5    6.0\n",
              "6    6.0\n",
              "7    6.0\n",
              "dtype: float64"
            ]
          },
          "metadata": {},
          "execution_count": 12
        }
      ]
    },
    {
      "cell_type": "code",
      "source": [
        "names.str.split()"
      ],
      "metadata": {
        "colab": {
          "base_uri": "https://localhost:8080/"
        },
        "id": "JK_hKNj3i-Np",
        "outputId": "d58aac6d-9b4d-432d-9e14-12fd724d3733"
      },
      "execution_count": 14,
      "outputs": [
        {
          "output_type": "execute_result",
          "data": {
            "text/plain": [
              "0    [MK, Baek]\n",
              "1    [Steve, J]\n",
              "2    [Larry, P]\n",
              "3     [Elon, M]\n",
              "4          None\n",
              "5     [Bill, C]\n",
              "6     [Mark, J]\n",
              "7     [Jeff, B]\n",
              "dtype: object"
            ]
          },
          "metadata": {},
          "execution_count": 14
        }
      ]
    },
    {
      "cell_type": "markdown",
      "source": [
        "###기타 연산자"
      ],
      "metadata": {
        "id": "sgs9JKE5iVF8"
      }
    },
    {
      "cell_type": "code",
      "source": [
        "names.str[0:4]"
      ],
      "metadata": {
        "colab": {
          "base_uri": "https://localhost:8080/"
        },
        "id": "d11J9C8RiXgo",
        "outputId": "91975978-3849-4fab-c921-9e8c835d56c1"
      },
      "execution_count": 13,
      "outputs": [
        {
          "output_type": "execute_result",
          "data": {
            "text/plain": [
              "0    MK B\n",
              "1    Stev\n",
              "2    Larr\n",
              "3    Elon\n",
              "4    None\n",
              "5    Bill\n",
              "6    Mark\n",
              "7    Jeff\n",
              "dtype: object"
            ]
          },
          "metadata": {},
          "execution_count": 13
        }
      ]
    },
    {
      "cell_type": "code",
      "source": [
        "names.str.split().str.get(-1)"
      ],
      "metadata": {
        "colab": {
          "base_uri": "https://localhost:8080/"
        },
        "id": "ioyR8zCSifUp",
        "outputId": "f6a41e74-19e0-4f63-f1e0-1d1ff50ba118"
      },
      "execution_count": 15,
      "outputs": [
        {
          "output_type": "execute_result",
          "data": {
            "text/plain": [
              "0    Baek\n",
              "1       J\n",
              "2       P\n",
              "3       M\n",
              "4    None\n",
              "5       C\n",
              "6       J\n",
              "7       B\n",
              "dtype: object"
            ]
          },
          "metadata": {},
          "execution_count": 15
        }
      ]
    },
    {
      "cell_type": "code",
      "source": [
        "names.str.repeat(2)"
      ],
      "metadata": {
        "colab": {
          "base_uri": "https://localhost:8080/"
        },
        "id": "PP38sVn_j1VQ",
        "outputId": "fcf7cfb0-7285-415c-d0fd-2a4fa04b2e51"
      },
      "execution_count": 17,
      "outputs": [
        {
          "output_type": "execute_result",
          "data": {
            "text/plain": [
              "0    MK BaekMK Baek\n",
              "1    Steve JSteve J\n",
              "2    Larry PLarry P\n",
              "3      Elon MElon M\n",
              "4              None\n",
              "5      Bill CBill C\n",
              "6      Mark JMark J\n",
              "7      Jeff BJeff B\n",
              "dtype: object"
            ]
          },
          "metadata": {},
          "execution_count": 17
        }
      ]
    },
    {
      "cell_type": "code",
      "source": [
        "names.str.join('%')"
      ],
      "metadata": {
        "colab": {
          "base_uri": "https://localhost:8080/"
        },
        "id": "oilOVsQUkGwR",
        "outputId": "bde189f2-e1c1-4591-f4a7-7724b9219c3c"
      },
      "execution_count": 19,
      "outputs": [
        {
          "output_type": "execute_result",
          "data": {
            "text/plain": [
              "0    M%K% %B%a%e%k\n",
              "1    S%t%e%v%e% %J\n",
              "2    L%a%r%r%y% %P\n",
              "3      E%l%o%n% %M\n",
              "4             None\n",
              "5      B%i%l%l% %C\n",
              "6      M%a%r%k% %J\n",
              "7      J%e%f%f% %B\n",
              "dtype: object"
            ]
          },
          "metadata": {},
          "execution_count": 19
        }
      ]
    },
    {
      "cell_type": "markdown",
      "source": [
        "### 정규표현식"
      ],
      "metadata": {
        "id": "6ItxR6ONkhcw"
      }
    },
    {
      "cell_type": "code",
      "source": [
        "#해당 범위내의 알파벳인가를 검증\n",
        "\n",
        "names.str.match('([A-Za-z]+)')"
      ],
      "metadata": {
        "colab": {
          "base_uri": "https://localhost:8080/"
        },
        "id": "d7ELFm_xklTQ",
        "outputId": "dd269aef-829c-4022-dfcb-7a0007bdd8bc"
      },
      "execution_count": 20,
      "outputs": [
        {
          "output_type": "execute_result",
          "data": {
            "text/plain": [
              "0    True\n",
              "1    True\n",
              "2    True\n",
              "3    True\n",
              "4    None\n",
              "5    True\n",
              "6    True\n",
              "7    True\n",
              "dtype: object"
            ]
          },
          "metadata": {},
          "execution_count": 20
        }
      ]
    },
    {
      "cell_type": "code",
      "source": [
        "names.str.findall('([A-Za-z]+)')"
      ],
      "metadata": {
        "colab": {
          "base_uri": "https://localhost:8080/"
        },
        "id": "4LAADlPRlReJ",
        "outputId": "669eceff-0d56-4012-a732-1830719bb975"
      },
      "execution_count": 21,
      "outputs": [
        {
          "output_type": "execute_result",
          "data": {
            "text/plain": [
              "0    [MK, Baek]\n",
              "1    [Steve, J]\n",
              "2    [Larry, P]\n",
              "3     [Elon, M]\n",
              "4          None\n",
              "5     [Bill, C]\n",
              "6     [Mark, J]\n",
              "7     [Jeff, B]\n",
              "dtype: object"
            ]
          },
          "metadata": {},
          "execution_count": 21
        }
      ]
    },
    {
      "cell_type": "markdown",
      "source": [
        "### 시계열 처리"
      ],
      "metadata": {
        "id": "45FcDcWolZmf"
      }
    },
    {
      "cell_type": "code",
      "source": [
        "idx = pd.DatetimeIndex(['2019-01-01','2020-01-01','2020-02-01','2020-02-02','2020-03-01'])\n",
        "s = pd.Series([0,1,2,3,4], index=idx)\n",
        "s"
      ],
      "metadata": {
        "colab": {
          "base_uri": "https://localhost:8080/"
        },
        "id": "xJ__zgjwlcdY",
        "outputId": "5c18fd3b-1605-4e48-a0cb-a9be205535a5"
      },
      "execution_count": 23,
      "outputs": [
        {
          "output_type": "execute_result",
          "data": {
            "text/plain": [
              "2019-01-01    0\n",
              "2020-01-01    1\n",
              "2020-02-01    2\n",
              "2020-02-02    3\n",
              "2020-03-01    4\n",
              "dtype: int64"
            ]
          },
          "metadata": {},
          "execution_count": 23
        }
      ]
    },
    {
      "cell_type": "code",
      "source": [
        "#날짜 기준으로 슬라이싱 하기\n",
        "\n",
        "s['2020-01-01':]"
      ],
      "metadata": {
        "colab": {
          "base_uri": "https://localhost:8080/"
        },
        "id": "xgVbRhhgmJwr",
        "outputId": "30264d3e-d124-40ed-f483-fed671e2049c"
      },
      "execution_count": 24,
      "outputs": [
        {
          "output_type": "execute_result",
          "data": {
            "text/plain": [
              "2020-01-01    1\n",
              "2020-02-01    2\n",
              "2020-02-02    3\n",
              "2020-03-01    4\n",
              "dtype: int64"
            ]
          },
          "metadata": {},
          "execution_count": 24
        }
      ]
    },
    {
      "cell_type": "code",
      "source": [
        "s[:'2020-01-01'] # 지정된 날짜를 포함하여 이전 날짜까지의 데이터"
      ],
      "metadata": {
        "colab": {
          "base_uri": "https://localhost:8080/"
        },
        "id": "rcaEKM6Fmiwq",
        "outputId": "4037a33d-ba13-4fb5-a4a5-0c7afe0e8b0e"
      },
      "execution_count": 25,
      "outputs": [
        {
          "output_type": "execute_result",
          "data": {
            "text/plain": [
              "2019-01-01    0\n",
              "2020-01-01    1\n",
              "dtype: int64"
            ]
          },
          "metadata": {},
          "execution_count": 25
        }
      ]
    },
    {
      "cell_type": "code",
      "source": [
        "#특정 연도만 보여주기\n",
        "\n",
        "s['2019']"
      ],
      "metadata": {
        "colab": {
          "base_uri": "https://localhost:8080/"
        },
        "id": "jHj5uydAmvop",
        "outputId": "88ff48f5-2c1e-4296-9cd2-399f098a9420"
      },
      "execution_count": 26,
      "outputs": [
        {
          "output_type": "execute_result",
          "data": {
            "text/plain": [
              "2019-01-01    0\n",
              "dtype: int64"
            ]
          },
          "metadata": {},
          "execution_count": 26
        }
      ]
    },
    {
      "cell_type": "markdown",
      "source": [
        "### 시계열 데이터 구조"
      ],
      "metadata": {
        "id": "DvrkAsa0nZlm"
      }
    },
    {
      "cell_type": "code",
      "source": [
        "from datetime import datetime\n",
        "dates = pd.to_datetime(['12-12-2019', datetime(2020,1,1), '2nd of Feb, 2020', '2020-Mar-4', '20200701']) #어떤 형태이든 날짜 인식\n",
        "dates"
      ],
      "metadata": {
        "colab": {
          "base_uri": "https://localhost:8080/"
        },
        "id": "8Wm_Z1F8nelQ",
        "outputId": "69667411-9802-436b-d820-30f8ba6039c4"
      },
      "execution_count": 31,
      "outputs": [
        {
          "output_type": "execute_result",
          "data": {
            "text/plain": [
              "DatetimeIndex(['2019-12-12', '2020-01-01', '2020-02-02', '2020-03-04',\n",
              "               '2020-07-01'],\n",
              "              dtype='datetime64[ns]', freq=None)"
            ]
          },
          "metadata": {},
          "execution_count": 31
        }
      ]
    },
    {
      "cell_type": "code",
      "source": [
        "dates.to_period('D')"
      ],
      "metadata": {
        "colab": {
          "base_uri": "https://localhost:8080/"
        },
        "id": "zxhDepfeoPVm",
        "outputId": "f032cee1-f58a-4945-9994-ef5ddccdb97f"
      },
      "execution_count": 32,
      "outputs": [
        {
          "output_type": "execute_result",
          "data": {
            "text/plain": [
              "PeriodIndex(['2019-12-12', '2020-01-01', '2020-02-02', '2020-03-04',\n",
              "             '2020-07-01'],\n",
              "            dtype='period[D]')"
            ]
          },
          "metadata": {},
          "execution_count": 32
        }
      ]
    },
    {
      "cell_type": "code",
      "source": [
        "# 각 날짜별 기간 구하기\n",
        "\n",
        "dates - dates[0]"
      ],
      "metadata": {
        "colab": {
          "base_uri": "https://localhost:8080/"
        },
        "id": "oQsU5oOJo9Ox",
        "outputId": "64920bdb-71f0-4ca2-8ec3-1da51faa75e0"
      },
      "execution_count": 34,
      "outputs": [
        {
          "output_type": "execute_result",
          "data": {
            "text/plain": [
              "TimedeltaIndex(['0 days', '20 days', '52 days', '83 days', '202 days'], dtype='timedelta64[ns]', freq=None)"
            ]
          },
          "metadata": {},
          "execution_count": 34
        }
      ]
    },
    {
      "cell_type": "code",
      "source": [
        "pd.date_range('2021-09-23','2022-03-18')"
      ],
      "metadata": {
        "colab": {
          "base_uri": "https://localhost:8080/"
        },
        "id": "SAlaaOm0pPSy",
        "outputId": "3f6709a5-e9e0-45b5-9e9c-c793d9f25b37"
      },
      "execution_count": 35,
      "outputs": [
        {
          "output_type": "execute_result",
          "data": {
            "text/plain": [
              "DatetimeIndex(['2021-09-23', '2021-09-24', '2021-09-25', '2021-09-26',\n",
              "               '2021-09-27', '2021-09-28', '2021-09-29', '2021-09-30',\n",
              "               '2021-10-01', '2021-10-02',\n",
              "               ...\n",
              "               '2022-03-09', '2022-03-10', '2022-03-11', '2022-03-12',\n",
              "               '2022-03-13', '2022-03-14', '2022-03-15', '2022-03-16',\n",
              "               '2022-03-17', '2022-03-18'],\n",
              "              dtype='datetime64[ns]', length=177, freq='D')"
            ]
          },
          "metadata": {},
          "execution_count": 35
        }
      ]
    },
    {
      "cell_type": "code",
      "source": [
        "pd.date_range('2020-01-01', periods=8)"
      ],
      "metadata": {
        "colab": {
          "base_uri": "https://localhost:8080/"
        },
        "id": "slj6OfXDp_1K",
        "outputId": "f52b768d-34d7-4d50-94e0-980273455931"
      },
      "execution_count": 36,
      "outputs": [
        {
          "output_type": "execute_result",
          "data": {
            "text/plain": [
              "DatetimeIndex(['2020-01-01', '2020-01-02', '2020-01-03', '2020-01-04',\n",
              "               '2020-01-05', '2020-01-06', '2020-01-07', '2020-01-08'],\n",
              "              dtype='datetime64[ns]', freq='D')"
            ]
          },
          "metadata": {},
          "execution_count": 36
        }
      ]
    },
    {
      "cell_type": "code",
      "source": [
        "# freq를 D(일단위)에서 M(월단위)로 변경\n",
        "\n",
        "pd.date_range('2020-01-03',periods=8,freq='M')"
      ],
      "metadata": {
        "colab": {
          "base_uri": "https://localhost:8080/"
        },
        "id": "x8CdntO5qVWD",
        "outputId": "1fc20bb7-220a-4173-e64b-f0b816525af3"
      },
      "execution_count": 37,
      "outputs": [
        {
          "output_type": "execute_result",
          "data": {
            "text/plain": [
              "DatetimeIndex(['2020-01-31', '2020-02-29', '2020-03-31', '2020-04-30',\n",
              "               '2020-05-31', '2020-06-30', '2020-07-31', '2020-08-31'],\n",
              "              dtype='datetime64[ns]', freq='M')"
            ]
          },
          "metadata": {},
          "execution_count": 37
        }
      ]
    },
    {
      "cell_type": "code",
      "source": [
        "# NaT : 시간데이터가 없을 경우에는 이렇게 표시됨\n",
        "\n",
        "idx = pd.to_datetime(['2020-01-01 12:00:00', '2020-01-02 00:00:00'] + [None])\n",
        "idx"
      ],
      "metadata": {
        "colab": {
          "base_uri": "https://localhost:8080/"
        },
        "id": "AzfLS9Icq0DJ",
        "outputId": "0623eb63-acb3-4770-f958-ea162aeecd9c"
      },
      "execution_count": 40,
      "outputs": [
        {
          "output_type": "execute_result",
          "data": {
            "text/plain": [
              "DatetimeIndex(['2020-01-01 12:00:00', '2020-01-02 00:00:00', 'NaT'], dtype='datetime64[ns]', freq=None)"
            ]
          },
          "metadata": {},
          "execution_count": 40
        }
      ]
    },
    {
      "cell_type": "code",
      "source": [
        "pd.isnull(idx)"
      ],
      "metadata": {
        "colab": {
          "base_uri": "https://localhost:8080/"
        },
        "id": "VwK7hmhSsZwE",
        "outputId": "f7253fff-3e12-41cb-b059-c3f495e80054"
      },
      "execution_count": 41,
      "outputs": [
        {
          "output_type": "execute_result",
          "data": {
            "text/plain": [
              "array([False, False,  True])"
            ]
          },
          "metadata": {},
          "execution_count": 41
        }
      ]
    },
    {
      "cell_type": "markdown",
      "source": [
        "### 시계열 기본"
      ],
      "metadata": {
        "id": "BqS2bOJ_suTF"
      }
    },
    {
      "cell_type": "code",
      "source": [
        "dates = [datetime(2020,1,1),datetime(2020,1,2),datetime(2020,1,1),datetime(2020,1,3),datetime(2020,1,5),datetime(2020,1,7),datetime(2020,1,10),]\n",
        "dates"
      ],
      "metadata": {
        "colab": {
          "base_uri": "https://localhost:8080/"
        },
        "id": "Y5WjLduatCES",
        "outputId": "1c29d897-f2ee-49d3-9d93-198feb412d11"
      },
      "execution_count": 43,
      "outputs": [
        {
          "output_type": "execute_result",
          "data": {
            "text/plain": [
              "[datetime.datetime(2020, 1, 1, 0, 0),\n",
              " datetime.datetime(2020, 1, 2, 0, 0),\n",
              " datetime.datetime(2020, 1, 1, 0, 0),\n",
              " datetime.datetime(2020, 1, 3, 0, 0),\n",
              " datetime.datetime(2020, 1, 5, 0, 0),\n",
              " datetime.datetime(2020, 1, 7, 0, 0),\n",
              " datetime.datetime(2020, 1, 10, 0, 0)]"
            ]
          },
          "metadata": {},
          "execution_count": 43
        }
      ]
    },
    {
      "cell_type": "code",
      "source": [
        "ts = pd.Series(np.random.randn(7), index = dates)\n",
        "ts"
      ],
      "metadata": {
        "colab": {
          "base_uri": "https://localhost:8080/"
        },
        "id": "K2sImaZOtwSy",
        "outputId": "d9be337f-7b78-4d8e-ce2b-fbf2b8aeafc7"
      },
      "execution_count": 46,
      "outputs": [
        {
          "output_type": "execute_result",
          "data": {
            "text/plain": [
              "2020-01-01    1.133191\n",
              "2020-01-02    1.203025\n",
              "2020-01-01    0.833760\n",
              "2020-01-03   -0.211681\n",
              "2020-01-05   -0.770560\n",
              "2020-01-07   -0.120511\n",
              "2020-01-10   -0.873575\n",
              "dtype: float64"
            ]
          },
          "metadata": {},
          "execution_count": 46
        }
      ]
    },
    {
      "cell_type": "code",
      "source": [
        "ts.index"
      ],
      "metadata": {
        "colab": {
          "base_uri": "https://localhost:8080/"
        },
        "id": "kKFLY7f4uJ39",
        "outputId": "10dbf9c6-6731-4a4b-8a14-359c3cecf6b2"
      },
      "execution_count": 47,
      "outputs": [
        {
          "output_type": "execute_result",
          "data": {
            "text/plain": [
              "DatetimeIndex(['2020-01-01', '2020-01-02', '2020-01-01', '2020-01-03',\n",
              "               '2020-01-05', '2020-01-07', '2020-01-10'],\n",
              "              dtype='datetime64[ns]', freq=None)"
            ]
          },
          "metadata": {},
          "execution_count": 47
        }
      ]
    },
    {
      "cell_type": "code",
      "source": [
        "ts.index[0]"
      ],
      "metadata": {
        "colab": {
          "base_uri": "https://localhost:8080/"
        },
        "id": "PRr5sp1jufSi",
        "outputId": "8b16e5d8-f485-4a82-ab21-cfbd85b7170c"
      },
      "execution_count": 48,
      "outputs": [
        {
          "output_type": "execute_result",
          "data": {
            "text/plain": [
              "Timestamp('2020-01-01 00:00:00')"
            ]
          },
          "metadata": {},
          "execution_count": 48
        }
      ]
    },
    {
      "cell_type": "code",
      "source": [
        "ts[ts.index[2]]"
      ],
      "metadata": {
        "colab": {
          "base_uri": "https://localhost:8080/"
        },
        "id": "ouiLucFZui1M",
        "outputId": "aa6fe7b9-fb89-47ad-9d2d-481d20b46a72"
      },
      "execution_count": 49,
      "outputs": [
        {
          "output_type": "execute_result",
          "data": {
            "text/plain": [
              "2020-01-01    1.133191\n",
              "2020-01-01    0.833760\n",
              "dtype: float64"
            ]
          },
          "metadata": {},
          "execution_count": 49
        }
      ]
    },
    {
      "cell_type": "code",
      "source": [
        "ts['20200107']"
      ],
      "metadata": {
        "colab": {
          "base_uri": "https://localhost:8080/"
        },
        "id": "m0U4acXausvT",
        "outputId": "fbabc17a-e1a6-44e0-bb4b-f8f34be91e3c"
      },
      "execution_count": 50,
      "outputs": [
        {
          "output_type": "execute_result",
          "data": {
            "text/plain": [
              "2020-01-07   -0.120511\n",
              "dtype: float64"
            ]
          },
          "metadata": {},
          "execution_count": 50
        }
      ]
    },
    {
      "cell_type": "code",
      "source": [
        "ts = pd.Series(np.random.randn(1000), index=pd.date_range('2017-10-01', periods=1000))\n",
        "ts"
      ],
      "metadata": {
        "colab": {
          "base_uri": "https://localhost:8080/"
        },
        "id": "BNTXrdKPu5dN",
        "outputId": "89691779-036f-4037-b392-2914195afe31"
      },
      "execution_count": 52,
      "outputs": [
        {
          "output_type": "execute_result",
          "data": {
            "text/plain": [
              "2017-10-01   -0.784691\n",
              "2017-10-02   -1.766684\n",
              "2017-10-03    0.260482\n",
              "2017-10-04   -0.994460\n",
              "2017-10-05    0.540068\n",
              "                ...   \n",
              "2020-06-22   -0.073995\n",
              "2020-06-23    2.026306\n",
              "2020-06-24    0.495331\n",
              "2020-06-25   -2.390961\n",
              "2020-06-26    0.813989\n",
              "Freq: D, Length: 1000, dtype: float64"
            ]
          },
          "metadata": {},
          "execution_count": 52
        }
      ]
    },
    {
      "cell_type": "code",
      "source": [
        "ts['2020']"
      ],
      "metadata": {
        "colab": {
          "base_uri": "https://localhost:8080/"
        },
        "id": "GE1LkKVmvFAy",
        "outputId": "44efe054-f57d-4e8c-e90b-fc9952cbe8ec"
      },
      "execution_count": 53,
      "outputs": [
        {
          "output_type": "execute_result",
          "data": {
            "text/plain": [
              "2020-01-01    1.374232\n",
              "2020-01-02    0.977811\n",
              "2020-01-03   -0.978731\n",
              "2020-01-04    0.138510\n",
              "2020-01-05   -1.291620\n",
              "                ...   \n",
              "2020-06-22   -0.073995\n",
              "2020-06-23    2.026306\n",
              "2020-06-24    0.495331\n",
              "2020-06-25   -2.390961\n",
              "2020-06-26    0.813989\n",
              "Freq: D, Length: 178, dtype: float64"
            ]
          },
          "metadata": {},
          "execution_count": 53
        }
      ]
    },
    {
      "cell_type": "code",
      "source": [
        "ts['2020-06']"
      ],
      "metadata": {
        "colab": {
          "base_uri": "https://localhost:8080/"
        },
        "id": "18yHr5mfvnNS",
        "outputId": "ec8d6cae-ceec-4c1b-ff54-9e1ce2b3dd95"
      },
      "execution_count": 64,
      "outputs": [
        {
          "output_type": "execute_result",
          "data": {
            "text/plain": [
              "2020-06-01    0.177103\n",
              "2020-06-02    0.001910\n",
              "2020-06-03   -0.083663\n",
              "2020-06-04   -0.253246\n",
              "2020-06-05    0.057855\n",
              "2020-06-06    2.981472\n",
              "2020-06-07    0.038415\n",
              "2020-06-08   -0.919339\n",
              "2020-06-09    1.616831\n",
              "2020-06-10   -1.020557\n",
              "2020-06-11   -2.202855\n",
              "2020-06-12    1.618114\n",
              "2020-06-13   -0.802873\n",
              "2020-06-14    0.655882\n",
              "2020-06-15    1.697815\n",
              "2020-06-16    0.397130\n",
              "2020-06-17    0.146338\n",
              "2020-06-18   -1.268572\n",
              "2020-06-19    0.188724\n",
              "2020-06-20    1.500831\n",
              "2020-06-21   -0.664263\n",
              "2020-06-22   -0.073995\n",
              "2020-06-23    2.026306\n",
              "2020-06-24    0.495331\n",
              "2020-06-25   -2.390961\n",
              "2020-06-26    0.813989\n",
              "Freq: D, dtype: float64"
            ]
          },
          "metadata": {},
          "execution_count": 64
        }
      ]
    },
    {
      "cell_type": "code",
      "source": [
        "ts[datetime(2020,6,10):]"
      ],
      "metadata": {
        "colab": {
          "base_uri": "https://localhost:8080/"
        },
        "id": "CRfuKMnMv53C",
        "outputId": "f5ca3998-6919-4201-f1a6-84ac19b01876"
      },
      "execution_count": 66,
      "outputs": [
        {
          "output_type": "execute_result",
          "data": {
            "text/plain": [
              "2020-06-10   -1.020557\n",
              "2020-06-11   -2.202855\n",
              "2020-06-12    1.618114\n",
              "2020-06-13   -0.802873\n",
              "2020-06-14    0.655882\n",
              "2020-06-15    1.697815\n",
              "2020-06-16    0.397130\n",
              "2020-06-17    0.146338\n",
              "2020-06-18   -1.268572\n",
              "2020-06-19    0.188724\n",
              "2020-06-20    1.500831\n",
              "2020-06-21   -0.664263\n",
              "2020-06-22   -0.073995\n",
              "2020-06-23    2.026306\n",
              "2020-06-24    0.495331\n",
              "2020-06-25   -2.390961\n",
              "2020-06-26    0.813989\n",
              "Freq: D, dtype: float64"
            ]
          },
          "metadata": {},
          "execution_count": 66
        }
      ]
    },
    {
      "cell_type": "code",
      "source": [
        "tdf = pd.DataFrame(np.random.randn(1000,4), index=pd.date_range('2017-07-01', periods =1000), columns=['A','B','C','D'])\n",
        "tdf"
      ],
      "metadata": {
        "colab": {
          "base_uri": "https://localhost:8080/",
          "height": 424
        },
        "id": "w-6TelxqxfTC",
        "outputId": "337b7f64-1bfe-49c7-ecc5-c56bc7ccf42e"
      },
      "execution_count": 69,
      "outputs": [
        {
          "output_type": "execute_result",
          "data": {
            "text/plain": [
              "                   A         B         C         D\n",
              "2017-07-01  0.539818 -1.717789 -0.679615  0.316719\n",
              "2017-07-02 -0.233054 -1.382808 -0.203859  2.249995\n",
              "2017-07-03 -0.027882  1.093205 -0.622489  1.200007\n",
              "2017-07-04 -0.170307 -2.277125 -0.453351 -2.179183\n",
              "2017-07-05  1.901008  0.684108 -0.652360  0.227254\n",
              "...              ...       ...       ...       ...\n",
              "2020-03-22  0.436076  0.434292  0.372593 -0.393777\n",
              "2020-03-23 -0.128762  1.042833 -1.459176  0.560179\n",
              "2020-03-24 -1.945696  0.716916 -0.499074 -1.230501\n",
              "2020-03-25 -0.198953 -1.531439  0.628015 -1.359613\n",
              "2020-03-26  0.407511  2.166983 -1.178223 -1.120954\n",
              "\n",
              "[1000 rows x 4 columns]"
            ],
            "text/html": [
              "\n",
              "  <div id=\"df-1f44697e-e313-4229-bae7-22d7393103b0\">\n",
              "    <div class=\"colab-df-container\">\n",
              "      <div>\n",
              "<style scoped>\n",
              "    .dataframe tbody tr th:only-of-type {\n",
              "        vertical-align: middle;\n",
              "    }\n",
              "\n",
              "    .dataframe tbody tr th {\n",
              "        vertical-align: top;\n",
              "    }\n",
              "\n",
              "    .dataframe thead th {\n",
              "        text-align: right;\n",
              "    }\n",
              "</style>\n",
              "<table border=\"1\" class=\"dataframe\">\n",
              "  <thead>\n",
              "    <tr style=\"text-align: right;\">\n",
              "      <th></th>\n",
              "      <th>A</th>\n",
              "      <th>B</th>\n",
              "      <th>C</th>\n",
              "      <th>D</th>\n",
              "    </tr>\n",
              "  </thead>\n",
              "  <tbody>\n",
              "    <tr>\n",
              "      <th>2017-07-01</th>\n",
              "      <td>0.539818</td>\n",
              "      <td>-1.717789</td>\n",
              "      <td>-0.679615</td>\n",
              "      <td>0.316719</td>\n",
              "    </tr>\n",
              "    <tr>\n",
              "      <th>2017-07-02</th>\n",
              "      <td>-0.233054</td>\n",
              "      <td>-1.382808</td>\n",
              "      <td>-0.203859</td>\n",
              "      <td>2.249995</td>\n",
              "    </tr>\n",
              "    <tr>\n",
              "      <th>2017-07-03</th>\n",
              "      <td>-0.027882</td>\n",
              "      <td>1.093205</td>\n",
              "      <td>-0.622489</td>\n",
              "      <td>1.200007</td>\n",
              "    </tr>\n",
              "    <tr>\n",
              "      <th>2017-07-04</th>\n",
              "      <td>-0.170307</td>\n",
              "      <td>-2.277125</td>\n",
              "      <td>-0.453351</td>\n",
              "      <td>-2.179183</td>\n",
              "    </tr>\n",
              "    <tr>\n",
              "      <th>2017-07-05</th>\n",
              "      <td>1.901008</td>\n",
              "      <td>0.684108</td>\n",
              "      <td>-0.652360</td>\n",
              "      <td>0.227254</td>\n",
              "    </tr>\n",
              "    <tr>\n",
              "      <th>...</th>\n",
              "      <td>...</td>\n",
              "      <td>...</td>\n",
              "      <td>...</td>\n",
              "      <td>...</td>\n",
              "    </tr>\n",
              "    <tr>\n",
              "      <th>2020-03-22</th>\n",
              "      <td>0.436076</td>\n",
              "      <td>0.434292</td>\n",
              "      <td>0.372593</td>\n",
              "      <td>-0.393777</td>\n",
              "    </tr>\n",
              "    <tr>\n",
              "      <th>2020-03-23</th>\n",
              "      <td>-0.128762</td>\n",
              "      <td>1.042833</td>\n",
              "      <td>-1.459176</td>\n",
              "      <td>0.560179</td>\n",
              "    </tr>\n",
              "    <tr>\n",
              "      <th>2020-03-24</th>\n",
              "      <td>-1.945696</td>\n",
              "      <td>0.716916</td>\n",
              "      <td>-0.499074</td>\n",
              "      <td>-1.230501</td>\n",
              "    </tr>\n",
              "    <tr>\n",
              "      <th>2020-03-25</th>\n",
              "      <td>-0.198953</td>\n",
              "      <td>-1.531439</td>\n",
              "      <td>0.628015</td>\n",
              "      <td>-1.359613</td>\n",
              "    </tr>\n",
              "    <tr>\n",
              "      <th>2020-03-26</th>\n",
              "      <td>0.407511</td>\n",
              "      <td>2.166983</td>\n",
              "      <td>-1.178223</td>\n",
              "      <td>-1.120954</td>\n",
              "    </tr>\n",
              "  </tbody>\n",
              "</table>\n",
              "<p>1000 rows × 4 columns</p>\n",
              "</div>\n",
              "      <button class=\"colab-df-convert\" onclick=\"convertToInteractive('df-1f44697e-e313-4229-bae7-22d7393103b0')\"\n",
              "              title=\"Convert this dataframe to an interactive table.\"\n",
              "              style=\"display:none;\">\n",
              "        \n",
              "  <svg xmlns=\"http://www.w3.org/2000/svg\" height=\"24px\"viewBox=\"0 0 24 24\"\n",
              "       width=\"24px\">\n",
              "    <path d=\"M0 0h24v24H0V0z\" fill=\"none\"/>\n",
              "    <path d=\"M18.56 5.44l.94 2.06.94-2.06 2.06-.94-2.06-.94-.94-2.06-.94 2.06-2.06.94zm-11 1L8.5 8.5l.94-2.06 2.06-.94-2.06-.94L8.5 2.5l-.94 2.06-2.06.94zm10 10l.94 2.06.94-2.06 2.06-.94-2.06-.94-.94-2.06-.94 2.06-2.06.94z\"/><path d=\"M17.41 7.96l-1.37-1.37c-.4-.4-.92-.59-1.43-.59-.52 0-1.04.2-1.43.59L10.3 9.45l-7.72 7.72c-.78.78-.78 2.05 0 2.83L4 21.41c.39.39.9.59 1.41.59.51 0 1.02-.2 1.41-.59l7.78-7.78 2.81-2.81c.8-.78.8-2.07 0-2.86zM5.41 20L4 18.59l7.72-7.72 1.47 1.35L5.41 20z\"/>\n",
              "  </svg>\n",
              "      </button>\n",
              "      \n",
              "  <style>\n",
              "    .colab-df-container {\n",
              "      display:flex;\n",
              "      flex-wrap:wrap;\n",
              "      gap: 12px;\n",
              "    }\n",
              "\n",
              "    .colab-df-convert {\n",
              "      background-color: #E8F0FE;\n",
              "      border: none;\n",
              "      border-radius: 50%;\n",
              "      cursor: pointer;\n",
              "      display: none;\n",
              "      fill: #1967D2;\n",
              "      height: 32px;\n",
              "      padding: 0 0 0 0;\n",
              "      width: 32px;\n",
              "    }\n",
              "\n",
              "    .colab-df-convert:hover {\n",
              "      background-color: #E2EBFA;\n",
              "      box-shadow: 0px 1px 2px rgba(60, 64, 67, 0.3), 0px 1px 3px 1px rgba(60, 64, 67, 0.15);\n",
              "      fill: #174EA6;\n",
              "    }\n",
              "\n",
              "    [theme=dark] .colab-df-convert {\n",
              "      background-color: #3B4455;\n",
              "      fill: #D2E3FC;\n",
              "    }\n",
              "\n",
              "    [theme=dark] .colab-df-convert:hover {\n",
              "      background-color: #434B5C;\n",
              "      box-shadow: 0px 1px 3px 1px rgba(0, 0, 0, 0.15);\n",
              "      filter: drop-shadow(0px 1px 2px rgba(0, 0, 0, 0.3));\n",
              "      fill: #FFFFFF;\n",
              "    }\n",
              "  </style>\n",
              "\n",
              "      <script>\n",
              "        const buttonEl =\n",
              "          document.querySelector('#df-1f44697e-e313-4229-bae7-22d7393103b0 button.colab-df-convert');\n",
              "        buttonEl.style.display =\n",
              "          google.colab.kernel.accessAllowed ? 'block' : 'none';\n",
              "\n",
              "        async function convertToInteractive(key) {\n",
              "          const element = document.querySelector('#df-1f44697e-e313-4229-bae7-22d7393103b0');\n",
              "          const dataTable =\n",
              "            await google.colab.kernel.invokeFunction('convertToInteractive',\n",
              "                                                     [key], {});\n",
              "          if (!dataTable) return;\n",
              "\n",
              "          const docLinkHtml = 'Like what you see? Visit the ' +\n",
              "            '<a target=\"_blank\" href=https://colab.research.google.com/notebooks/data_table.ipynb>data table notebook</a>'\n",
              "            + ' to learn more about interactive tables.';\n",
              "          element.innerHTML = '';\n",
              "          dataTable['output_type'] = 'display_data';\n",
              "          await google.colab.output.renderOutput(dataTable, element);\n",
              "          const docLink = document.createElement('div');\n",
              "          docLink.innerHTML = docLinkHtml;\n",
              "          element.appendChild(docLink);\n",
              "        }\n",
              "      </script>\n",
              "    </div>\n",
              "  </div>\n",
              "  "
            ]
          },
          "metadata": {},
          "execution_count": 69
        }
      ]
    },
    {
      "cell_type": "code",
      "source": [
        "tdf['2020']"
      ],
      "metadata": {
        "colab": {
          "base_uri": "https://localhost:8080/",
          "height": 480
        },
        "id": "evSkIeN8yGSr",
        "outputId": "0e862183-aa14-4dc3-e994-3691952bd3d4"
      },
      "execution_count": 70,
      "outputs": [
        {
          "output_type": "stream",
          "name": "stderr",
          "text": [
            "/usr/local/lib/python3.7/dist-packages/ipykernel_launcher.py:1: FutureWarning: Indexing a DataFrame with a datetimelike index using a single string to slice the rows, like `frame[string]`, is deprecated and will be removed in a future version. Use `frame.loc[string]` instead.\n",
            "  \"\"\"Entry point for launching an IPython kernel.\n"
          ]
        },
        {
          "output_type": "execute_result",
          "data": {
            "text/plain": [
              "                   A         B         C         D\n",
              "2020-01-01 -0.284703 -0.261559 -1.432460  0.527343\n",
              "2020-01-02 -0.468613  2.264309 -1.157420  0.050303\n",
              "2020-01-03  1.909287  1.265467 -0.575183 -0.183301\n",
              "2020-01-04 -0.287196  0.162098  0.859814  1.299314\n",
              "2020-01-05 -1.753899 -1.630712 -1.804881  0.487540\n",
              "...              ...       ...       ...       ...\n",
              "2020-03-22  0.436076  0.434292  0.372593 -0.393777\n",
              "2020-03-23 -0.128762  1.042833 -1.459176  0.560179\n",
              "2020-03-24 -1.945696  0.716916 -0.499074 -1.230501\n",
              "2020-03-25 -0.198953 -1.531439  0.628015 -1.359613\n",
              "2020-03-26  0.407511  2.166983 -1.178223 -1.120954\n",
              "\n",
              "[86 rows x 4 columns]"
            ],
            "text/html": [
              "\n",
              "  <div id=\"df-20673479-c1b0-46d7-b0a1-07b57205d801\">\n",
              "    <div class=\"colab-df-container\">\n",
              "      <div>\n",
              "<style scoped>\n",
              "    .dataframe tbody tr th:only-of-type {\n",
              "        vertical-align: middle;\n",
              "    }\n",
              "\n",
              "    .dataframe tbody tr th {\n",
              "        vertical-align: top;\n",
              "    }\n",
              "\n",
              "    .dataframe thead th {\n",
              "        text-align: right;\n",
              "    }\n",
              "</style>\n",
              "<table border=\"1\" class=\"dataframe\">\n",
              "  <thead>\n",
              "    <tr style=\"text-align: right;\">\n",
              "      <th></th>\n",
              "      <th>A</th>\n",
              "      <th>B</th>\n",
              "      <th>C</th>\n",
              "      <th>D</th>\n",
              "    </tr>\n",
              "  </thead>\n",
              "  <tbody>\n",
              "    <tr>\n",
              "      <th>2020-01-01</th>\n",
              "      <td>-0.284703</td>\n",
              "      <td>-0.261559</td>\n",
              "      <td>-1.432460</td>\n",
              "      <td>0.527343</td>\n",
              "    </tr>\n",
              "    <tr>\n",
              "      <th>2020-01-02</th>\n",
              "      <td>-0.468613</td>\n",
              "      <td>2.264309</td>\n",
              "      <td>-1.157420</td>\n",
              "      <td>0.050303</td>\n",
              "    </tr>\n",
              "    <tr>\n",
              "      <th>2020-01-03</th>\n",
              "      <td>1.909287</td>\n",
              "      <td>1.265467</td>\n",
              "      <td>-0.575183</td>\n",
              "      <td>-0.183301</td>\n",
              "    </tr>\n",
              "    <tr>\n",
              "      <th>2020-01-04</th>\n",
              "      <td>-0.287196</td>\n",
              "      <td>0.162098</td>\n",
              "      <td>0.859814</td>\n",
              "      <td>1.299314</td>\n",
              "    </tr>\n",
              "    <tr>\n",
              "      <th>2020-01-05</th>\n",
              "      <td>-1.753899</td>\n",
              "      <td>-1.630712</td>\n",
              "      <td>-1.804881</td>\n",
              "      <td>0.487540</td>\n",
              "    </tr>\n",
              "    <tr>\n",
              "      <th>...</th>\n",
              "      <td>...</td>\n",
              "      <td>...</td>\n",
              "      <td>...</td>\n",
              "      <td>...</td>\n",
              "    </tr>\n",
              "    <tr>\n",
              "      <th>2020-03-22</th>\n",
              "      <td>0.436076</td>\n",
              "      <td>0.434292</td>\n",
              "      <td>0.372593</td>\n",
              "      <td>-0.393777</td>\n",
              "    </tr>\n",
              "    <tr>\n",
              "      <th>2020-03-23</th>\n",
              "      <td>-0.128762</td>\n",
              "      <td>1.042833</td>\n",
              "      <td>-1.459176</td>\n",
              "      <td>0.560179</td>\n",
              "    </tr>\n",
              "    <tr>\n",
              "      <th>2020-03-24</th>\n",
              "      <td>-1.945696</td>\n",
              "      <td>0.716916</td>\n",
              "      <td>-0.499074</td>\n",
              "      <td>-1.230501</td>\n",
              "    </tr>\n",
              "    <tr>\n",
              "      <th>2020-03-25</th>\n",
              "      <td>-0.198953</td>\n",
              "      <td>-1.531439</td>\n",
              "      <td>0.628015</td>\n",
              "      <td>-1.359613</td>\n",
              "    </tr>\n",
              "    <tr>\n",
              "      <th>2020-03-26</th>\n",
              "      <td>0.407511</td>\n",
              "      <td>2.166983</td>\n",
              "      <td>-1.178223</td>\n",
              "      <td>-1.120954</td>\n",
              "    </tr>\n",
              "  </tbody>\n",
              "</table>\n",
              "<p>86 rows × 4 columns</p>\n",
              "</div>\n",
              "      <button class=\"colab-df-convert\" onclick=\"convertToInteractive('df-20673479-c1b0-46d7-b0a1-07b57205d801')\"\n",
              "              title=\"Convert this dataframe to an interactive table.\"\n",
              "              style=\"display:none;\">\n",
              "        \n",
              "  <svg xmlns=\"http://www.w3.org/2000/svg\" height=\"24px\"viewBox=\"0 0 24 24\"\n",
              "       width=\"24px\">\n",
              "    <path d=\"M0 0h24v24H0V0z\" fill=\"none\"/>\n",
              "    <path d=\"M18.56 5.44l.94 2.06.94-2.06 2.06-.94-2.06-.94-.94-2.06-.94 2.06-2.06.94zm-11 1L8.5 8.5l.94-2.06 2.06-.94-2.06-.94L8.5 2.5l-.94 2.06-2.06.94zm10 10l.94 2.06.94-2.06 2.06-.94-2.06-.94-.94-2.06-.94 2.06-2.06.94z\"/><path d=\"M17.41 7.96l-1.37-1.37c-.4-.4-.92-.59-1.43-.59-.52 0-1.04.2-1.43.59L10.3 9.45l-7.72 7.72c-.78.78-.78 2.05 0 2.83L4 21.41c.39.39.9.59 1.41.59.51 0 1.02-.2 1.41-.59l7.78-7.78 2.81-2.81c.8-.78.8-2.07 0-2.86zM5.41 20L4 18.59l7.72-7.72 1.47 1.35L5.41 20z\"/>\n",
              "  </svg>\n",
              "      </button>\n",
              "      \n",
              "  <style>\n",
              "    .colab-df-container {\n",
              "      display:flex;\n",
              "      flex-wrap:wrap;\n",
              "      gap: 12px;\n",
              "    }\n",
              "\n",
              "    .colab-df-convert {\n",
              "      background-color: #E8F0FE;\n",
              "      border: none;\n",
              "      border-radius: 50%;\n",
              "      cursor: pointer;\n",
              "      display: none;\n",
              "      fill: #1967D2;\n",
              "      height: 32px;\n",
              "      padding: 0 0 0 0;\n",
              "      width: 32px;\n",
              "    }\n",
              "\n",
              "    .colab-df-convert:hover {\n",
              "      background-color: #E2EBFA;\n",
              "      box-shadow: 0px 1px 2px rgba(60, 64, 67, 0.3), 0px 1px 3px 1px rgba(60, 64, 67, 0.15);\n",
              "      fill: #174EA6;\n",
              "    }\n",
              "\n",
              "    [theme=dark] .colab-df-convert {\n",
              "      background-color: #3B4455;\n",
              "      fill: #D2E3FC;\n",
              "    }\n",
              "\n",
              "    [theme=dark] .colab-df-convert:hover {\n",
              "      background-color: #434B5C;\n",
              "      box-shadow: 0px 1px 3px 1px rgba(0, 0, 0, 0.15);\n",
              "      filter: drop-shadow(0px 1px 2px rgba(0, 0, 0, 0.3));\n",
              "      fill: #FFFFFF;\n",
              "    }\n",
              "  </style>\n",
              "\n",
              "      <script>\n",
              "        const buttonEl =\n",
              "          document.querySelector('#df-20673479-c1b0-46d7-b0a1-07b57205d801 button.colab-df-convert');\n",
              "        buttonEl.style.display =\n",
              "          google.colab.kernel.accessAllowed ? 'block' : 'none';\n",
              "\n",
              "        async function convertToInteractive(key) {\n",
              "          const element = document.querySelector('#df-20673479-c1b0-46d7-b0a1-07b57205d801');\n",
              "          const dataTable =\n",
              "            await google.colab.kernel.invokeFunction('convertToInteractive',\n",
              "                                                     [key], {});\n",
              "          if (!dataTable) return;\n",
              "\n",
              "          const docLinkHtml = 'Like what you see? Visit the ' +\n",
              "            '<a target=\"_blank\" href=https://colab.research.google.com/notebooks/data_table.ipynb>data table notebook</a>'\n",
              "            + ' to learn more about interactive tables.';\n",
              "          element.innerHTML = '';\n",
              "          dataTable['output_type'] = 'display_data';\n",
              "          await google.colab.output.renderOutput(dataTable, element);\n",
              "          const docLink = document.createElement('div');\n",
              "          docLink.innerHTML = docLinkHtml;\n",
              "          element.appendChild(docLink);\n",
              "        }\n",
              "      </script>\n",
              "    </div>\n",
              "  </div>\n",
              "  "
            ]
          },
          "metadata": {},
          "execution_count": 70
        }
      ]
    },
    {
      "cell_type": "code",
      "source": [
        "tdf['2019-06']"
      ],
      "metadata": {
        "colab": {
          "base_uri": "https://localhost:8080/",
          "height": 1000
        },
        "id": "WAhLP8fYyua7",
        "outputId": "189d680f-730e-44af-a878-d0322d95404b"
      },
      "execution_count": 72,
      "outputs": [
        {
          "output_type": "stream",
          "name": "stderr",
          "text": [
            "/usr/local/lib/python3.7/dist-packages/ipykernel_launcher.py:1: FutureWarning: Indexing a DataFrame with a datetimelike index using a single string to slice the rows, like `frame[string]`, is deprecated and will be removed in a future version. Use `frame.loc[string]` instead.\n",
            "  \"\"\"Entry point for launching an IPython kernel.\n"
          ]
        },
        {
          "output_type": "execute_result",
          "data": {
            "text/plain": [
              "                   A         B         C         D\n",
              "2019-06-01  0.235349 -1.167467  0.356674  0.029502\n",
              "2019-06-02 -1.183683 -0.611880 -2.674328  0.010336\n",
              "2019-06-03  2.193596 -0.241233  0.121762 -0.114457\n",
              "2019-06-04  0.735286 -1.625062  0.524003 -1.130599\n",
              "2019-06-05 -0.382019 -1.544836  0.266286  0.868250\n",
              "2019-06-06  0.911278 -0.001402 -0.464005  0.562613\n",
              "2019-06-07 -1.107324  0.724490  0.354879  1.693234\n",
              "2019-06-08  0.176569  1.043435 -0.257807 -0.734909\n",
              "2019-06-09  0.494735 -1.684280 -0.514780  0.470972\n",
              "2019-06-10  1.955008 -0.580000 -0.731282  0.725584\n",
              "2019-06-11  1.072344  0.808448 -0.726553  1.352356\n",
              "2019-06-12  2.516613 -0.162643 -1.515646  1.561710\n",
              "2019-06-13 -0.212379  0.757807 -0.074277 -1.849403\n",
              "2019-06-14  0.123093 -1.748997 -1.258718 -0.766629\n",
              "2019-06-15  1.529114  0.516953  0.182177  2.157285\n",
              "2019-06-16  0.372633  0.207591  0.968378  0.305502\n",
              "2019-06-17 -0.176814  0.095435  0.094025 -2.462349\n",
              "2019-06-18  1.955145 -0.076214 -0.378593  1.444023\n",
              "2019-06-19 -0.826468  0.528041  0.487042 -0.954167\n",
              "2019-06-20 -0.894576 -0.205392 -0.357148 -0.230599\n",
              "2019-06-21  0.762846  0.869399 -0.612294  1.635239\n",
              "2019-06-22 -1.817266 -1.951783  0.315889  0.359765\n",
              "2019-06-23  1.101646  0.948957 -0.018150 -0.183907\n",
              "2019-06-24 -0.244912  0.386734  0.702772  0.954178\n",
              "2019-06-25  0.793781  2.456323 -0.179246  0.385732\n",
              "2019-06-26  1.887720  0.518759 -0.177575  0.781066\n",
              "2019-06-27  0.487023 -0.207120  0.256555 -1.018159\n",
              "2019-06-28  2.183929  0.120200  0.953885  0.208210\n",
              "2019-06-29  0.563055  0.742083  0.198918  1.188418\n",
              "2019-06-30 -1.850712 -0.995486 -0.662057 -0.524001"
            ],
            "text/html": [
              "\n",
              "  <div id=\"df-bfc8da0b-138a-47e3-a0e3-b5707375d1ba\">\n",
              "    <div class=\"colab-df-container\">\n",
              "      <div>\n",
              "<style scoped>\n",
              "    .dataframe tbody tr th:only-of-type {\n",
              "        vertical-align: middle;\n",
              "    }\n",
              "\n",
              "    .dataframe tbody tr th {\n",
              "        vertical-align: top;\n",
              "    }\n",
              "\n",
              "    .dataframe thead th {\n",
              "        text-align: right;\n",
              "    }\n",
              "</style>\n",
              "<table border=\"1\" class=\"dataframe\">\n",
              "  <thead>\n",
              "    <tr style=\"text-align: right;\">\n",
              "      <th></th>\n",
              "      <th>A</th>\n",
              "      <th>B</th>\n",
              "      <th>C</th>\n",
              "      <th>D</th>\n",
              "    </tr>\n",
              "  </thead>\n",
              "  <tbody>\n",
              "    <tr>\n",
              "      <th>2019-06-01</th>\n",
              "      <td>0.235349</td>\n",
              "      <td>-1.167467</td>\n",
              "      <td>0.356674</td>\n",
              "      <td>0.029502</td>\n",
              "    </tr>\n",
              "    <tr>\n",
              "      <th>2019-06-02</th>\n",
              "      <td>-1.183683</td>\n",
              "      <td>-0.611880</td>\n",
              "      <td>-2.674328</td>\n",
              "      <td>0.010336</td>\n",
              "    </tr>\n",
              "    <tr>\n",
              "      <th>2019-06-03</th>\n",
              "      <td>2.193596</td>\n",
              "      <td>-0.241233</td>\n",
              "      <td>0.121762</td>\n",
              "      <td>-0.114457</td>\n",
              "    </tr>\n",
              "    <tr>\n",
              "      <th>2019-06-04</th>\n",
              "      <td>0.735286</td>\n",
              "      <td>-1.625062</td>\n",
              "      <td>0.524003</td>\n",
              "      <td>-1.130599</td>\n",
              "    </tr>\n",
              "    <tr>\n",
              "      <th>2019-06-05</th>\n",
              "      <td>-0.382019</td>\n",
              "      <td>-1.544836</td>\n",
              "      <td>0.266286</td>\n",
              "      <td>0.868250</td>\n",
              "    </tr>\n",
              "    <tr>\n",
              "      <th>2019-06-06</th>\n",
              "      <td>0.911278</td>\n",
              "      <td>-0.001402</td>\n",
              "      <td>-0.464005</td>\n",
              "      <td>0.562613</td>\n",
              "    </tr>\n",
              "    <tr>\n",
              "      <th>2019-06-07</th>\n",
              "      <td>-1.107324</td>\n",
              "      <td>0.724490</td>\n",
              "      <td>0.354879</td>\n",
              "      <td>1.693234</td>\n",
              "    </tr>\n",
              "    <tr>\n",
              "      <th>2019-06-08</th>\n",
              "      <td>0.176569</td>\n",
              "      <td>1.043435</td>\n",
              "      <td>-0.257807</td>\n",
              "      <td>-0.734909</td>\n",
              "    </tr>\n",
              "    <tr>\n",
              "      <th>2019-06-09</th>\n",
              "      <td>0.494735</td>\n",
              "      <td>-1.684280</td>\n",
              "      <td>-0.514780</td>\n",
              "      <td>0.470972</td>\n",
              "    </tr>\n",
              "    <tr>\n",
              "      <th>2019-06-10</th>\n",
              "      <td>1.955008</td>\n",
              "      <td>-0.580000</td>\n",
              "      <td>-0.731282</td>\n",
              "      <td>0.725584</td>\n",
              "    </tr>\n",
              "    <tr>\n",
              "      <th>2019-06-11</th>\n",
              "      <td>1.072344</td>\n",
              "      <td>0.808448</td>\n",
              "      <td>-0.726553</td>\n",
              "      <td>1.352356</td>\n",
              "    </tr>\n",
              "    <tr>\n",
              "      <th>2019-06-12</th>\n",
              "      <td>2.516613</td>\n",
              "      <td>-0.162643</td>\n",
              "      <td>-1.515646</td>\n",
              "      <td>1.561710</td>\n",
              "    </tr>\n",
              "    <tr>\n",
              "      <th>2019-06-13</th>\n",
              "      <td>-0.212379</td>\n",
              "      <td>0.757807</td>\n",
              "      <td>-0.074277</td>\n",
              "      <td>-1.849403</td>\n",
              "    </tr>\n",
              "    <tr>\n",
              "      <th>2019-06-14</th>\n",
              "      <td>0.123093</td>\n",
              "      <td>-1.748997</td>\n",
              "      <td>-1.258718</td>\n",
              "      <td>-0.766629</td>\n",
              "    </tr>\n",
              "    <tr>\n",
              "      <th>2019-06-15</th>\n",
              "      <td>1.529114</td>\n",
              "      <td>0.516953</td>\n",
              "      <td>0.182177</td>\n",
              "      <td>2.157285</td>\n",
              "    </tr>\n",
              "    <tr>\n",
              "      <th>2019-06-16</th>\n",
              "      <td>0.372633</td>\n",
              "      <td>0.207591</td>\n",
              "      <td>0.968378</td>\n",
              "      <td>0.305502</td>\n",
              "    </tr>\n",
              "    <tr>\n",
              "      <th>2019-06-17</th>\n",
              "      <td>-0.176814</td>\n",
              "      <td>0.095435</td>\n",
              "      <td>0.094025</td>\n",
              "      <td>-2.462349</td>\n",
              "    </tr>\n",
              "    <tr>\n",
              "      <th>2019-06-18</th>\n",
              "      <td>1.955145</td>\n",
              "      <td>-0.076214</td>\n",
              "      <td>-0.378593</td>\n",
              "      <td>1.444023</td>\n",
              "    </tr>\n",
              "    <tr>\n",
              "      <th>2019-06-19</th>\n",
              "      <td>-0.826468</td>\n",
              "      <td>0.528041</td>\n",
              "      <td>0.487042</td>\n",
              "      <td>-0.954167</td>\n",
              "    </tr>\n",
              "    <tr>\n",
              "      <th>2019-06-20</th>\n",
              "      <td>-0.894576</td>\n",
              "      <td>-0.205392</td>\n",
              "      <td>-0.357148</td>\n",
              "      <td>-0.230599</td>\n",
              "    </tr>\n",
              "    <tr>\n",
              "      <th>2019-06-21</th>\n",
              "      <td>0.762846</td>\n",
              "      <td>0.869399</td>\n",
              "      <td>-0.612294</td>\n",
              "      <td>1.635239</td>\n",
              "    </tr>\n",
              "    <tr>\n",
              "      <th>2019-06-22</th>\n",
              "      <td>-1.817266</td>\n",
              "      <td>-1.951783</td>\n",
              "      <td>0.315889</td>\n",
              "      <td>0.359765</td>\n",
              "    </tr>\n",
              "    <tr>\n",
              "      <th>2019-06-23</th>\n",
              "      <td>1.101646</td>\n",
              "      <td>0.948957</td>\n",
              "      <td>-0.018150</td>\n",
              "      <td>-0.183907</td>\n",
              "    </tr>\n",
              "    <tr>\n",
              "      <th>2019-06-24</th>\n",
              "      <td>-0.244912</td>\n",
              "      <td>0.386734</td>\n",
              "      <td>0.702772</td>\n",
              "      <td>0.954178</td>\n",
              "    </tr>\n",
              "    <tr>\n",
              "      <th>2019-06-25</th>\n",
              "      <td>0.793781</td>\n",
              "      <td>2.456323</td>\n",
              "      <td>-0.179246</td>\n",
              "      <td>0.385732</td>\n",
              "    </tr>\n",
              "    <tr>\n",
              "      <th>2019-06-26</th>\n",
              "      <td>1.887720</td>\n",
              "      <td>0.518759</td>\n",
              "      <td>-0.177575</td>\n",
              "      <td>0.781066</td>\n",
              "    </tr>\n",
              "    <tr>\n",
              "      <th>2019-06-27</th>\n",
              "      <td>0.487023</td>\n",
              "      <td>-0.207120</td>\n",
              "      <td>0.256555</td>\n",
              "      <td>-1.018159</td>\n",
              "    </tr>\n",
              "    <tr>\n",
              "      <th>2019-06-28</th>\n",
              "      <td>2.183929</td>\n",
              "      <td>0.120200</td>\n",
              "      <td>0.953885</td>\n",
              "      <td>0.208210</td>\n",
              "    </tr>\n",
              "    <tr>\n",
              "      <th>2019-06-29</th>\n",
              "      <td>0.563055</td>\n",
              "      <td>0.742083</td>\n",
              "      <td>0.198918</td>\n",
              "      <td>1.188418</td>\n",
              "    </tr>\n",
              "    <tr>\n",
              "      <th>2019-06-30</th>\n",
              "      <td>-1.850712</td>\n",
              "      <td>-0.995486</td>\n",
              "      <td>-0.662057</td>\n",
              "      <td>-0.524001</td>\n",
              "    </tr>\n",
              "  </tbody>\n",
              "</table>\n",
              "</div>\n",
              "      <button class=\"colab-df-convert\" onclick=\"convertToInteractive('df-bfc8da0b-138a-47e3-a0e3-b5707375d1ba')\"\n",
              "              title=\"Convert this dataframe to an interactive table.\"\n",
              "              style=\"display:none;\">\n",
              "        \n",
              "  <svg xmlns=\"http://www.w3.org/2000/svg\" height=\"24px\"viewBox=\"0 0 24 24\"\n",
              "       width=\"24px\">\n",
              "    <path d=\"M0 0h24v24H0V0z\" fill=\"none\"/>\n",
              "    <path d=\"M18.56 5.44l.94 2.06.94-2.06 2.06-.94-2.06-.94-.94-2.06-.94 2.06-2.06.94zm-11 1L8.5 8.5l.94-2.06 2.06-.94-2.06-.94L8.5 2.5l-.94 2.06-2.06.94zm10 10l.94 2.06.94-2.06 2.06-.94-2.06-.94-.94-2.06-.94 2.06-2.06.94z\"/><path d=\"M17.41 7.96l-1.37-1.37c-.4-.4-.92-.59-1.43-.59-.52 0-1.04.2-1.43.59L10.3 9.45l-7.72 7.72c-.78.78-.78 2.05 0 2.83L4 21.41c.39.39.9.59 1.41.59.51 0 1.02-.2 1.41-.59l7.78-7.78 2.81-2.81c.8-.78.8-2.07 0-2.86zM5.41 20L4 18.59l7.72-7.72 1.47 1.35L5.41 20z\"/>\n",
              "  </svg>\n",
              "      </button>\n",
              "      \n",
              "  <style>\n",
              "    .colab-df-container {\n",
              "      display:flex;\n",
              "      flex-wrap:wrap;\n",
              "      gap: 12px;\n",
              "    }\n",
              "\n",
              "    .colab-df-convert {\n",
              "      background-color: #E8F0FE;\n",
              "      border: none;\n",
              "      border-radius: 50%;\n",
              "      cursor: pointer;\n",
              "      display: none;\n",
              "      fill: #1967D2;\n",
              "      height: 32px;\n",
              "      padding: 0 0 0 0;\n",
              "      width: 32px;\n",
              "    }\n",
              "\n",
              "    .colab-df-convert:hover {\n",
              "      background-color: #E2EBFA;\n",
              "      box-shadow: 0px 1px 2px rgba(60, 64, 67, 0.3), 0px 1px 3px 1px rgba(60, 64, 67, 0.15);\n",
              "      fill: #174EA6;\n",
              "    }\n",
              "\n",
              "    [theme=dark] .colab-df-convert {\n",
              "      background-color: #3B4455;\n",
              "      fill: #D2E3FC;\n",
              "    }\n",
              "\n",
              "    [theme=dark] .colab-df-convert:hover {\n",
              "      background-color: #434B5C;\n",
              "      box-shadow: 0px 1px 3px 1px rgba(0, 0, 0, 0.15);\n",
              "      filter: drop-shadow(0px 1px 2px rgba(0, 0, 0, 0.3));\n",
              "      fill: #FFFFFF;\n",
              "    }\n",
              "  </style>\n",
              "\n",
              "      <script>\n",
              "        const buttonEl =\n",
              "          document.querySelector('#df-bfc8da0b-138a-47e3-a0e3-b5707375d1ba button.colab-df-convert');\n",
              "        buttonEl.style.display =\n",
              "          google.colab.kernel.accessAllowed ? 'block' : 'none';\n",
              "\n",
              "        async function convertToInteractive(key) {\n",
              "          const element = document.querySelector('#df-bfc8da0b-138a-47e3-a0e3-b5707375d1ba');\n",
              "          const dataTable =\n",
              "            await google.colab.kernel.invokeFunction('convertToInteractive',\n",
              "                                                     [key], {});\n",
              "          if (!dataTable) return;\n",
              "\n",
              "          const docLinkHtml = 'Like what you see? Visit the ' +\n",
              "            '<a target=\"_blank\" href=https://colab.research.google.com/notebooks/data_table.ipynb>data table notebook</a>'\n",
              "            + ' to learn more about interactive tables.';\n",
              "          element.innerHTML = '';\n",
              "          dataTable['output_type'] = 'display_data';\n",
              "          await google.colab.output.renderOutput(dataTable, element);\n",
              "          const docLink = document.createElement('div');\n",
              "          docLink.innerHTML = docLinkHtml;\n",
              "          element.appendChild(docLink);\n",
              "        }\n",
              "      </script>\n",
              "    </div>\n",
              "  </div>\n",
              "  "
            ]
          },
          "metadata": {},
          "execution_count": 72
        }
      ]
    },
    {
      "cell_type": "code",
      "source": [
        "tdf['C']"
      ],
      "metadata": {
        "colab": {
          "base_uri": "https://localhost:8080/"
        },
        "id": "TOW9tUHSy1Fj",
        "outputId": "3a96a947-a7b5-4e88-cf36-2bce43eb5e1a"
      },
      "execution_count": 73,
      "outputs": [
        {
          "output_type": "execute_result",
          "data": {
            "text/plain": [
              "2017-07-01   -0.679615\n",
              "2017-07-02   -0.203859\n",
              "2017-07-03   -0.622489\n",
              "2017-07-04   -0.453351\n",
              "2017-07-05   -0.652360\n",
              "                ...   \n",
              "2020-03-22    0.372593\n",
              "2020-03-23   -1.459176\n",
              "2020-03-24   -0.499074\n",
              "2020-03-25    0.628015\n",
              "2020-03-26   -1.178223\n",
              "Freq: D, Name: C, Length: 1000, dtype: float64"
            ]
          },
          "metadata": {},
          "execution_count": 73
        }
      ]
    },
    {
      "cell_type": "code",
      "source": [
        "ts1 = pd.Series(np.random.randn(10), index = pd.DatetimeIndex(['2020-01-01','2020-01-01','2020-01-02','2020-01-02','2020-01-03',\n",
        "                                                               '2020-01-04','2020-01-05','2020-01-05','2020-01-06','2020-01-07']))\n",
        "ts1"
      ],
      "metadata": {
        "colab": {
          "base_uri": "https://localhost:8080/"
        },
        "id": "0dgh1AvNzMVr",
        "outputId": "dfaa1b73-ccde-40c6-f256-cb3273f8622f"
      },
      "execution_count": 78,
      "outputs": [
        {
          "output_type": "execute_result",
          "data": {
            "text/plain": [
              "2020-01-01   -0.702693\n",
              "2020-01-01    1.705879\n",
              "2020-01-02    0.081640\n",
              "2020-01-02    0.831884\n",
              "2020-01-03    1.341748\n",
              "2020-01-04    1.045384\n",
              "2020-01-05    0.311311\n",
              "2020-01-05    0.864747\n",
              "2020-01-06   -1.380945\n",
              "2020-01-07   -0.156984\n",
              "dtype: float64"
            ]
          },
          "metadata": {},
          "execution_count": 78
        }
      ]
    },
    {
      "cell_type": "code",
      "source": [
        "# 중복상황의 점검\n",
        "\n",
        "ts1.index.is_unique"
      ],
      "metadata": {
        "colab": {
          "base_uri": "https://localhost:8080/"
        },
        "id": "gh5vFtru0BOT",
        "outputId": "5ae757c6-4b2e-40bd-a9d9-1fd66dd9d68e"
      },
      "execution_count": 82,
      "outputs": [
        {
          "output_type": "execute_result",
          "data": {
            "text/plain": [
              "False"
            ]
          },
          "metadata": {},
          "execution_count": 82
        }
      ]
    },
    {
      "cell_type": "code",
      "source": [
        "ts1['2020-01-01']"
      ],
      "metadata": {
        "colab": {
          "base_uri": "https://localhost:8080/"
        },
        "id": "miAZe24f0-l7",
        "outputId": "00f2384f-8a7f-4ce9-8dac-c6a40c66a385"
      },
      "execution_count": 83,
      "outputs": [
        {
          "output_type": "execute_result",
          "data": {
            "text/plain": [
              "2020-01-01   -0.702693\n",
              "2020-01-01    1.705879\n",
              "dtype: float64"
            ]
          },
          "metadata": {},
          "execution_count": 83
        }
      ]
    },
    {
      "cell_type": "code",
      "source": [
        "# 같은 날짜의 값는 평균갑으로 대체하여 합침\n",
        "\n",
        "ts1.groupby(level=0).mean()"
      ],
      "metadata": {
        "colab": {
          "base_uri": "https://localhost:8080/"
        },
        "id": "nVWQ5JWW1Ozb",
        "outputId": "b16d2816-54ee-44c5-c252-f2a827408ada"
      },
      "execution_count": 84,
      "outputs": [
        {
          "output_type": "execute_result",
          "data": {
            "text/plain": [
              "2020-01-01    0.501593\n",
              "2020-01-02    0.456762\n",
              "2020-01-03    1.341748\n",
              "2020-01-04    1.045384\n",
              "2020-01-05    0.588029\n",
              "2020-01-06   -1.380945\n",
              "2020-01-07   -0.156984\n",
              "dtype: float64"
            ]
          },
          "metadata": {},
          "execution_count": 84
        }
      ]
    },
    {
      "cell_type": "code",
      "source": [
        "pd.date_range('2020-01-01', '2020-07-01')"
      ],
      "metadata": {
        "colab": {
          "base_uri": "https://localhost:8080/"
        },
        "id": "8ahBBokt2BuM",
        "outputId": "7c8064e5-6b74-41ae-8d4e-42f55efb3313"
      },
      "execution_count": 85,
      "outputs": [
        {
          "output_type": "execute_result",
          "data": {
            "text/plain": [
              "DatetimeIndex(['2020-01-01', '2020-01-02', '2020-01-03', '2020-01-04',\n",
              "               '2020-01-05', '2020-01-06', '2020-01-07', '2020-01-08',\n",
              "               '2020-01-09', '2020-01-10',\n",
              "               ...\n",
              "               '2020-06-22', '2020-06-23', '2020-06-24', '2020-06-25',\n",
              "               '2020-06-26', '2020-06-27', '2020-06-28', '2020-06-29',\n",
              "               '2020-06-30', '2020-07-01'],\n",
              "              dtype='datetime64[ns]', length=183, freq='D')"
            ]
          },
          "metadata": {},
          "execution_count": 85
        }
      ]
    },
    {
      "cell_type": "code",
      "source": [
        "pd.date_range(start='2020-01-01', periods=10)"
      ],
      "metadata": {
        "colab": {
          "base_uri": "https://localhost:8080/"
        },
        "id": "3Mg9sSxg2gCz",
        "outputId": "14c9d34e-2512-4239-d699-1bf886b5c1e2"
      },
      "execution_count": 86,
      "outputs": [
        {
          "output_type": "execute_result",
          "data": {
            "text/plain": [
              "DatetimeIndex(['2020-01-01', '2020-01-02', '2020-01-03', '2020-01-04',\n",
              "               '2020-01-05', '2020-01-06', '2020-01-07', '2020-01-08',\n",
              "               '2020-01-09', '2020-01-10'],\n",
              "              dtype='datetime64[ns]', freq='D')"
            ]
          },
          "metadata": {},
          "execution_count": 86
        }
      ]
    },
    {
      "cell_type": "code",
      "source": [
        "pd.date_range(end='2020-01-01', periods=10)\n"
      ],
      "metadata": {
        "colab": {
          "base_uri": "https://localhost:8080/"
        },
        "id": "MgJ6tye72ts0",
        "outputId": "f2a0f6ca-93eb-4b82-f19f-fa1178081259"
      },
      "execution_count": 90,
      "outputs": [
        {
          "output_type": "execute_result",
          "data": {
            "text/plain": [
              "DatetimeIndex(['2019-12-23', '2019-12-24', '2019-12-25', '2019-12-26',\n",
              "               '2019-12-27', '2019-12-28', '2019-12-29', '2019-12-30',\n",
              "               '2019-12-31', '2020-01-01'],\n",
              "              dtype='datetime64[ns]', freq='D')"
            ]
          },
          "metadata": {},
          "execution_count": 90
        }
      ]
    },
    {
      "cell_type": "code",
      "source": [
        "# 영업일(Business day)만 추출하기\n",
        "\n",
        "pd.date_range('2020-01-01','20200201', freq='B')"
      ],
      "metadata": {
        "colab": {
          "base_uri": "https://localhost:8080/"
        },
        "id": "ZjWxA0qG2-Zp",
        "outputId": "054e4559-fac8-4db6-86a4-0bafd78f6dbf"
      },
      "execution_count": 91,
      "outputs": [
        {
          "output_type": "execute_result",
          "data": {
            "text/plain": [
              "DatetimeIndex(['2020-01-01', '2020-01-02', '2020-01-03', '2020-01-06',\n",
              "               '2020-01-07', '2020-01-08', '2020-01-09', '2020-01-10',\n",
              "               '2020-01-13', '2020-01-14', '2020-01-15', '2020-01-16',\n",
              "               '2020-01-17', '2020-01-20', '2020-01-21', '2020-01-22',\n",
              "               '2020-01-23', '2020-01-24', '2020-01-27', '2020-01-28',\n",
              "               '2020-01-29', '2020-01-30', '2020-01-31'],\n",
              "              dtype='datetime64[ns]', freq='B')"
            ]
          },
          "metadata": {},
          "execution_count": 91
        }
      ]
    },
    {
      "cell_type": "markdown",
      "source": [
        "### 주기와 오프셋"
      ],
      "metadata": {
        "id": "CWLQqHia4NRt"
      }
    },
    {
      "cell_type": "code",
      "source": [
        "# 시간단위의 인덱스 추출\n",
        "\n",
        "pd.timedelta_range(0, periods=12, freq='H')"
      ],
      "metadata": {
        "colab": {
          "base_uri": "https://localhost:8080/"
        },
        "id": "xrIcmlTF4S86",
        "outputId": "9b83e564-4811-44a1-d2c1-eebb52c4ccc5"
      },
      "execution_count": 97,
      "outputs": [
        {
          "output_type": "execute_result",
          "data": {
            "text/plain": [
              "TimedeltaIndex(['0 days 00:00:00', '0 days 01:00:00', '0 days 02:00:00',\n",
              "                '0 days 03:00:00', '0 days 04:00:00', '0 days 05:00:00',\n",
              "                '0 days 06:00:00', '0 days 07:00:00', '0 days 08:00:00',\n",
              "                '0 days 09:00:00', '0 days 10:00:00', '0 days 11:00:00'],\n",
              "               dtype='timedelta64[ns]', freq='H')"
            ]
          },
          "metadata": {},
          "execution_count": 97
        }
      ]
    },
    {
      "cell_type": "code",
      "source": [
        "pd.timedelta_range(0, periods=10, freq='1H30T')\n"
      ],
      "metadata": {
        "colab": {
          "base_uri": "https://localhost:8080/"
        },
        "id": "wqHq3adF-Cyd",
        "outputId": "a4d0b23e-d4c7-459b-8eea-3e3106df8c8d"
      },
      "execution_count": 100,
      "outputs": [
        {
          "output_type": "execute_result",
          "data": {
            "text/plain": [
              "TimedeltaIndex(['0 days 00:00:00', '0 days 01:30:00', '0 days 03:00:00',\n",
              "                '0 days 04:30:00', '0 days 06:00:00', '0 days 07:30:00',\n",
              "                '0 days 09:00:00', '0 days 10:30:00', '0 days 12:00:00',\n",
              "                '0 days 13:30:00'],\n",
              "               dtype='timedelta64[ns]', freq='90T')"
            ]
          },
          "metadata": {},
          "execution_count": 100
        }
      ]
    },
    {
      "cell_type": "markdown",
      "source": [
        "### Shift"
      ],
      "metadata": {
        "id": "lOCIGWPR_DDH"
      }
    },
    {
      "cell_type": "code",
      "source": [
        "ts2 = pd.Series(np.random.randn(5),\n",
        "                index=pd.date_range('2020-01-01',periods=5, freq='B'))\n",
        "ts2"
      ],
      "metadata": {
        "colab": {
          "base_uri": "https://localhost:8080/"
        },
        "id": "K6ZvXDow_HdD",
        "outputId": "4b383094-b607-4e95-d903-dc65f5579ec0"
      },
      "execution_count": 3,
      "outputs": [
        {
          "output_type": "execute_result",
          "data": {
            "text/plain": [
              "2020-01-01   -1.403164\n",
              "2020-01-02   -2.008055\n",
              "2020-01-03   -0.872971\n",
              "2020-01-06   -0.905406\n",
              "2020-01-07    1.800007\n",
              "Freq: B, dtype: float64"
            ]
          },
          "metadata": {},
          "execution_count": 3
        }
      ]
    },
    {
      "cell_type": "code",
      "source": [
        "ts2.shift(1)"
      ],
      "metadata": {
        "colab": {
          "base_uri": "https://localhost:8080/"
        },
        "id": "OIAA_QtR_pUK",
        "outputId": "21e5aaa3-9a94-4e5c-a326-163a9bd7774f"
      },
      "execution_count": 105,
      "outputs": [
        {
          "output_type": "execute_result",
          "data": {
            "text/plain": [
              "2020-01-01         NaN\n",
              "2020-01-02    0.895225\n",
              "2020-01-03    0.061482\n",
              "2020-01-06   -0.339773\n",
              "2020-01-07    0.508326\n",
              "Freq: B, dtype: float64"
            ]
          },
          "metadata": {},
          "execution_count": 105
        }
      ]
    },
    {
      "cell_type": "code",
      "source": [
        "ts2.shift(3)"
      ],
      "metadata": {
        "colab": {
          "base_uri": "https://localhost:8080/"
        },
        "id": "6wUJEJHr_6lk",
        "outputId": "d23e6e31-97cb-42c0-c493-a7cad93e8022"
      },
      "execution_count": 106,
      "outputs": [
        {
          "output_type": "execute_result",
          "data": {
            "text/plain": [
              "2020-01-01         NaN\n",
              "2020-01-02         NaN\n",
              "2020-01-03         NaN\n",
              "2020-01-06    0.895225\n",
              "2020-01-07    0.061482\n",
              "Freq: B, dtype: float64"
            ]
          },
          "metadata": {},
          "execution_count": 106
        }
      ]
    },
    {
      "cell_type": "code",
      "source": [
        "ts2.shift(-2)"
      ],
      "metadata": {
        "colab": {
          "base_uri": "https://localhost:8080/"
        },
        "id": "vkWTOMvBAHiA",
        "outputId": "4964fe91-a8c9-406d-ea45-e21788a8ffc9"
      },
      "execution_count": 4,
      "outputs": [
        {
          "output_type": "execute_result",
          "data": {
            "text/plain": [
              "2020-01-01   -0.872971\n",
              "2020-01-02   -0.905406\n",
              "2020-01-03    1.800007\n",
              "2020-01-06         NaN\n",
              "2020-01-07         NaN\n",
              "Freq: B, dtype: float64"
            ]
          },
          "metadata": {},
          "execution_count": 4
        }
      ]
    },
    {
      "cell_type": "markdown",
      "source": [
        "### 시간대 처리"
      ],
      "metadata": {
        "id": "w5XaUom4tq6d"
      }
    },
    {
      "cell_type": "code",
      "source": [
        "import pytz"
      ],
      "metadata": {
        "id": "lNmI8p9At5gq"
      },
      "execution_count": 5,
      "outputs": []
    },
    {
      "cell_type": "code",
      "source": [
        "pytz.common_timezones"
      ],
      "metadata": {
        "colab": {
          "base_uri": "https://localhost:8080/"
        },
        "id": "6kLI9X2xuRCy",
        "outputId": "84e67c95-340e-4069-f872-9a900983a2c6"
      },
      "execution_count": 8,
      "outputs": [
        {
          "output_type": "execute_result",
          "data": {
            "text/plain": [
              "['Africa/Abidjan',\n",
              " 'Africa/Accra',\n",
              " 'Africa/Addis_Ababa',\n",
              " 'Africa/Algiers',\n",
              " 'Africa/Asmara',\n",
              " 'Africa/Bamako',\n",
              " 'Africa/Bangui',\n",
              " 'Africa/Banjul',\n",
              " 'Africa/Bissau',\n",
              " 'Africa/Blantyre',\n",
              " 'Africa/Brazzaville',\n",
              " 'Africa/Bujumbura',\n",
              " 'Africa/Cairo',\n",
              " 'Africa/Casablanca',\n",
              " 'Africa/Ceuta',\n",
              " 'Africa/Conakry',\n",
              " 'Africa/Dakar',\n",
              " 'Africa/Dar_es_Salaam',\n",
              " 'Africa/Djibouti',\n",
              " 'Africa/Douala',\n",
              " 'Africa/El_Aaiun',\n",
              " 'Africa/Freetown',\n",
              " 'Africa/Gaborone',\n",
              " 'Africa/Harare',\n",
              " 'Africa/Johannesburg',\n",
              " 'Africa/Juba',\n",
              " 'Africa/Kampala',\n",
              " 'Africa/Khartoum',\n",
              " 'Africa/Kigali',\n",
              " 'Africa/Kinshasa',\n",
              " 'Africa/Lagos',\n",
              " 'Africa/Libreville',\n",
              " 'Africa/Lome',\n",
              " 'Africa/Luanda',\n",
              " 'Africa/Lubumbashi',\n",
              " 'Africa/Lusaka',\n",
              " 'Africa/Malabo',\n",
              " 'Africa/Maputo',\n",
              " 'Africa/Maseru',\n",
              " 'Africa/Mbabane',\n",
              " 'Africa/Mogadishu',\n",
              " 'Africa/Monrovia',\n",
              " 'Africa/Nairobi',\n",
              " 'Africa/Ndjamena',\n",
              " 'Africa/Niamey',\n",
              " 'Africa/Nouakchott',\n",
              " 'Africa/Ouagadougou',\n",
              " 'Africa/Porto-Novo',\n",
              " 'Africa/Sao_Tome',\n",
              " 'Africa/Tripoli',\n",
              " 'Africa/Tunis',\n",
              " 'Africa/Windhoek',\n",
              " 'America/Adak',\n",
              " 'America/Anchorage',\n",
              " 'America/Anguilla',\n",
              " 'America/Antigua',\n",
              " 'America/Araguaina',\n",
              " 'America/Argentina/Buenos_Aires',\n",
              " 'America/Argentina/Catamarca',\n",
              " 'America/Argentina/Cordoba',\n",
              " 'America/Argentina/Jujuy',\n",
              " 'America/Argentina/La_Rioja',\n",
              " 'America/Argentina/Mendoza',\n",
              " 'America/Argentina/Rio_Gallegos',\n",
              " 'America/Argentina/Salta',\n",
              " 'America/Argentina/San_Juan',\n",
              " 'America/Argentina/San_Luis',\n",
              " 'America/Argentina/Tucuman',\n",
              " 'America/Argentina/Ushuaia',\n",
              " 'America/Aruba',\n",
              " 'America/Asuncion',\n",
              " 'America/Atikokan',\n",
              " 'America/Bahia',\n",
              " 'America/Bahia_Banderas',\n",
              " 'America/Barbados',\n",
              " 'America/Belem',\n",
              " 'America/Belize',\n",
              " 'America/Blanc-Sablon',\n",
              " 'America/Boa_Vista',\n",
              " 'America/Bogota',\n",
              " 'America/Boise',\n",
              " 'America/Cambridge_Bay',\n",
              " 'America/Campo_Grande',\n",
              " 'America/Cancun',\n",
              " 'America/Caracas',\n",
              " 'America/Cayenne',\n",
              " 'America/Cayman',\n",
              " 'America/Chicago',\n",
              " 'America/Chihuahua',\n",
              " 'America/Costa_Rica',\n",
              " 'America/Creston',\n",
              " 'America/Cuiaba',\n",
              " 'America/Curacao',\n",
              " 'America/Danmarkshavn',\n",
              " 'America/Dawson',\n",
              " 'America/Dawson_Creek',\n",
              " 'America/Denver',\n",
              " 'America/Detroit',\n",
              " 'America/Dominica',\n",
              " 'America/Edmonton',\n",
              " 'America/Eirunepe',\n",
              " 'America/El_Salvador',\n",
              " 'America/Fort_Nelson',\n",
              " 'America/Fortaleza',\n",
              " 'America/Glace_Bay',\n",
              " 'America/Godthab',\n",
              " 'America/Goose_Bay',\n",
              " 'America/Grand_Turk',\n",
              " 'America/Grenada',\n",
              " 'America/Guadeloupe',\n",
              " 'America/Guatemala',\n",
              " 'America/Guayaquil',\n",
              " 'America/Guyana',\n",
              " 'America/Halifax',\n",
              " 'America/Havana',\n",
              " 'America/Hermosillo',\n",
              " 'America/Indiana/Indianapolis',\n",
              " 'America/Indiana/Knox',\n",
              " 'America/Indiana/Marengo',\n",
              " 'America/Indiana/Petersburg',\n",
              " 'America/Indiana/Tell_City',\n",
              " 'America/Indiana/Vevay',\n",
              " 'America/Indiana/Vincennes',\n",
              " 'America/Indiana/Winamac',\n",
              " 'America/Inuvik',\n",
              " 'America/Iqaluit',\n",
              " 'America/Jamaica',\n",
              " 'America/Juneau',\n",
              " 'America/Kentucky/Louisville',\n",
              " 'America/Kentucky/Monticello',\n",
              " 'America/Kralendijk',\n",
              " 'America/La_Paz',\n",
              " 'America/Lima',\n",
              " 'America/Los_Angeles',\n",
              " 'America/Lower_Princes',\n",
              " 'America/Maceio',\n",
              " 'America/Managua',\n",
              " 'America/Manaus',\n",
              " 'America/Marigot',\n",
              " 'America/Martinique',\n",
              " 'America/Matamoros',\n",
              " 'America/Mazatlan',\n",
              " 'America/Menominee',\n",
              " 'America/Merida',\n",
              " 'America/Metlakatla',\n",
              " 'America/Mexico_City',\n",
              " 'America/Miquelon',\n",
              " 'America/Moncton',\n",
              " 'America/Monterrey',\n",
              " 'America/Montevideo',\n",
              " 'America/Montserrat',\n",
              " 'America/Nassau',\n",
              " 'America/New_York',\n",
              " 'America/Nipigon',\n",
              " 'America/Nome',\n",
              " 'America/Noronha',\n",
              " 'America/North_Dakota/Beulah',\n",
              " 'America/North_Dakota/Center',\n",
              " 'America/North_Dakota/New_Salem',\n",
              " 'America/Ojinaga',\n",
              " 'America/Panama',\n",
              " 'America/Pangnirtung',\n",
              " 'America/Paramaribo',\n",
              " 'America/Phoenix',\n",
              " 'America/Port-au-Prince',\n",
              " 'America/Port_of_Spain',\n",
              " 'America/Porto_Velho',\n",
              " 'America/Puerto_Rico',\n",
              " 'America/Punta_Arenas',\n",
              " 'America/Rainy_River',\n",
              " 'America/Rankin_Inlet',\n",
              " 'America/Recife',\n",
              " 'America/Regina',\n",
              " 'America/Resolute',\n",
              " 'America/Rio_Branco',\n",
              " 'America/Santarem',\n",
              " 'America/Santiago',\n",
              " 'America/Santo_Domingo',\n",
              " 'America/Sao_Paulo',\n",
              " 'America/Scoresbysund',\n",
              " 'America/Sitka',\n",
              " 'America/St_Barthelemy',\n",
              " 'America/St_Johns',\n",
              " 'America/St_Kitts',\n",
              " 'America/St_Lucia',\n",
              " 'America/St_Thomas',\n",
              " 'America/St_Vincent',\n",
              " 'America/Swift_Current',\n",
              " 'America/Tegucigalpa',\n",
              " 'America/Thule',\n",
              " 'America/Thunder_Bay',\n",
              " 'America/Tijuana',\n",
              " 'America/Toronto',\n",
              " 'America/Tortola',\n",
              " 'America/Vancouver',\n",
              " 'America/Whitehorse',\n",
              " 'America/Winnipeg',\n",
              " 'America/Yakutat',\n",
              " 'America/Yellowknife',\n",
              " 'Antarctica/Casey',\n",
              " 'Antarctica/Davis',\n",
              " 'Antarctica/DumontDUrville',\n",
              " 'Antarctica/Macquarie',\n",
              " 'Antarctica/Mawson',\n",
              " 'Antarctica/McMurdo',\n",
              " 'Antarctica/Palmer',\n",
              " 'Antarctica/Rothera',\n",
              " 'Antarctica/Syowa',\n",
              " 'Antarctica/Troll',\n",
              " 'Antarctica/Vostok',\n",
              " 'Arctic/Longyearbyen',\n",
              " 'Asia/Aden',\n",
              " 'Asia/Almaty',\n",
              " 'Asia/Amman',\n",
              " 'Asia/Anadyr',\n",
              " 'Asia/Aqtau',\n",
              " 'Asia/Aqtobe',\n",
              " 'Asia/Ashgabat',\n",
              " 'Asia/Atyrau',\n",
              " 'Asia/Baghdad',\n",
              " 'Asia/Bahrain',\n",
              " 'Asia/Baku',\n",
              " 'Asia/Bangkok',\n",
              " 'Asia/Barnaul',\n",
              " 'Asia/Beirut',\n",
              " 'Asia/Bishkek',\n",
              " 'Asia/Brunei',\n",
              " 'Asia/Chita',\n",
              " 'Asia/Choibalsan',\n",
              " 'Asia/Colombo',\n",
              " 'Asia/Damascus',\n",
              " 'Asia/Dhaka',\n",
              " 'Asia/Dili',\n",
              " 'Asia/Dubai',\n",
              " 'Asia/Dushanbe',\n",
              " 'Asia/Famagusta',\n",
              " 'Asia/Gaza',\n",
              " 'Asia/Hebron',\n",
              " 'Asia/Ho_Chi_Minh',\n",
              " 'Asia/Hong_Kong',\n",
              " 'Asia/Hovd',\n",
              " 'Asia/Irkutsk',\n",
              " 'Asia/Jakarta',\n",
              " 'Asia/Jayapura',\n",
              " 'Asia/Jerusalem',\n",
              " 'Asia/Kabul',\n",
              " 'Asia/Kamchatka',\n",
              " 'Asia/Karachi',\n",
              " 'Asia/Kathmandu',\n",
              " 'Asia/Khandyga',\n",
              " 'Asia/Kolkata',\n",
              " 'Asia/Krasnoyarsk',\n",
              " 'Asia/Kuala_Lumpur',\n",
              " 'Asia/Kuching',\n",
              " 'Asia/Kuwait',\n",
              " 'Asia/Macau',\n",
              " 'Asia/Magadan',\n",
              " 'Asia/Makassar',\n",
              " 'Asia/Manila',\n",
              " 'Asia/Muscat',\n",
              " 'Asia/Nicosia',\n",
              " 'Asia/Novokuznetsk',\n",
              " 'Asia/Novosibirsk',\n",
              " 'Asia/Omsk',\n",
              " 'Asia/Oral',\n",
              " 'Asia/Phnom_Penh',\n",
              " 'Asia/Pontianak',\n",
              " 'Asia/Pyongyang',\n",
              " 'Asia/Qatar',\n",
              " 'Asia/Qostanay',\n",
              " 'Asia/Qyzylorda',\n",
              " 'Asia/Riyadh',\n",
              " 'Asia/Sakhalin',\n",
              " 'Asia/Samarkand',\n",
              " 'Asia/Seoul',\n",
              " 'Asia/Shanghai',\n",
              " 'Asia/Singapore',\n",
              " 'Asia/Srednekolymsk',\n",
              " 'Asia/Taipei',\n",
              " 'Asia/Tashkent',\n",
              " 'Asia/Tbilisi',\n",
              " 'Asia/Tehran',\n",
              " 'Asia/Thimphu',\n",
              " 'Asia/Tokyo',\n",
              " 'Asia/Tomsk',\n",
              " 'Asia/Ulaanbaatar',\n",
              " 'Asia/Urumqi',\n",
              " 'Asia/Ust-Nera',\n",
              " 'Asia/Vientiane',\n",
              " 'Asia/Vladivostok',\n",
              " 'Asia/Yakutsk',\n",
              " 'Asia/Yangon',\n",
              " 'Asia/Yekaterinburg',\n",
              " 'Asia/Yerevan',\n",
              " 'Atlantic/Azores',\n",
              " 'Atlantic/Bermuda',\n",
              " 'Atlantic/Canary',\n",
              " 'Atlantic/Cape_Verde',\n",
              " 'Atlantic/Faroe',\n",
              " 'Atlantic/Madeira',\n",
              " 'Atlantic/Reykjavik',\n",
              " 'Atlantic/South_Georgia',\n",
              " 'Atlantic/St_Helena',\n",
              " 'Atlantic/Stanley',\n",
              " 'Australia/Adelaide',\n",
              " 'Australia/Brisbane',\n",
              " 'Australia/Broken_Hill',\n",
              " 'Australia/Currie',\n",
              " 'Australia/Darwin',\n",
              " 'Australia/Eucla',\n",
              " 'Australia/Hobart',\n",
              " 'Australia/Lindeman',\n",
              " 'Australia/Lord_Howe',\n",
              " 'Australia/Melbourne',\n",
              " 'Australia/Perth',\n",
              " 'Australia/Sydney',\n",
              " 'Canada/Atlantic',\n",
              " 'Canada/Central',\n",
              " 'Canada/Eastern',\n",
              " 'Canada/Mountain',\n",
              " 'Canada/Newfoundland',\n",
              " 'Canada/Pacific',\n",
              " 'Europe/Amsterdam',\n",
              " 'Europe/Andorra',\n",
              " 'Europe/Astrakhan',\n",
              " 'Europe/Athens',\n",
              " 'Europe/Belgrade',\n",
              " 'Europe/Berlin',\n",
              " 'Europe/Bratislava',\n",
              " 'Europe/Brussels',\n",
              " 'Europe/Bucharest',\n",
              " 'Europe/Budapest',\n",
              " 'Europe/Busingen',\n",
              " 'Europe/Chisinau',\n",
              " 'Europe/Copenhagen',\n",
              " 'Europe/Dublin',\n",
              " 'Europe/Gibraltar',\n",
              " 'Europe/Guernsey',\n",
              " 'Europe/Helsinki',\n",
              " 'Europe/Isle_of_Man',\n",
              " 'Europe/Istanbul',\n",
              " 'Europe/Jersey',\n",
              " 'Europe/Kaliningrad',\n",
              " 'Europe/Kiev',\n",
              " 'Europe/Kirov',\n",
              " 'Europe/Lisbon',\n",
              " 'Europe/Ljubljana',\n",
              " 'Europe/London',\n",
              " 'Europe/Luxembourg',\n",
              " 'Europe/Madrid',\n",
              " 'Europe/Malta',\n",
              " 'Europe/Mariehamn',\n",
              " 'Europe/Minsk',\n",
              " 'Europe/Monaco',\n",
              " 'Europe/Moscow',\n",
              " 'Europe/Oslo',\n",
              " 'Europe/Paris',\n",
              " 'Europe/Podgorica',\n",
              " 'Europe/Prague',\n",
              " 'Europe/Riga',\n",
              " 'Europe/Rome',\n",
              " 'Europe/Samara',\n",
              " 'Europe/San_Marino',\n",
              " 'Europe/Sarajevo',\n",
              " 'Europe/Saratov',\n",
              " 'Europe/Simferopol',\n",
              " 'Europe/Skopje',\n",
              " 'Europe/Sofia',\n",
              " 'Europe/Stockholm',\n",
              " 'Europe/Tallinn',\n",
              " 'Europe/Tirane',\n",
              " 'Europe/Ulyanovsk',\n",
              " 'Europe/Uzhgorod',\n",
              " 'Europe/Vaduz',\n",
              " 'Europe/Vatican',\n",
              " 'Europe/Vienna',\n",
              " 'Europe/Vilnius',\n",
              " 'Europe/Volgograd',\n",
              " 'Europe/Warsaw',\n",
              " 'Europe/Zagreb',\n",
              " 'Europe/Zaporozhye',\n",
              " 'Europe/Zurich',\n",
              " 'GMT',\n",
              " 'Indian/Antananarivo',\n",
              " 'Indian/Chagos',\n",
              " 'Indian/Christmas',\n",
              " 'Indian/Cocos',\n",
              " 'Indian/Comoro',\n",
              " 'Indian/Kerguelen',\n",
              " 'Indian/Mahe',\n",
              " 'Indian/Maldives',\n",
              " 'Indian/Mauritius',\n",
              " 'Indian/Mayotte',\n",
              " 'Indian/Reunion',\n",
              " 'Pacific/Apia',\n",
              " 'Pacific/Auckland',\n",
              " 'Pacific/Bougainville',\n",
              " 'Pacific/Chatham',\n",
              " 'Pacific/Chuuk',\n",
              " 'Pacific/Easter',\n",
              " 'Pacific/Efate',\n",
              " 'Pacific/Enderbury',\n",
              " 'Pacific/Fakaofo',\n",
              " 'Pacific/Fiji',\n",
              " 'Pacific/Funafuti',\n",
              " 'Pacific/Galapagos',\n",
              " 'Pacific/Gambier',\n",
              " 'Pacific/Guadalcanal',\n",
              " 'Pacific/Guam',\n",
              " 'Pacific/Honolulu',\n",
              " 'Pacific/Kiritimati',\n",
              " 'Pacific/Kosrae',\n",
              " 'Pacific/Kwajalein',\n",
              " 'Pacific/Majuro',\n",
              " 'Pacific/Marquesas',\n",
              " 'Pacific/Midway',\n",
              " 'Pacific/Nauru',\n",
              " 'Pacific/Niue',\n",
              " 'Pacific/Norfolk',\n",
              " 'Pacific/Noumea',\n",
              " 'Pacific/Pago_Pago',\n",
              " 'Pacific/Palau',\n",
              " 'Pacific/Pitcairn',\n",
              " 'Pacific/Pohnpei',\n",
              " 'Pacific/Port_Moresby',\n",
              " 'Pacific/Rarotonga',\n",
              " 'Pacific/Saipan',\n",
              " 'Pacific/Tahiti',\n",
              " 'Pacific/Tarawa',\n",
              " 'Pacific/Tongatapu',\n",
              " 'Pacific/Wake',\n",
              " 'Pacific/Wallis',\n",
              " 'US/Alaska',\n",
              " 'US/Arizona',\n",
              " 'US/Central',\n",
              " 'US/Eastern',\n",
              " 'US/Hawaii',\n",
              " 'US/Mountain',\n",
              " 'US/Pacific',\n",
              " 'UTC']"
            ]
          },
          "metadata": {},
          "execution_count": 8
        }
      ]
    },
    {
      "cell_type": "code",
      "source": [
        "tz = pytz.timezone('Asia/Seoul')"
      ],
      "metadata": {
        "id": "tafmHFE2uUow"
      },
      "execution_count": 10,
      "outputs": []
    },
    {
      "cell_type": "code",
      "source": [
        "dinx = pd.date_range('2020-01-01 09:00', periods=7, freq='B')\n",
        "ts = pd.Series(np.random.randn(len(dinx)), index=dinx)\n",
        "ts"
      ],
      "metadata": {
        "colab": {
          "base_uri": "https://localhost:8080/"
        },
        "id": "0QwmIoNRu_Hy",
        "outputId": "9e2eb525-bb76-4998-88aa-945d5eff86d3"
      },
      "execution_count": 14,
      "outputs": [
        {
          "output_type": "execute_result",
          "data": {
            "text/plain": [
              "2020-01-01 09:00:00   -1.648833\n",
              "2020-01-02 09:00:00    2.698254\n",
              "2020-01-03 09:00:00    1.258854\n",
              "2020-01-06 09:00:00   -0.343873\n",
              "2020-01-07 09:00:00    0.770746\n",
              "2020-01-08 09:00:00    0.021993\n",
              "2020-01-09 09:00:00    0.588939\n",
              "Freq: B, dtype: float64"
            ]
          },
          "metadata": {},
          "execution_count": 14
        }
      ]
    },
    {
      "cell_type": "code",
      "source": [
        "pd.date_range('2020-01-01 09:00', periods=7, freq='B', tz='UTC')\n"
      ],
      "metadata": {
        "colab": {
          "base_uri": "https://localhost:8080/"
        },
        "id": "DIkLm6tzvb42",
        "outputId": "a3b4172f-4fe4-4114-d9ad-561f7bdfa578"
      },
      "execution_count": 17,
      "outputs": [
        {
          "output_type": "execute_result",
          "data": {
            "text/plain": [
              "DatetimeIndex(['2020-01-01 09:00:00+00:00', '2020-01-02 09:00:00+00:00',\n",
              "               '2020-01-03 09:00:00+00:00', '2020-01-06 09:00:00+00:00',\n",
              "               '2020-01-07 09:00:00+00:00', '2020-01-08 09:00:00+00:00',\n",
              "               '2020-01-09 09:00:00+00:00'],\n",
              "              dtype='datetime64[ns, UTC]', freq='B')"
            ]
          },
          "metadata": {},
          "execution_count": 17
        }
      ]
    },
    {
      "cell_type": "code",
      "source": [
        "ts_utc =ts.tz_localize('UTC')\n",
        "ts_utc"
      ],
      "metadata": {
        "colab": {
          "base_uri": "https://localhost:8080/"
        },
        "id": "m9ZWHmhswBpv",
        "outputId": "7126f45c-2939-45dc-965a-1495a7257a6a"
      },
      "execution_count": 18,
      "outputs": [
        {
          "output_type": "execute_result",
          "data": {
            "text/plain": [
              "2020-01-01 09:00:00+00:00   -1.648833\n",
              "2020-01-02 09:00:00+00:00    2.698254\n",
              "2020-01-03 09:00:00+00:00    1.258854\n",
              "2020-01-06 09:00:00+00:00   -0.343873\n",
              "2020-01-07 09:00:00+00:00    0.770746\n",
              "2020-01-08 09:00:00+00:00    0.021993\n",
              "2020-01-09 09:00:00+00:00    0.588939\n",
              "Freq: B, dtype: float64"
            ]
          },
          "metadata": {},
          "execution_count": 18
        }
      ]
    },
    {
      "cell_type": "code",
      "source": [
        "ts_utc.index"
      ],
      "metadata": {
        "colab": {
          "base_uri": "https://localhost:8080/"
        },
        "id": "J2LlEfwfwlOL",
        "outputId": "a9cc3fe7-56b7-4005-aa06-8459ce4943f8"
      },
      "execution_count": 19,
      "outputs": [
        {
          "output_type": "execute_result",
          "data": {
            "text/plain": [
              "DatetimeIndex(['2020-01-01 09:00:00+00:00', '2020-01-02 09:00:00+00:00',\n",
              "               '2020-01-03 09:00:00+00:00', '2020-01-06 09:00:00+00:00',\n",
              "               '2020-01-07 09:00:00+00:00', '2020-01-08 09:00:00+00:00',\n",
              "               '2020-01-09 09:00:00+00:00'],\n",
              "              dtype='datetime64[ns, UTC]', freq='B')"
            ]
          },
          "metadata": {},
          "execution_count": 19
        }
      ]
    },
    {
      "cell_type": "code",
      "source": [
        "ts_utc.tz_convert('Asia/Seoul')"
      ],
      "metadata": {
        "colab": {
          "base_uri": "https://localhost:8080/"
        },
        "id": "K2UG0vXKwtw2",
        "outputId": "640dc283-0eeb-43cf-f78d-f8df1e493775"
      },
      "execution_count": 20,
      "outputs": [
        {
          "output_type": "execute_result",
          "data": {
            "text/plain": [
              "2020-01-01 18:00:00+09:00   -1.648833\n",
              "2020-01-02 18:00:00+09:00    2.698254\n",
              "2020-01-03 18:00:00+09:00    1.258854\n",
              "2020-01-06 18:00:00+09:00   -0.343873\n",
              "2020-01-07 18:00:00+09:00    0.770746\n",
              "2020-01-08 18:00:00+09:00    0.021993\n",
              "2020-01-09 18:00:00+09:00    0.588939\n",
              "Freq: B, dtype: float64"
            ]
          },
          "metadata": {},
          "execution_count": 20
        }
      ]
    },
    {
      "cell_type": "code",
      "source": [
        "ts_seoul = ts.tz_localize('Asia/Seoul')\n",
        "ts_seoul"
      ],
      "metadata": {
        "colab": {
          "base_uri": "https://localhost:8080/"
        },
        "id": "Nmmd8l3Uw26O",
        "outputId": "b5e78451-1573-41c1-9106-1f2cfc6ddd64"
      },
      "execution_count": 21,
      "outputs": [
        {
          "output_type": "execute_result",
          "data": {
            "text/plain": [
              "2020-01-01 09:00:00+09:00   -1.648833\n",
              "2020-01-02 09:00:00+09:00    2.698254\n",
              "2020-01-03 09:00:00+09:00    1.258854\n",
              "2020-01-06 09:00:00+09:00   -0.343873\n",
              "2020-01-07 09:00:00+09:00    0.770746\n",
              "2020-01-08 09:00:00+09:00    0.021993\n",
              "2020-01-09 09:00:00+09:00    0.588939\n",
              "dtype: float64"
            ]
          },
          "metadata": {},
          "execution_count": 21
        }
      ]
    },
    {
      "cell_type": "code",
      "source": [
        "stamp =pd.Timestamp('2020-01-01 12:00')\n",
        "stamp_utc = stamp.tz_localize('utc')\n",
        "stamp_utc"
      ],
      "metadata": {
        "colab": {
          "base_uri": "https://localhost:8080/"
        },
        "id": "Yi1QhfmkxRTP",
        "outputId": "1783f905-9fa5-4856-8ef2-816a9db56ed1"
      },
      "execution_count": 23,
      "outputs": [
        {
          "output_type": "execute_result",
          "data": {
            "text/plain": [
              "Timestamp('2020-01-01 12:00:00+0000', tz='UTC')"
            ]
          },
          "metadata": {},
          "execution_count": 23
        }
      ]
    },
    {
      "cell_type": "code",
      "source": [
        "stamp_utc.value"
      ],
      "metadata": {
        "colab": {
          "base_uri": "https://localhost:8080/"
        },
        "id": "ocKz1jifx5p3",
        "outputId": "45f5be24-dd29-49b4-d3c0-bdc6748cd09a"
      },
      "execution_count": 24,
      "outputs": [
        {
          "output_type": "execute_result",
          "data": {
            "text/plain": [
              "1577880000000000000"
            ]
          },
          "metadata": {},
          "execution_count": 24
        }
      ]
    },
    {
      "cell_type": "code",
      "source": [
        "stamp_utc.tz_convert('Asia/Seoul')\n"
      ],
      "metadata": {
        "colab": {
          "base_uri": "https://localhost:8080/"
        },
        "id": "AhBLpv1YyLWP",
        "outputId": "4f424d61-7da0-4716-8bef-ef693edd3ce9"
      },
      "execution_count": 25,
      "outputs": [
        {
          "output_type": "execute_result",
          "data": {
            "text/plain": [
              "Timestamp('2020-01-01 21:00:00+0900', tz='Asia/Seoul')"
            ]
          },
          "metadata": {},
          "execution_count": 25
        }
      ]
    },
    {
      "cell_type": "code",
      "source": [
        "stamp_utc.tz_convert('Asia/Seoul').value\n"
      ],
      "metadata": {
        "colab": {
          "base_uri": "https://localhost:8080/"
        },
        "id": "1UdelyrayfMv",
        "outputId": "971499d5-de70-4a3e-f3c5-45c9273bfba0"
      },
      "execution_count": 27,
      "outputs": [
        {
          "output_type": "execute_result",
          "data": {
            "text/plain": [
              "1577880000000000000"
            ]
          },
          "metadata": {},
          "execution_count": 27
        }
      ]
    },
    {
      "cell_type": "code",
      "source": [
        ""
      ],
      "metadata": {
        "id": "8V4Y6oucylIo"
      },
      "execution_count": null,
      "outputs": []
    },
    {
      "cell_type": "markdown",
      "source": [
        "### 기간과 기간연산"
      ],
      "metadata": {
        "id": "IUyvKMM0zuyH"
      }
    },
    {
      "cell_type": "code",
      "source": [
        "p = pd.Period(2020,freq= 'A-JAN')\n",
        "p"
      ],
      "metadata": {
        "colab": {
          "base_uri": "https://localhost:8080/"
        },
        "id": "aVYtWFE7zx0D",
        "outputId": "5d64f8fc-db46-46ab-e196-f3e68a4de173"
      },
      "execution_count": 28,
      "outputs": [
        {
          "output_type": "execute_result",
          "data": {
            "text/plain": [
              "Period('2020', 'A-JAN')"
            ]
          },
          "metadata": {},
          "execution_count": 28
        }
      ]
    },
    {
      "cell_type": "code",
      "source": [
        "p+2"
      ],
      "metadata": {
        "colab": {
          "base_uri": "https://localhost:8080/"
        },
        "id": "FRnk8XnH0BUh",
        "outputId": "e2bc7a39-434f-4f33-97dd-53ce5600634d"
      },
      "execution_count": 29,
      "outputs": [
        {
          "output_type": "execute_result",
          "data": {
            "text/plain": [
              "Period('2022', 'A-JAN')"
            ]
          },
          "metadata": {},
          "execution_count": 29
        }
      ]
    },
    {
      "cell_type": "code",
      "source": [
        "p-3"
      ],
      "metadata": {
        "colab": {
          "base_uri": "https://localhost:8080/"
        },
        "id": "9FeqOBG90JG4",
        "outputId": "7354c173-e341-47d9-db71-194cc00bf0e7"
      },
      "execution_count": 31,
      "outputs": [
        {
          "output_type": "execute_result",
          "data": {
            "text/plain": [
              "Period('2017', 'A-JAN')"
            ]
          },
          "metadata": {},
          "execution_count": 31
        }
      ]
    },
    {
      "cell_type": "code",
      "source": [
        "p1 = pd.Period(2010,freq= 'A-JAN')\n",
        "p2 = pd.Period(2020,freq= 'A-JAN')\n",
        "p2-p1\n"
      ],
      "metadata": {
        "colab": {
          "base_uri": "https://localhost:8080/"
        },
        "id": "XiA-hiNU0KVA",
        "outputId": "3fb237a0-da8b-47a5-a539-6e361e8696c2"
      },
      "execution_count": 32,
      "outputs": [
        {
          "output_type": "execute_result",
          "data": {
            "text/plain": [
              "<10 * YearEnds: month=1>"
            ]
          },
          "metadata": {},
          "execution_count": 32
        }
      ]
    },
    {
      "cell_type": "code",
      "source": [
        "pr =pd.period_range('2020-01-01','2020-06-30', freq='M')\n",
        "pd.Series(np.random.randn(6), index=pr)"
      ],
      "metadata": {
        "colab": {
          "base_uri": "https://localhost:8080/"
        },
        "id": "9YvmCiDE0b59",
        "outputId": "395d5bef-a16f-4e4d-c493-e0803e06f720"
      },
      "execution_count": 33,
      "outputs": [
        {
          "output_type": "execute_result",
          "data": {
            "text/plain": [
              "2020-01   -1.876068\n",
              "2020-02   -0.055919\n",
              "2020-03   -0.786974\n",
              "2020-04   -0.951883\n",
              "2020-05   -0.487244\n",
              "2020-06    1.102840\n",
              "Freq: M, dtype: float64"
            ]
          },
          "metadata": {},
          "execution_count": 33
        }
      ]
    },
    {
      "cell_type": "code",
      "source": [
        ""
      ],
      "metadata": {
        "id": "oPBk5oea1MgA"
      },
      "execution_count": null,
      "outputs": []
    },
    {
      "cell_type": "markdown",
      "source": [
        "### Resampling"
      ],
      "metadata": {
        "id": "3yQW2d4W5XAg"
      }
    },
    {
      "cell_type": "code",
      "source": [
        "dr = pd.date_range('2020-01-01',periods=200, freq='D')\n",
        "ts = pd.Series(np.random.randn(len(dr)), index=dr)\n",
        "ts"
      ],
      "metadata": {
        "colab": {
          "base_uri": "https://localhost:8080/"
        },
        "id": "HxQqnvz-5bzz",
        "outputId": "000fefa4-a57b-498a-e4cd-85a0ca8f6cc2"
      },
      "execution_count": 34,
      "outputs": [
        {
          "output_type": "execute_result",
          "data": {
            "text/plain": [
              "2020-01-01   -1.143346\n",
              "2020-01-02   -0.345990\n",
              "2020-01-03    0.114417\n",
              "2020-01-04   -0.178997\n",
              "2020-01-05    0.466134\n",
              "                ...   \n",
              "2020-07-14   -1.127681\n",
              "2020-07-15   -0.135072\n",
              "2020-07-16   -1.058696\n",
              "2020-07-17    0.547304\n",
              "2020-07-18   -1.402219\n",
              "Freq: D, Length: 200, dtype: float64"
            ]
          },
          "metadata": {},
          "execution_count": 34
        }
      ]
    },
    {
      "cell_type": "code",
      "source": [
        "ts.resample('M').mean()"
      ],
      "metadata": {
        "colab": {
          "base_uri": "https://localhost:8080/"
        },
        "id": "es3o_tcp5z48",
        "outputId": "b061e235-a2cf-40f5-99f4-ff6af0051def"
      },
      "execution_count": 35,
      "outputs": [
        {
          "output_type": "execute_result",
          "data": {
            "text/plain": [
              "2020-01-31   -0.033872\n",
              "2020-02-29    0.017829\n",
              "2020-03-31    0.403333\n",
              "2020-04-30    0.065661\n",
              "2020-05-31    0.039633\n",
              "2020-06-30   -0.100547\n",
              "2020-07-31   -0.014171\n",
              "Freq: M, dtype: float64"
            ]
          },
          "metadata": {},
          "execution_count": 35
        }
      ]
    },
    {
      "cell_type": "code",
      "source": [
        "ts.resample('M', kind='period').mean()"
      ],
      "metadata": {
        "colab": {
          "base_uri": "https://localhost:8080/"
        },
        "id": "wlQCxEfX6Ba6",
        "outputId": "00904eb9-6c49-46cd-bd95-b694303df6c3"
      },
      "execution_count": 36,
      "outputs": [
        {
          "output_type": "execute_result",
          "data": {
            "text/plain": [
              "2020-01   -0.033872\n",
              "2020-02    0.017829\n",
              "2020-03    0.403333\n",
              "2020-04    0.065661\n",
              "2020-05    0.039633\n",
              "2020-06   -0.100547\n",
              "2020-07   -0.014171\n",
              "Freq: M, dtype: float64"
            ]
          },
          "metadata": {},
          "execution_count": 36
        }
      ]
    },
    {
      "cell_type": "code",
      "source": [
        "dr = pd.date_range('2020-01-01',periods=10, freq='T')\n",
        "ts = pd.Series(np.arange(len(dr)), index=dr)\n",
        "ts"
      ],
      "metadata": {
        "colab": {
          "base_uri": "https://localhost:8080/"
        },
        "id": "bp1kCCVa6R4W",
        "outputId": "ee5e74b8-24ed-49f4-f9d8-d939ea01ef28"
      },
      "execution_count": 39,
      "outputs": [
        {
          "output_type": "execute_result",
          "data": {
            "text/plain": [
              "2020-01-01 00:00:00    0\n",
              "2020-01-01 00:01:00    1\n",
              "2020-01-01 00:02:00    2\n",
              "2020-01-01 00:03:00    3\n",
              "2020-01-01 00:04:00    4\n",
              "2020-01-01 00:05:00    5\n",
              "2020-01-01 00:06:00    6\n",
              "2020-01-01 00:07:00    7\n",
              "2020-01-01 00:08:00    8\n",
              "2020-01-01 00:09:00    9\n",
              "Freq: T, dtype: int64"
            ]
          },
          "metadata": {},
          "execution_count": 39
        }
      ]
    },
    {
      "cell_type": "code",
      "source": [
        "ts.resample('2T', closed='left').sum()"
      ],
      "metadata": {
        "colab": {
          "base_uri": "https://localhost:8080/"
        },
        "id": "CUV9Y7_Y62Le",
        "outputId": "85b8e281-8b3c-4050-c27c-815617f6731b"
      },
      "execution_count": 40,
      "outputs": [
        {
          "output_type": "execute_result",
          "data": {
            "text/plain": [
              "2020-01-01 00:00:00     1\n",
              "2020-01-01 00:02:00     5\n",
              "2020-01-01 00:04:00     9\n",
              "2020-01-01 00:06:00    13\n",
              "2020-01-01 00:08:00    17\n",
              "Freq: 2T, dtype: int64"
            ]
          },
          "metadata": {},
          "execution_count": 40
        }
      ]
    },
    {
      "cell_type": "code",
      "source": [
        "ts.resample('2T', closed='right').sum()\n"
      ],
      "metadata": {
        "colab": {
          "base_uri": "https://localhost:8080/"
        },
        "id": "dacph_FW7eBW",
        "outputId": "a72c6da8-2029-4d29-9e6a-c86cb9abba62"
      },
      "execution_count": 41,
      "outputs": [
        {
          "output_type": "execute_result",
          "data": {
            "text/plain": [
              "2019-12-31 23:58:00     0\n",
              "2020-01-01 00:00:00     3\n",
              "2020-01-01 00:02:00     7\n",
              "2020-01-01 00:04:00    11\n",
              "2020-01-01 00:06:00    15\n",
              "2020-01-01 00:08:00     9\n",
              "Freq: 2T, dtype: int64"
            ]
          },
          "metadata": {},
          "execution_count": 41
        }
      ]
    },
    {
      "cell_type": "code",
      "source": [
        "ts.resample('2T', closed='right', label='right').sum()\n"
      ],
      "metadata": {
        "colab": {
          "base_uri": "https://localhost:8080/"
        },
        "id": "B9t0QGbJ72g0",
        "outputId": "0c5ba583-477a-4157-adad-3c721ad20d4d"
      },
      "execution_count": 42,
      "outputs": [
        {
          "output_type": "execute_result",
          "data": {
            "text/plain": [
              "2020-01-01 00:00:00     0\n",
              "2020-01-01 00:02:00     3\n",
              "2020-01-01 00:04:00     7\n",
              "2020-01-01 00:06:00    11\n",
              "2020-01-01 00:08:00    15\n",
              "2020-01-01 00:10:00     9\n",
              "Freq: 2T, dtype: int64"
            ]
          },
          "metadata": {},
          "execution_count": 42
        }
      ]
    },
    {
      "cell_type": "code",
      "source": [
        "ts.resample('2T', closed='right', label='right', loffset ='-1s').sum()\n"
      ],
      "metadata": {
        "colab": {
          "base_uri": "https://localhost:8080/"
        },
        "id": "4kPCdzRW8SSN",
        "outputId": "2f024117-e28c-423d-8973-ee6b263f3609"
      },
      "execution_count": 47,
      "outputs": [
        {
          "output_type": "stream",
          "name": "stderr",
          "text": [
            "/usr/local/lib/python3.7/dist-packages/ipykernel_launcher.py:1: FutureWarning: 'loffset' in .resample() and in Grouper() is deprecated.\n",
            "\n",
            ">>> df.resample(freq=\"3s\", loffset=\"8H\")\n",
            "\n",
            "becomes:\n",
            "\n",
            ">>> from pandas.tseries.frequencies import to_offset\n",
            ">>> df = df.resample(freq=\"3s\").mean()\n",
            ">>> df.index = df.index.to_timestamp() + to_offset(\"8H\")\n",
            "\n",
            "  \"\"\"Entry point for launching an IPython kernel.\n"
          ]
        },
        {
          "output_type": "execute_result",
          "data": {
            "text/plain": [
              "2019-12-31 23:59:59     0\n",
              "2020-01-01 00:01:59     3\n",
              "2020-01-01 00:03:59     7\n",
              "2020-01-01 00:05:59    11\n",
              "2020-01-01 00:07:59    15\n",
              "2020-01-01 00:09:59     9\n",
              "Freq: 2T, dtype: int64"
            ]
          },
          "metadata": {},
          "execution_count": 47
        }
      ]
    },
    {
      "cell_type": "code",
      "source": [
        "ts.resample('2T').ohlc()  # 시고저종"
      ],
      "metadata": {
        "colab": {
          "base_uri": "https://localhost:8080/",
          "height": 206
        },
        "id": "gj4iYDov8p0d",
        "outputId": "fc131a1f-3e4c-4ff9-9562-cc773b28f93b"
      },
      "execution_count": 48,
      "outputs": [
        {
          "output_type": "execute_result",
          "data": {
            "text/plain": [
              "                     open  high  low  close\n",
              "2020-01-01 00:00:00     0     1    0      1\n",
              "2020-01-01 00:02:00     2     3    2      3\n",
              "2020-01-01 00:04:00     4     5    4      5\n",
              "2020-01-01 00:06:00     6     7    6      7\n",
              "2020-01-01 00:08:00     8     9    8      9"
            ],
            "text/html": [
              "\n",
              "  <div id=\"df-dea10129-f997-4a8d-9111-e09f6ef39b28\">\n",
              "    <div class=\"colab-df-container\">\n",
              "      <div>\n",
              "<style scoped>\n",
              "    .dataframe tbody tr th:only-of-type {\n",
              "        vertical-align: middle;\n",
              "    }\n",
              "\n",
              "    .dataframe tbody tr th {\n",
              "        vertical-align: top;\n",
              "    }\n",
              "\n",
              "    .dataframe thead th {\n",
              "        text-align: right;\n",
              "    }\n",
              "</style>\n",
              "<table border=\"1\" class=\"dataframe\">\n",
              "  <thead>\n",
              "    <tr style=\"text-align: right;\">\n",
              "      <th></th>\n",
              "      <th>open</th>\n",
              "      <th>high</th>\n",
              "      <th>low</th>\n",
              "      <th>close</th>\n",
              "    </tr>\n",
              "  </thead>\n",
              "  <tbody>\n",
              "    <tr>\n",
              "      <th>2020-01-01 00:00:00</th>\n",
              "      <td>0</td>\n",
              "      <td>1</td>\n",
              "      <td>0</td>\n",
              "      <td>1</td>\n",
              "    </tr>\n",
              "    <tr>\n",
              "      <th>2020-01-01 00:02:00</th>\n",
              "      <td>2</td>\n",
              "      <td>3</td>\n",
              "      <td>2</td>\n",
              "      <td>3</td>\n",
              "    </tr>\n",
              "    <tr>\n",
              "      <th>2020-01-01 00:04:00</th>\n",
              "      <td>4</td>\n",
              "      <td>5</td>\n",
              "      <td>4</td>\n",
              "      <td>5</td>\n",
              "    </tr>\n",
              "    <tr>\n",
              "      <th>2020-01-01 00:06:00</th>\n",
              "      <td>6</td>\n",
              "      <td>7</td>\n",
              "      <td>6</td>\n",
              "      <td>7</td>\n",
              "    </tr>\n",
              "    <tr>\n",
              "      <th>2020-01-01 00:08:00</th>\n",
              "      <td>8</td>\n",
              "      <td>9</td>\n",
              "      <td>8</td>\n",
              "      <td>9</td>\n",
              "    </tr>\n",
              "  </tbody>\n",
              "</table>\n",
              "</div>\n",
              "      <button class=\"colab-df-convert\" onclick=\"convertToInteractive('df-dea10129-f997-4a8d-9111-e09f6ef39b28')\"\n",
              "              title=\"Convert this dataframe to an interactive table.\"\n",
              "              style=\"display:none;\">\n",
              "        \n",
              "  <svg xmlns=\"http://www.w3.org/2000/svg\" height=\"24px\"viewBox=\"0 0 24 24\"\n",
              "       width=\"24px\">\n",
              "    <path d=\"M0 0h24v24H0V0z\" fill=\"none\"/>\n",
              "    <path d=\"M18.56 5.44l.94 2.06.94-2.06 2.06-.94-2.06-.94-.94-2.06-.94 2.06-2.06.94zm-11 1L8.5 8.5l.94-2.06 2.06-.94-2.06-.94L8.5 2.5l-.94 2.06-2.06.94zm10 10l.94 2.06.94-2.06 2.06-.94-2.06-.94-.94-2.06-.94 2.06-2.06.94z\"/><path d=\"M17.41 7.96l-1.37-1.37c-.4-.4-.92-.59-1.43-.59-.52 0-1.04.2-1.43.59L10.3 9.45l-7.72 7.72c-.78.78-.78 2.05 0 2.83L4 21.41c.39.39.9.59 1.41.59.51 0 1.02-.2 1.41-.59l7.78-7.78 2.81-2.81c.8-.78.8-2.07 0-2.86zM5.41 20L4 18.59l7.72-7.72 1.47 1.35L5.41 20z\"/>\n",
              "  </svg>\n",
              "      </button>\n",
              "      \n",
              "  <style>\n",
              "    .colab-df-container {\n",
              "      display:flex;\n",
              "      flex-wrap:wrap;\n",
              "      gap: 12px;\n",
              "    }\n",
              "\n",
              "    .colab-df-convert {\n",
              "      background-color: #E8F0FE;\n",
              "      border: none;\n",
              "      border-radius: 50%;\n",
              "      cursor: pointer;\n",
              "      display: none;\n",
              "      fill: #1967D2;\n",
              "      height: 32px;\n",
              "      padding: 0 0 0 0;\n",
              "      width: 32px;\n",
              "    }\n",
              "\n",
              "    .colab-df-convert:hover {\n",
              "      background-color: #E2EBFA;\n",
              "      box-shadow: 0px 1px 2px rgba(60, 64, 67, 0.3), 0px 1px 3px 1px rgba(60, 64, 67, 0.15);\n",
              "      fill: #174EA6;\n",
              "    }\n",
              "\n",
              "    [theme=dark] .colab-df-convert {\n",
              "      background-color: #3B4455;\n",
              "      fill: #D2E3FC;\n",
              "    }\n",
              "\n",
              "    [theme=dark] .colab-df-convert:hover {\n",
              "      background-color: #434B5C;\n",
              "      box-shadow: 0px 1px 3px 1px rgba(0, 0, 0, 0.15);\n",
              "      filter: drop-shadow(0px 1px 2px rgba(0, 0, 0, 0.3));\n",
              "      fill: #FFFFFF;\n",
              "    }\n",
              "  </style>\n",
              "\n",
              "      <script>\n",
              "        const buttonEl =\n",
              "          document.querySelector('#df-dea10129-f997-4a8d-9111-e09f6ef39b28 button.colab-df-convert');\n",
              "        buttonEl.style.display =\n",
              "          google.colab.kernel.accessAllowed ? 'block' : 'none';\n",
              "\n",
              "        async function convertToInteractive(key) {\n",
              "          const element = document.querySelector('#df-dea10129-f997-4a8d-9111-e09f6ef39b28');\n",
              "          const dataTable =\n",
              "            await google.colab.kernel.invokeFunction('convertToInteractive',\n",
              "                                                     [key], {});\n",
              "          if (!dataTable) return;\n",
              "\n",
              "          const docLinkHtml = 'Like what you see? Visit the ' +\n",
              "            '<a target=\"_blank\" href=https://colab.research.google.com/notebooks/data_table.ipynb>data table notebook</a>'\n",
              "            + ' to learn more about interactive tables.';\n",
              "          element.innerHTML = '';\n",
              "          dataTable['output_type'] = 'display_data';\n",
              "          await google.colab.output.renderOutput(dataTable, element);\n",
              "          const docLink = document.createElement('div');\n",
              "          docLink.innerHTML = docLinkHtml;\n",
              "          element.appendChild(docLink);\n",
              "        }\n",
              "      </script>\n",
              "    </div>\n",
              "  </div>\n",
              "  "
            ]
          },
          "metadata": {},
          "execution_count": 48
        }
      ]
    },
    {
      "cell_type": "code",
      "source": [
        "df = pd.DataFrame(np.random.randn(10,4), index = pd.date_range('2020-01-01', periods=10, freq='M'), columns = ['C1','C2','C3','C4'])\n",
        "df"
      ],
      "metadata": {
        "colab": {
          "base_uri": "https://localhost:8080/",
          "height": 363
        },
        "id": "f4niIoiR9Q9k",
        "outputId": "b63a09af-24be-4f3b-8e06-eb7c5b898432"
      },
      "execution_count": 49,
      "outputs": [
        {
          "output_type": "execute_result",
          "data": {
            "text/plain": [
              "                  C1        C2        C3        C4\n",
              "2020-01-31 -1.619238  1.125436 -0.394200 -0.250186\n",
              "2020-02-29  0.337359 -0.396276 -0.411286  0.021802\n",
              "2020-03-31 -0.061370 -0.236959 -1.095150  0.533032\n",
              "2020-04-30  1.874535  1.615032  1.480859  1.527098\n",
              "2020-05-31  0.513731 -0.592825  1.415916 -0.067840\n",
              "2020-06-30  0.249831 -0.063527 -3.233978  0.878849\n",
              "2020-07-31 -0.535861  0.563414  0.257972 -0.233991\n",
              "2020-08-31 -0.149534  1.334253 -0.906160 -0.061539\n",
              "2020-09-30 -0.726811  0.379653 -1.504845 -0.045724\n",
              "2020-10-31  0.234086 -0.261081 -0.167812  1.570177"
            ],
            "text/html": [
              "\n",
              "  <div id=\"df-8c541bcf-33f0-453d-9913-561f5d4a7e12\">\n",
              "    <div class=\"colab-df-container\">\n",
              "      <div>\n",
              "<style scoped>\n",
              "    .dataframe tbody tr th:only-of-type {\n",
              "        vertical-align: middle;\n",
              "    }\n",
              "\n",
              "    .dataframe tbody tr th {\n",
              "        vertical-align: top;\n",
              "    }\n",
              "\n",
              "    .dataframe thead th {\n",
              "        text-align: right;\n",
              "    }\n",
              "</style>\n",
              "<table border=\"1\" class=\"dataframe\">\n",
              "  <thead>\n",
              "    <tr style=\"text-align: right;\">\n",
              "      <th></th>\n",
              "      <th>C1</th>\n",
              "      <th>C2</th>\n",
              "      <th>C3</th>\n",
              "      <th>C4</th>\n",
              "    </tr>\n",
              "  </thead>\n",
              "  <tbody>\n",
              "    <tr>\n",
              "      <th>2020-01-31</th>\n",
              "      <td>-1.619238</td>\n",
              "      <td>1.125436</td>\n",
              "      <td>-0.394200</td>\n",
              "      <td>-0.250186</td>\n",
              "    </tr>\n",
              "    <tr>\n",
              "      <th>2020-02-29</th>\n",
              "      <td>0.337359</td>\n",
              "      <td>-0.396276</td>\n",
              "      <td>-0.411286</td>\n",
              "      <td>0.021802</td>\n",
              "    </tr>\n",
              "    <tr>\n",
              "      <th>2020-03-31</th>\n",
              "      <td>-0.061370</td>\n",
              "      <td>-0.236959</td>\n",
              "      <td>-1.095150</td>\n",
              "      <td>0.533032</td>\n",
              "    </tr>\n",
              "    <tr>\n",
              "      <th>2020-04-30</th>\n",
              "      <td>1.874535</td>\n",
              "      <td>1.615032</td>\n",
              "      <td>1.480859</td>\n",
              "      <td>1.527098</td>\n",
              "    </tr>\n",
              "    <tr>\n",
              "      <th>2020-05-31</th>\n",
              "      <td>0.513731</td>\n",
              "      <td>-0.592825</td>\n",
              "      <td>1.415916</td>\n",
              "      <td>-0.067840</td>\n",
              "    </tr>\n",
              "    <tr>\n",
              "      <th>2020-06-30</th>\n",
              "      <td>0.249831</td>\n",
              "      <td>-0.063527</td>\n",
              "      <td>-3.233978</td>\n",
              "      <td>0.878849</td>\n",
              "    </tr>\n",
              "    <tr>\n",
              "      <th>2020-07-31</th>\n",
              "      <td>-0.535861</td>\n",
              "      <td>0.563414</td>\n",
              "      <td>0.257972</td>\n",
              "      <td>-0.233991</td>\n",
              "    </tr>\n",
              "    <tr>\n",
              "      <th>2020-08-31</th>\n",
              "      <td>-0.149534</td>\n",
              "      <td>1.334253</td>\n",
              "      <td>-0.906160</td>\n",
              "      <td>-0.061539</td>\n",
              "    </tr>\n",
              "    <tr>\n",
              "      <th>2020-09-30</th>\n",
              "      <td>-0.726811</td>\n",
              "      <td>0.379653</td>\n",
              "      <td>-1.504845</td>\n",
              "      <td>-0.045724</td>\n",
              "    </tr>\n",
              "    <tr>\n",
              "      <th>2020-10-31</th>\n",
              "      <td>0.234086</td>\n",
              "      <td>-0.261081</td>\n",
              "      <td>-0.167812</td>\n",
              "      <td>1.570177</td>\n",
              "    </tr>\n",
              "  </tbody>\n",
              "</table>\n",
              "</div>\n",
              "      <button class=\"colab-df-convert\" onclick=\"convertToInteractive('df-8c541bcf-33f0-453d-9913-561f5d4a7e12')\"\n",
              "              title=\"Convert this dataframe to an interactive table.\"\n",
              "              style=\"display:none;\">\n",
              "        \n",
              "  <svg xmlns=\"http://www.w3.org/2000/svg\" height=\"24px\"viewBox=\"0 0 24 24\"\n",
              "       width=\"24px\">\n",
              "    <path d=\"M0 0h24v24H0V0z\" fill=\"none\"/>\n",
              "    <path d=\"M18.56 5.44l.94 2.06.94-2.06 2.06-.94-2.06-.94-.94-2.06-.94 2.06-2.06.94zm-11 1L8.5 8.5l.94-2.06 2.06-.94-2.06-.94L8.5 2.5l-.94 2.06-2.06.94zm10 10l.94 2.06.94-2.06 2.06-.94-2.06-.94-.94-2.06-.94 2.06-2.06.94z\"/><path d=\"M17.41 7.96l-1.37-1.37c-.4-.4-.92-.59-1.43-.59-.52 0-1.04.2-1.43.59L10.3 9.45l-7.72 7.72c-.78.78-.78 2.05 0 2.83L4 21.41c.39.39.9.59 1.41.59.51 0 1.02-.2 1.41-.59l7.78-7.78 2.81-2.81c.8-.78.8-2.07 0-2.86zM5.41 20L4 18.59l7.72-7.72 1.47 1.35L5.41 20z\"/>\n",
              "  </svg>\n",
              "      </button>\n",
              "      \n",
              "  <style>\n",
              "    .colab-df-container {\n",
              "      display:flex;\n",
              "      flex-wrap:wrap;\n",
              "      gap: 12px;\n",
              "    }\n",
              "\n",
              "    .colab-df-convert {\n",
              "      background-color: #E8F0FE;\n",
              "      border: none;\n",
              "      border-radius: 50%;\n",
              "      cursor: pointer;\n",
              "      display: none;\n",
              "      fill: #1967D2;\n",
              "      height: 32px;\n",
              "      padding: 0 0 0 0;\n",
              "      width: 32px;\n",
              "    }\n",
              "\n",
              "    .colab-df-convert:hover {\n",
              "      background-color: #E2EBFA;\n",
              "      box-shadow: 0px 1px 2px rgba(60, 64, 67, 0.3), 0px 1px 3px 1px rgba(60, 64, 67, 0.15);\n",
              "      fill: #174EA6;\n",
              "    }\n",
              "\n",
              "    [theme=dark] .colab-df-convert {\n",
              "      background-color: #3B4455;\n",
              "      fill: #D2E3FC;\n",
              "    }\n",
              "\n",
              "    [theme=dark] .colab-df-convert:hover {\n",
              "      background-color: #434B5C;\n",
              "      box-shadow: 0px 1px 3px 1px rgba(0, 0, 0, 0.15);\n",
              "      filter: drop-shadow(0px 1px 2px rgba(0, 0, 0, 0.3));\n",
              "      fill: #FFFFFF;\n",
              "    }\n",
              "  </style>\n",
              "\n",
              "      <script>\n",
              "        const buttonEl =\n",
              "          document.querySelector('#df-8c541bcf-33f0-453d-9913-561f5d4a7e12 button.colab-df-convert');\n",
              "        buttonEl.style.display =\n",
              "          google.colab.kernel.accessAllowed ? 'block' : 'none';\n",
              "\n",
              "        async function convertToInteractive(key) {\n",
              "          const element = document.querySelector('#df-8c541bcf-33f0-453d-9913-561f5d4a7e12');\n",
              "          const dataTable =\n",
              "            await google.colab.kernel.invokeFunction('convertToInteractive',\n",
              "                                                     [key], {});\n",
              "          if (!dataTable) return;\n",
              "\n",
              "          const docLinkHtml = 'Like what you see? Visit the ' +\n",
              "            '<a target=\"_blank\" href=https://colab.research.google.com/notebooks/data_table.ipynb>data table notebook</a>'\n",
              "            + ' to learn more about interactive tables.';\n",
              "          element.innerHTML = '';\n",
              "          dataTable['output_type'] = 'display_data';\n",
              "          await google.colab.output.renderOutput(dataTable, element);\n",
              "          const docLink = document.createElement('div');\n",
              "          docLink.innerHTML = docLinkHtml;\n",
              "          element.appendChild(docLink);\n",
              "        }\n",
              "      </script>\n",
              "    </div>\n",
              "  </div>\n",
              "  "
            ]
          },
          "metadata": {},
          "execution_count": 49
        }
      ]
    },
    {
      "cell_type": "code",
      "source": [
        "df.resample('Y').asfreq() #연도기준으로 리샘플링"
      ],
      "metadata": {
        "colab": {
          "base_uri": "https://localhost:8080/",
          "height": 81
        },
        "id": "cH8WtmUH-WV9",
        "outputId": "b261b2bd-b857-4018-c55e-36d1e4c00e56"
      },
      "execution_count": 50,
      "outputs": [
        {
          "output_type": "execute_result",
          "data": {
            "text/plain": [
              "            C1  C2  C3  C4\n",
              "2020-12-31 NaN NaN NaN NaN"
            ],
            "text/html": [
              "\n",
              "  <div id=\"df-95ae283e-6853-4e1d-9d8b-6f8d4aab92ce\">\n",
              "    <div class=\"colab-df-container\">\n",
              "      <div>\n",
              "<style scoped>\n",
              "    .dataframe tbody tr th:only-of-type {\n",
              "        vertical-align: middle;\n",
              "    }\n",
              "\n",
              "    .dataframe tbody tr th {\n",
              "        vertical-align: top;\n",
              "    }\n",
              "\n",
              "    .dataframe thead th {\n",
              "        text-align: right;\n",
              "    }\n",
              "</style>\n",
              "<table border=\"1\" class=\"dataframe\">\n",
              "  <thead>\n",
              "    <tr style=\"text-align: right;\">\n",
              "      <th></th>\n",
              "      <th>C1</th>\n",
              "      <th>C2</th>\n",
              "      <th>C3</th>\n",
              "      <th>C4</th>\n",
              "    </tr>\n",
              "  </thead>\n",
              "  <tbody>\n",
              "    <tr>\n",
              "      <th>2020-12-31</th>\n",
              "      <td>NaN</td>\n",
              "      <td>NaN</td>\n",
              "      <td>NaN</td>\n",
              "      <td>NaN</td>\n",
              "    </tr>\n",
              "  </tbody>\n",
              "</table>\n",
              "</div>\n",
              "      <button class=\"colab-df-convert\" onclick=\"convertToInteractive('df-95ae283e-6853-4e1d-9d8b-6f8d4aab92ce')\"\n",
              "              title=\"Convert this dataframe to an interactive table.\"\n",
              "              style=\"display:none;\">\n",
              "        \n",
              "  <svg xmlns=\"http://www.w3.org/2000/svg\" height=\"24px\"viewBox=\"0 0 24 24\"\n",
              "       width=\"24px\">\n",
              "    <path d=\"M0 0h24v24H0V0z\" fill=\"none\"/>\n",
              "    <path d=\"M18.56 5.44l.94 2.06.94-2.06 2.06-.94-2.06-.94-.94-2.06-.94 2.06-2.06.94zm-11 1L8.5 8.5l.94-2.06 2.06-.94-2.06-.94L8.5 2.5l-.94 2.06-2.06.94zm10 10l.94 2.06.94-2.06 2.06-.94-2.06-.94-.94-2.06-.94 2.06-2.06.94z\"/><path d=\"M17.41 7.96l-1.37-1.37c-.4-.4-.92-.59-1.43-.59-.52 0-1.04.2-1.43.59L10.3 9.45l-7.72 7.72c-.78.78-.78 2.05 0 2.83L4 21.41c.39.39.9.59 1.41.59.51 0 1.02-.2 1.41-.59l7.78-7.78 2.81-2.81c.8-.78.8-2.07 0-2.86zM5.41 20L4 18.59l7.72-7.72 1.47 1.35L5.41 20z\"/>\n",
              "  </svg>\n",
              "      </button>\n",
              "      \n",
              "  <style>\n",
              "    .colab-df-container {\n",
              "      display:flex;\n",
              "      flex-wrap:wrap;\n",
              "      gap: 12px;\n",
              "    }\n",
              "\n",
              "    .colab-df-convert {\n",
              "      background-color: #E8F0FE;\n",
              "      border: none;\n",
              "      border-radius: 50%;\n",
              "      cursor: pointer;\n",
              "      display: none;\n",
              "      fill: #1967D2;\n",
              "      height: 32px;\n",
              "      padding: 0 0 0 0;\n",
              "      width: 32px;\n",
              "    }\n",
              "\n",
              "    .colab-df-convert:hover {\n",
              "      background-color: #E2EBFA;\n",
              "      box-shadow: 0px 1px 2px rgba(60, 64, 67, 0.3), 0px 1px 3px 1px rgba(60, 64, 67, 0.15);\n",
              "      fill: #174EA6;\n",
              "    }\n",
              "\n",
              "    [theme=dark] .colab-df-convert {\n",
              "      background-color: #3B4455;\n",
              "      fill: #D2E3FC;\n",
              "    }\n",
              "\n",
              "    [theme=dark] .colab-df-convert:hover {\n",
              "      background-color: #434B5C;\n",
              "      box-shadow: 0px 1px 3px 1px rgba(0, 0, 0, 0.15);\n",
              "      filter: drop-shadow(0px 1px 2px rgba(0, 0, 0, 0.3));\n",
              "      fill: #FFFFFF;\n",
              "    }\n",
              "  </style>\n",
              "\n",
              "      <script>\n",
              "        const buttonEl =\n",
              "          document.querySelector('#df-95ae283e-6853-4e1d-9d8b-6f8d4aab92ce button.colab-df-convert');\n",
              "        buttonEl.style.display =\n",
              "          google.colab.kernel.accessAllowed ? 'block' : 'none';\n",
              "\n",
              "        async function convertToInteractive(key) {\n",
              "          const element = document.querySelector('#df-95ae283e-6853-4e1d-9d8b-6f8d4aab92ce');\n",
              "          const dataTable =\n",
              "            await google.colab.kernel.invokeFunction('convertToInteractive',\n",
              "                                                     [key], {});\n",
              "          if (!dataTable) return;\n",
              "\n",
              "          const docLinkHtml = 'Like what you see? Visit the ' +\n",
              "            '<a target=\"_blank\" href=https://colab.research.google.com/notebooks/data_table.ipynb>data table notebook</a>'\n",
              "            + ' to learn more about interactive tables.';\n",
              "          element.innerHTML = '';\n",
              "          dataTable['output_type'] = 'display_data';\n",
              "          await google.colab.output.renderOutput(dataTable, element);\n",
              "          const docLink = document.createElement('div');\n",
              "          docLink.innerHTML = docLinkHtml;\n",
              "          element.appendChild(docLink);\n",
              "        }\n",
              "      </script>\n",
              "    </div>\n",
              "  </div>\n",
              "  "
            ]
          },
          "metadata": {},
          "execution_count": 50
        }
      ]
    },
    {
      "cell_type": "code",
      "source": [
        "df.resample('W').asfreq() #주단위로으로 리샘플링\n"
      ],
      "metadata": {
        "colab": {
          "base_uri": "https://localhost:8080/",
          "height": 1000
        },
        "id": "k5pxNyO9-rSJ",
        "outputId": "a06e6c66-1606-44a8-adc5-b0cd7ede5886"
      },
      "execution_count": 51,
      "outputs": [
        {
          "output_type": "execute_result",
          "data": {
            "text/plain": [
              "                  C1        C2        C3       C4\n",
              "2020-02-02       NaN       NaN       NaN      NaN\n",
              "2020-02-09       NaN       NaN       NaN      NaN\n",
              "2020-02-16       NaN       NaN       NaN      NaN\n",
              "2020-02-23       NaN       NaN       NaN      NaN\n",
              "2020-03-01       NaN       NaN       NaN      NaN\n",
              "2020-03-08       NaN       NaN       NaN      NaN\n",
              "2020-03-15       NaN       NaN       NaN      NaN\n",
              "2020-03-22       NaN       NaN       NaN      NaN\n",
              "2020-03-29       NaN       NaN       NaN      NaN\n",
              "2020-04-05       NaN       NaN       NaN      NaN\n",
              "2020-04-12       NaN       NaN       NaN      NaN\n",
              "2020-04-19       NaN       NaN       NaN      NaN\n",
              "2020-04-26       NaN       NaN       NaN      NaN\n",
              "2020-05-03       NaN       NaN       NaN      NaN\n",
              "2020-05-10       NaN       NaN       NaN      NaN\n",
              "2020-05-17       NaN       NaN       NaN      NaN\n",
              "2020-05-24       NaN       NaN       NaN      NaN\n",
              "2020-05-31  0.513731 -0.592825  1.415916 -0.06784\n",
              "2020-06-07       NaN       NaN       NaN      NaN\n",
              "2020-06-14       NaN       NaN       NaN      NaN\n",
              "2020-06-21       NaN       NaN       NaN      NaN\n",
              "2020-06-28       NaN       NaN       NaN      NaN\n",
              "2020-07-05       NaN       NaN       NaN      NaN\n",
              "2020-07-12       NaN       NaN       NaN      NaN\n",
              "2020-07-19       NaN       NaN       NaN      NaN\n",
              "2020-07-26       NaN       NaN       NaN      NaN\n",
              "2020-08-02       NaN       NaN       NaN      NaN\n",
              "2020-08-09       NaN       NaN       NaN      NaN\n",
              "2020-08-16       NaN       NaN       NaN      NaN\n",
              "2020-08-23       NaN       NaN       NaN      NaN\n",
              "2020-08-30       NaN       NaN       NaN      NaN\n",
              "2020-09-06       NaN       NaN       NaN      NaN\n",
              "2020-09-13       NaN       NaN       NaN      NaN\n",
              "2020-09-20       NaN       NaN       NaN      NaN\n",
              "2020-09-27       NaN       NaN       NaN      NaN\n",
              "2020-10-04       NaN       NaN       NaN      NaN\n",
              "2020-10-11       NaN       NaN       NaN      NaN\n",
              "2020-10-18       NaN       NaN       NaN      NaN\n",
              "2020-10-25       NaN       NaN       NaN      NaN\n",
              "2020-11-01       NaN       NaN       NaN      NaN"
            ],
            "text/html": [
              "\n",
              "  <div id=\"df-84fe1123-9c15-415c-b07d-e7f4a98d65ea\">\n",
              "    <div class=\"colab-df-container\">\n",
              "      <div>\n",
              "<style scoped>\n",
              "    .dataframe tbody tr th:only-of-type {\n",
              "        vertical-align: middle;\n",
              "    }\n",
              "\n",
              "    .dataframe tbody tr th {\n",
              "        vertical-align: top;\n",
              "    }\n",
              "\n",
              "    .dataframe thead th {\n",
              "        text-align: right;\n",
              "    }\n",
              "</style>\n",
              "<table border=\"1\" class=\"dataframe\">\n",
              "  <thead>\n",
              "    <tr style=\"text-align: right;\">\n",
              "      <th></th>\n",
              "      <th>C1</th>\n",
              "      <th>C2</th>\n",
              "      <th>C3</th>\n",
              "      <th>C4</th>\n",
              "    </tr>\n",
              "  </thead>\n",
              "  <tbody>\n",
              "    <tr>\n",
              "      <th>2020-02-02</th>\n",
              "      <td>NaN</td>\n",
              "      <td>NaN</td>\n",
              "      <td>NaN</td>\n",
              "      <td>NaN</td>\n",
              "    </tr>\n",
              "    <tr>\n",
              "      <th>2020-02-09</th>\n",
              "      <td>NaN</td>\n",
              "      <td>NaN</td>\n",
              "      <td>NaN</td>\n",
              "      <td>NaN</td>\n",
              "    </tr>\n",
              "    <tr>\n",
              "      <th>2020-02-16</th>\n",
              "      <td>NaN</td>\n",
              "      <td>NaN</td>\n",
              "      <td>NaN</td>\n",
              "      <td>NaN</td>\n",
              "    </tr>\n",
              "    <tr>\n",
              "      <th>2020-02-23</th>\n",
              "      <td>NaN</td>\n",
              "      <td>NaN</td>\n",
              "      <td>NaN</td>\n",
              "      <td>NaN</td>\n",
              "    </tr>\n",
              "    <tr>\n",
              "      <th>2020-03-01</th>\n",
              "      <td>NaN</td>\n",
              "      <td>NaN</td>\n",
              "      <td>NaN</td>\n",
              "      <td>NaN</td>\n",
              "    </tr>\n",
              "    <tr>\n",
              "      <th>2020-03-08</th>\n",
              "      <td>NaN</td>\n",
              "      <td>NaN</td>\n",
              "      <td>NaN</td>\n",
              "      <td>NaN</td>\n",
              "    </tr>\n",
              "    <tr>\n",
              "      <th>2020-03-15</th>\n",
              "      <td>NaN</td>\n",
              "      <td>NaN</td>\n",
              "      <td>NaN</td>\n",
              "      <td>NaN</td>\n",
              "    </tr>\n",
              "    <tr>\n",
              "      <th>2020-03-22</th>\n",
              "      <td>NaN</td>\n",
              "      <td>NaN</td>\n",
              "      <td>NaN</td>\n",
              "      <td>NaN</td>\n",
              "    </tr>\n",
              "    <tr>\n",
              "      <th>2020-03-29</th>\n",
              "      <td>NaN</td>\n",
              "      <td>NaN</td>\n",
              "      <td>NaN</td>\n",
              "      <td>NaN</td>\n",
              "    </tr>\n",
              "    <tr>\n",
              "      <th>2020-04-05</th>\n",
              "      <td>NaN</td>\n",
              "      <td>NaN</td>\n",
              "      <td>NaN</td>\n",
              "      <td>NaN</td>\n",
              "    </tr>\n",
              "    <tr>\n",
              "      <th>2020-04-12</th>\n",
              "      <td>NaN</td>\n",
              "      <td>NaN</td>\n",
              "      <td>NaN</td>\n",
              "      <td>NaN</td>\n",
              "    </tr>\n",
              "    <tr>\n",
              "      <th>2020-04-19</th>\n",
              "      <td>NaN</td>\n",
              "      <td>NaN</td>\n",
              "      <td>NaN</td>\n",
              "      <td>NaN</td>\n",
              "    </tr>\n",
              "    <tr>\n",
              "      <th>2020-04-26</th>\n",
              "      <td>NaN</td>\n",
              "      <td>NaN</td>\n",
              "      <td>NaN</td>\n",
              "      <td>NaN</td>\n",
              "    </tr>\n",
              "    <tr>\n",
              "      <th>2020-05-03</th>\n",
              "      <td>NaN</td>\n",
              "      <td>NaN</td>\n",
              "      <td>NaN</td>\n",
              "      <td>NaN</td>\n",
              "    </tr>\n",
              "    <tr>\n",
              "      <th>2020-05-10</th>\n",
              "      <td>NaN</td>\n",
              "      <td>NaN</td>\n",
              "      <td>NaN</td>\n",
              "      <td>NaN</td>\n",
              "    </tr>\n",
              "    <tr>\n",
              "      <th>2020-05-17</th>\n",
              "      <td>NaN</td>\n",
              "      <td>NaN</td>\n",
              "      <td>NaN</td>\n",
              "      <td>NaN</td>\n",
              "    </tr>\n",
              "    <tr>\n",
              "      <th>2020-05-24</th>\n",
              "      <td>NaN</td>\n",
              "      <td>NaN</td>\n",
              "      <td>NaN</td>\n",
              "      <td>NaN</td>\n",
              "    </tr>\n",
              "    <tr>\n",
              "      <th>2020-05-31</th>\n",
              "      <td>0.513731</td>\n",
              "      <td>-0.592825</td>\n",
              "      <td>1.415916</td>\n",
              "      <td>-0.06784</td>\n",
              "    </tr>\n",
              "    <tr>\n",
              "      <th>2020-06-07</th>\n",
              "      <td>NaN</td>\n",
              "      <td>NaN</td>\n",
              "      <td>NaN</td>\n",
              "      <td>NaN</td>\n",
              "    </tr>\n",
              "    <tr>\n",
              "      <th>2020-06-14</th>\n",
              "      <td>NaN</td>\n",
              "      <td>NaN</td>\n",
              "      <td>NaN</td>\n",
              "      <td>NaN</td>\n",
              "    </tr>\n",
              "    <tr>\n",
              "      <th>2020-06-21</th>\n",
              "      <td>NaN</td>\n",
              "      <td>NaN</td>\n",
              "      <td>NaN</td>\n",
              "      <td>NaN</td>\n",
              "    </tr>\n",
              "    <tr>\n",
              "      <th>2020-06-28</th>\n",
              "      <td>NaN</td>\n",
              "      <td>NaN</td>\n",
              "      <td>NaN</td>\n",
              "      <td>NaN</td>\n",
              "    </tr>\n",
              "    <tr>\n",
              "      <th>2020-07-05</th>\n",
              "      <td>NaN</td>\n",
              "      <td>NaN</td>\n",
              "      <td>NaN</td>\n",
              "      <td>NaN</td>\n",
              "    </tr>\n",
              "    <tr>\n",
              "      <th>2020-07-12</th>\n",
              "      <td>NaN</td>\n",
              "      <td>NaN</td>\n",
              "      <td>NaN</td>\n",
              "      <td>NaN</td>\n",
              "    </tr>\n",
              "    <tr>\n",
              "      <th>2020-07-19</th>\n",
              "      <td>NaN</td>\n",
              "      <td>NaN</td>\n",
              "      <td>NaN</td>\n",
              "      <td>NaN</td>\n",
              "    </tr>\n",
              "    <tr>\n",
              "      <th>2020-07-26</th>\n",
              "      <td>NaN</td>\n",
              "      <td>NaN</td>\n",
              "      <td>NaN</td>\n",
              "      <td>NaN</td>\n",
              "    </tr>\n",
              "    <tr>\n",
              "      <th>2020-08-02</th>\n",
              "      <td>NaN</td>\n",
              "      <td>NaN</td>\n",
              "      <td>NaN</td>\n",
              "      <td>NaN</td>\n",
              "    </tr>\n",
              "    <tr>\n",
              "      <th>2020-08-09</th>\n",
              "      <td>NaN</td>\n",
              "      <td>NaN</td>\n",
              "      <td>NaN</td>\n",
              "      <td>NaN</td>\n",
              "    </tr>\n",
              "    <tr>\n",
              "      <th>2020-08-16</th>\n",
              "      <td>NaN</td>\n",
              "      <td>NaN</td>\n",
              "      <td>NaN</td>\n",
              "      <td>NaN</td>\n",
              "    </tr>\n",
              "    <tr>\n",
              "      <th>2020-08-23</th>\n",
              "      <td>NaN</td>\n",
              "      <td>NaN</td>\n",
              "      <td>NaN</td>\n",
              "      <td>NaN</td>\n",
              "    </tr>\n",
              "    <tr>\n",
              "      <th>2020-08-30</th>\n",
              "      <td>NaN</td>\n",
              "      <td>NaN</td>\n",
              "      <td>NaN</td>\n",
              "      <td>NaN</td>\n",
              "    </tr>\n",
              "    <tr>\n",
              "      <th>2020-09-06</th>\n",
              "      <td>NaN</td>\n",
              "      <td>NaN</td>\n",
              "      <td>NaN</td>\n",
              "      <td>NaN</td>\n",
              "    </tr>\n",
              "    <tr>\n",
              "      <th>2020-09-13</th>\n",
              "      <td>NaN</td>\n",
              "      <td>NaN</td>\n",
              "      <td>NaN</td>\n",
              "      <td>NaN</td>\n",
              "    </tr>\n",
              "    <tr>\n",
              "      <th>2020-09-20</th>\n",
              "      <td>NaN</td>\n",
              "      <td>NaN</td>\n",
              "      <td>NaN</td>\n",
              "      <td>NaN</td>\n",
              "    </tr>\n",
              "    <tr>\n",
              "      <th>2020-09-27</th>\n",
              "      <td>NaN</td>\n",
              "      <td>NaN</td>\n",
              "      <td>NaN</td>\n",
              "      <td>NaN</td>\n",
              "    </tr>\n",
              "    <tr>\n",
              "      <th>2020-10-04</th>\n",
              "      <td>NaN</td>\n",
              "      <td>NaN</td>\n",
              "      <td>NaN</td>\n",
              "      <td>NaN</td>\n",
              "    </tr>\n",
              "    <tr>\n",
              "      <th>2020-10-11</th>\n",
              "      <td>NaN</td>\n",
              "      <td>NaN</td>\n",
              "      <td>NaN</td>\n",
              "      <td>NaN</td>\n",
              "    </tr>\n",
              "    <tr>\n",
              "      <th>2020-10-18</th>\n",
              "      <td>NaN</td>\n",
              "      <td>NaN</td>\n",
              "      <td>NaN</td>\n",
              "      <td>NaN</td>\n",
              "    </tr>\n",
              "    <tr>\n",
              "      <th>2020-10-25</th>\n",
              "      <td>NaN</td>\n",
              "      <td>NaN</td>\n",
              "      <td>NaN</td>\n",
              "      <td>NaN</td>\n",
              "    </tr>\n",
              "    <tr>\n",
              "      <th>2020-11-01</th>\n",
              "      <td>NaN</td>\n",
              "      <td>NaN</td>\n",
              "      <td>NaN</td>\n",
              "      <td>NaN</td>\n",
              "    </tr>\n",
              "  </tbody>\n",
              "</table>\n",
              "</div>\n",
              "      <button class=\"colab-df-convert\" onclick=\"convertToInteractive('df-84fe1123-9c15-415c-b07d-e7f4a98d65ea')\"\n",
              "              title=\"Convert this dataframe to an interactive table.\"\n",
              "              style=\"display:none;\">\n",
              "        \n",
              "  <svg xmlns=\"http://www.w3.org/2000/svg\" height=\"24px\"viewBox=\"0 0 24 24\"\n",
              "       width=\"24px\">\n",
              "    <path d=\"M0 0h24v24H0V0z\" fill=\"none\"/>\n",
              "    <path d=\"M18.56 5.44l.94 2.06.94-2.06 2.06-.94-2.06-.94-.94-2.06-.94 2.06-2.06.94zm-11 1L8.5 8.5l.94-2.06 2.06-.94-2.06-.94L8.5 2.5l-.94 2.06-2.06.94zm10 10l.94 2.06.94-2.06 2.06-.94-2.06-.94-.94-2.06-.94 2.06-2.06.94z\"/><path d=\"M17.41 7.96l-1.37-1.37c-.4-.4-.92-.59-1.43-.59-.52 0-1.04.2-1.43.59L10.3 9.45l-7.72 7.72c-.78.78-.78 2.05 0 2.83L4 21.41c.39.39.9.59 1.41.59.51 0 1.02-.2 1.41-.59l7.78-7.78 2.81-2.81c.8-.78.8-2.07 0-2.86zM5.41 20L4 18.59l7.72-7.72 1.47 1.35L5.41 20z\"/>\n",
              "  </svg>\n",
              "      </button>\n",
              "      \n",
              "  <style>\n",
              "    .colab-df-container {\n",
              "      display:flex;\n",
              "      flex-wrap:wrap;\n",
              "      gap: 12px;\n",
              "    }\n",
              "\n",
              "    .colab-df-convert {\n",
              "      background-color: #E8F0FE;\n",
              "      border: none;\n",
              "      border-radius: 50%;\n",
              "      cursor: pointer;\n",
              "      display: none;\n",
              "      fill: #1967D2;\n",
              "      height: 32px;\n",
              "      padding: 0 0 0 0;\n",
              "      width: 32px;\n",
              "    }\n",
              "\n",
              "    .colab-df-convert:hover {\n",
              "      background-color: #E2EBFA;\n",
              "      box-shadow: 0px 1px 2px rgba(60, 64, 67, 0.3), 0px 1px 3px 1px rgba(60, 64, 67, 0.15);\n",
              "      fill: #174EA6;\n",
              "    }\n",
              "\n",
              "    [theme=dark] .colab-df-convert {\n",
              "      background-color: #3B4455;\n",
              "      fill: #D2E3FC;\n",
              "    }\n",
              "\n",
              "    [theme=dark] .colab-df-convert:hover {\n",
              "      background-color: #434B5C;\n",
              "      box-shadow: 0px 1px 3px 1px rgba(0, 0, 0, 0.15);\n",
              "      filter: drop-shadow(0px 1px 2px rgba(0, 0, 0, 0.3));\n",
              "      fill: #FFFFFF;\n",
              "    }\n",
              "  </style>\n",
              "\n",
              "      <script>\n",
              "        const buttonEl =\n",
              "          document.querySelector('#df-84fe1123-9c15-415c-b07d-e7f4a98d65ea button.colab-df-convert');\n",
              "        buttonEl.style.display =\n",
              "          google.colab.kernel.accessAllowed ? 'block' : 'none';\n",
              "\n",
              "        async function convertToInteractive(key) {\n",
              "          const element = document.querySelector('#df-84fe1123-9c15-415c-b07d-e7f4a98d65ea');\n",
              "          const dataTable =\n",
              "            await google.colab.kernel.invokeFunction('convertToInteractive',\n",
              "                                                     [key], {});\n",
              "          if (!dataTable) return;\n",
              "\n",
              "          const docLinkHtml = 'Like what you see? Visit the ' +\n",
              "            '<a target=\"_blank\" href=https://colab.research.google.com/notebooks/data_table.ipynb>data table notebook</a>'\n",
              "            + ' to learn more about interactive tables.';\n",
              "          element.innerHTML = '';\n",
              "          dataTable['output_type'] = 'display_data';\n",
              "          await google.colab.output.renderOutput(dataTable, element);\n",
              "          const docLink = document.createElement('div');\n",
              "          docLink.innerHTML = docLinkHtml;\n",
              "          element.appendChild(docLink);\n",
              "        }\n",
              "      </script>\n",
              "    </div>\n",
              "  </div>\n",
              "  "
            ]
          },
          "metadata": {},
          "execution_count": 51
        }
      ]
    },
    {
      "cell_type": "code",
      "source": [
        "df.resample('W').ffill()"
      ],
      "metadata": {
        "colab": {
          "base_uri": "https://localhost:8080/",
          "height": 1000
        },
        "id": "HDrdoHsu-94o",
        "outputId": "eedae99c-9bca-450e-8594-d2b37df0e0fe"
      },
      "execution_count": 52,
      "outputs": [
        {
          "output_type": "execute_result",
          "data": {
            "text/plain": [
              "                  C1        C2        C3        C4\n",
              "2020-02-02 -1.619238  1.125436 -0.394200 -0.250186\n",
              "2020-02-09 -1.619238  1.125436 -0.394200 -0.250186\n",
              "2020-02-16 -1.619238  1.125436 -0.394200 -0.250186\n",
              "2020-02-23 -1.619238  1.125436 -0.394200 -0.250186\n",
              "2020-03-01  0.337359 -0.396276 -0.411286  0.021802\n",
              "2020-03-08  0.337359 -0.396276 -0.411286  0.021802\n",
              "2020-03-15  0.337359 -0.396276 -0.411286  0.021802\n",
              "2020-03-22  0.337359 -0.396276 -0.411286  0.021802\n",
              "2020-03-29  0.337359 -0.396276 -0.411286  0.021802\n",
              "2020-04-05 -0.061370 -0.236959 -1.095150  0.533032\n",
              "2020-04-12 -0.061370 -0.236959 -1.095150  0.533032\n",
              "2020-04-19 -0.061370 -0.236959 -1.095150  0.533032\n",
              "2020-04-26 -0.061370 -0.236959 -1.095150  0.533032\n",
              "2020-05-03  1.874535  1.615032  1.480859  1.527098\n",
              "2020-05-10  1.874535  1.615032  1.480859  1.527098\n",
              "2020-05-17  1.874535  1.615032  1.480859  1.527098\n",
              "2020-05-24  1.874535  1.615032  1.480859  1.527098\n",
              "2020-05-31  0.513731 -0.592825  1.415916 -0.067840\n",
              "2020-06-07  0.513731 -0.592825  1.415916 -0.067840\n",
              "2020-06-14  0.513731 -0.592825  1.415916 -0.067840\n",
              "2020-06-21  0.513731 -0.592825  1.415916 -0.067840\n",
              "2020-06-28  0.513731 -0.592825  1.415916 -0.067840\n",
              "2020-07-05  0.249831 -0.063527 -3.233978  0.878849\n",
              "2020-07-12  0.249831 -0.063527 -3.233978  0.878849\n",
              "2020-07-19  0.249831 -0.063527 -3.233978  0.878849\n",
              "2020-07-26  0.249831 -0.063527 -3.233978  0.878849\n",
              "2020-08-02 -0.535861  0.563414  0.257972 -0.233991\n",
              "2020-08-09 -0.535861  0.563414  0.257972 -0.233991\n",
              "2020-08-16 -0.535861  0.563414  0.257972 -0.233991\n",
              "2020-08-23 -0.535861  0.563414  0.257972 -0.233991\n",
              "2020-08-30 -0.535861  0.563414  0.257972 -0.233991\n",
              "2020-09-06 -0.149534  1.334253 -0.906160 -0.061539\n",
              "2020-09-13 -0.149534  1.334253 -0.906160 -0.061539\n",
              "2020-09-20 -0.149534  1.334253 -0.906160 -0.061539\n",
              "2020-09-27 -0.149534  1.334253 -0.906160 -0.061539\n",
              "2020-10-04 -0.726811  0.379653 -1.504845 -0.045724\n",
              "2020-10-11 -0.726811  0.379653 -1.504845 -0.045724\n",
              "2020-10-18 -0.726811  0.379653 -1.504845 -0.045724\n",
              "2020-10-25 -0.726811  0.379653 -1.504845 -0.045724\n",
              "2020-11-01  0.234086 -0.261081 -0.167812  1.570177"
            ],
            "text/html": [
              "\n",
              "  <div id=\"df-f07509d4-b9ee-4748-8a3c-167aa4d0d24f\">\n",
              "    <div class=\"colab-df-container\">\n",
              "      <div>\n",
              "<style scoped>\n",
              "    .dataframe tbody tr th:only-of-type {\n",
              "        vertical-align: middle;\n",
              "    }\n",
              "\n",
              "    .dataframe tbody tr th {\n",
              "        vertical-align: top;\n",
              "    }\n",
              "\n",
              "    .dataframe thead th {\n",
              "        text-align: right;\n",
              "    }\n",
              "</style>\n",
              "<table border=\"1\" class=\"dataframe\">\n",
              "  <thead>\n",
              "    <tr style=\"text-align: right;\">\n",
              "      <th></th>\n",
              "      <th>C1</th>\n",
              "      <th>C2</th>\n",
              "      <th>C3</th>\n",
              "      <th>C4</th>\n",
              "    </tr>\n",
              "  </thead>\n",
              "  <tbody>\n",
              "    <tr>\n",
              "      <th>2020-02-02</th>\n",
              "      <td>-1.619238</td>\n",
              "      <td>1.125436</td>\n",
              "      <td>-0.394200</td>\n",
              "      <td>-0.250186</td>\n",
              "    </tr>\n",
              "    <tr>\n",
              "      <th>2020-02-09</th>\n",
              "      <td>-1.619238</td>\n",
              "      <td>1.125436</td>\n",
              "      <td>-0.394200</td>\n",
              "      <td>-0.250186</td>\n",
              "    </tr>\n",
              "    <tr>\n",
              "      <th>2020-02-16</th>\n",
              "      <td>-1.619238</td>\n",
              "      <td>1.125436</td>\n",
              "      <td>-0.394200</td>\n",
              "      <td>-0.250186</td>\n",
              "    </tr>\n",
              "    <tr>\n",
              "      <th>2020-02-23</th>\n",
              "      <td>-1.619238</td>\n",
              "      <td>1.125436</td>\n",
              "      <td>-0.394200</td>\n",
              "      <td>-0.250186</td>\n",
              "    </tr>\n",
              "    <tr>\n",
              "      <th>2020-03-01</th>\n",
              "      <td>0.337359</td>\n",
              "      <td>-0.396276</td>\n",
              "      <td>-0.411286</td>\n",
              "      <td>0.021802</td>\n",
              "    </tr>\n",
              "    <tr>\n",
              "      <th>2020-03-08</th>\n",
              "      <td>0.337359</td>\n",
              "      <td>-0.396276</td>\n",
              "      <td>-0.411286</td>\n",
              "      <td>0.021802</td>\n",
              "    </tr>\n",
              "    <tr>\n",
              "      <th>2020-03-15</th>\n",
              "      <td>0.337359</td>\n",
              "      <td>-0.396276</td>\n",
              "      <td>-0.411286</td>\n",
              "      <td>0.021802</td>\n",
              "    </tr>\n",
              "    <tr>\n",
              "      <th>2020-03-22</th>\n",
              "      <td>0.337359</td>\n",
              "      <td>-0.396276</td>\n",
              "      <td>-0.411286</td>\n",
              "      <td>0.021802</td>\n",
              "    </tr>\n",
              "    <tr>\n",
              "      <th>2020-03-29</th>\n",
              "      <td>0.337359</td>\n",
              "      <td>-0.396276</td>\n",
              "      <td>-0.411286</td>\n",
              "      <td>0.021802</td>\n",
              "    </tr>\n",
              "    <tr>\n",
              "      <th>2020-04-05</th>\n",
              "      <td>-0.061370</td>\n",
              "      <td>-0.236959</td>\n",
              "      <td>-1.095150</td>\n",
              "      <td>0.533032</td>\n",
              "    </tr>\n",
              "    <tr>\n",
              "      <th>2020-04-12</th>\n",
              "      <td>-0.061370</td>\n",
              "      <td>-0.236959</td>\n",
              "      <td>-1.095150</td>\n",
              "      <td>0.533032</td>\n",
              "    </tr>\n",
              "    <tr>\n",
              "      <th>2020-04-19</th>\n",
              "      <td>-0.061370</td>\n",
              "      <td>-0.236959</td>\n",
              "      <td>-1.095150</td>\n",
              "      <td>0.533032</td>\n",
              "    </tr>\n",
              "    <tr>\n",
              "      <th>2020-04-26</th>\n",
              "      <td>-0.061370</td>\n",
              "      <td>-0.236959</td>\n",
              "      <td>-1.095150</td>\n",
              "      <td>0.533032</td>\n",
              "    </tr>\n",
              "    <tr>\n",
              "      <th>2020-05-03</th>\n",
              "      <td>1.874535</td>\n",
              "      <td>1.615032</td>\n",
              "      <td>1.480859</td>\n",
              "      <td>1.527098</td>\n",
              "    </tr>\n",
              "    <tr>\n",
              "      <th>2020-05-10</th>\n",
              "      <td>1.874535</td>\n",
              "      <td>1.615032</td>\n",
              "      <td>1.480859</td>\n",
              "      <td>1.527098</td>\n",
              "    </tr>\n",
              "    <tr>\n",
              "      <th>2020-05-17</th>\n",
              "      <td>1.874535</td>\n",
              "      <td>1.615032</td>\n",
              "      <td>1.480859</td>\n",
              "      <td>1.527098</td>\n",
              "    </tr>\n",
              "    <tr>\n",
              "      <th>2020-05-24</th>\n",
              "      <td>1.874535</td>\n",
              "      <td>1.615032</td>\n",
              "      <td>1.480859</td>\n",
              "      <td>1.527098</td>\n",
              "    </tr>\n",
              "    <tr>\n",
              "      <th>2020-05-31</th>\n",
              "      <td>0.513731</td>\n",
              "      <td>-0.592825</td>\n",
              "      <td>1.415916</td>\n",
              "      <td>-0.067840</td>\n",
              "    </tr>\n",
              "    <tr>\n",
              "      <th>2020-06-07</th>\n",
              "      <td>0.513731</td>\n",
              "      <td>-0.592825</td>\n",
              "      <td>1.415916</td>\n",
              "      <td>-0.067840</td>\n",
              "    </tr>\n",
              "    <tr>\n",
              "      <th>2020-06-14</th>\n",
              "      <td>0.513731</td>\n",
              "      <td>-0.592825</td>\n",
              "      <td>1.415916</td>\n",
              "      <td>-0.067840</td>\n",
              "    </tr>\n",
              "    <tr>\n",
              "      <th>2020-06-21</th>\n",
              "      <td>0.513731</td>\n",
              "      <td>-0.592825</td>\n",
              "      <td>1.415916</td>\n",
              "      <td>-0.067840</td>\n",
              "    </tr>\n",
              "    <tr>\n",
              "      <th>2020-06-28</th>\n",
              "      <td>0.513731</td>\n",
              "      <td>-0.592825</td>\n",
              "      <td>1.415916</td>\n",
              "      <td>-0.067840</td>\n",
              "    </tr>\n",
              "    <tr>\n",
              "      <th>2020-07-05</th>\n",
              "      <td>0.249831</td>\n",
              "      <td>-0.063527</td>\n",
              "      <td>-3.233978</td>\n",
              "      <td>0.878849</td>\n",
              "    </tr>\n",
              "    <tr>\n",
              "      <th>2020-07-12</th>\n",
              "      <td>0.249831</td>\n",
              "      <td>-0.063527</td>\n",
              "      <td>-3.233978</td>\n",
              "      <td>0.878849</td>\n",
              "    </tr>\n",
              "    <tr>\n",
              "      <th>2020-07-19</th>\n",
              "      <td>0.249831</td>\n",
              "      <td>-0.063527</td>\n",
              "      <td>-3.233978</td>\n",
              "      <td>0.878849</td>\n",
              "    </tr>\n",
              "    <tr>\n",
              "      <th>2020-07-26</th>\n",
              "      <td>0.249831</td>\n",
              "      <td>-0.063527</td>\n",
              "      <td>-3.233978</td>\n",
              "      <td>0.878849</td>\n",
              "    </tr>\n",
              "    <tr>\n",
              "      <th>2020-08-02</th>\n",
              "      <td>-0.535861</td>\n",
              "      <td>0.563414</td>\n",
              "      <td>0.257972</td>\n",
              "      <td>-0.233991</td>\n",
              "    </tr>\n",
              "    <tr>\n",
              "      <th>2020-08-09</th>\n",
              "      <td>-0.535861</td>\n",
              "      <td>0.563414</td>\n",
              "      <td>0.257972</td>\n",
              "      <td>-0.233991</td>\n",
              "    </tr>\n",
              "    <tr>\n",
              "      <th>2020-08-16</th>\n",
              "      <td>-0.535861</td>\n",
              "      <td>0.563414</td>\n",
              "      <td>0.257972</td>\n",
              "      <td>-0.233991</td>\n",
              "    </tr>\n",
              "    <tr>\n",
              "      <th>2020-08-23</th>\n",
              "      <td>-0.535861</td>\n",
              "      <td>0.563414</td>\n",
              "      <td>0.257972</td>\n",
              "      <td>-0.233991</td>\n",
              "    </tr>\n",
              "    <tr>\n",
              "      <th>2020-08-30</th>\n",
              "      <td>-0.535861</td>\n",
              "      <td>0.563414</td>\n",
              "      <td>0.257972</td>\n",
              "      <td>-0.233991</td>\n",
              "    </tr>\n",
              "    <tr>\n",
              "      <th>2020-09-06</th>\n",
              "      <td>-0.149534</td>\n",
              "      <td>1.334253</td>\n",
              "      <td>-0.906160</td>\n",
              "      <td>-0.061539</td>\n",
              "    </tr>\n",
              "    <tr>\n",
              "      <th>2020-09-13</th>\n",
              "      <td>-0.149534</td>\n",
              "      <td>1.334253</td>\n",
              "      <td>-0.906160</td>\n",
              "      <td>-0.061539</td>\n",
              "    </tr>\n",
              "    <tr>\n",
              "      <th>2020-09-20</th>\n",
              "      <td>-0.149534</td>\n",
              "      <td>1.334253</td>\n",
              "      <td>-0.906160</td>\n",
              "      <td>-0.061539</td>\n",
              "    </tr>\n",
              "    <tr>\n",
              "      <th>2020-09-27</th>\n",
              "      <td>-0.149534</td>\n",
              "      <td>1.334253</td>\n",
              "      <td>-0.906160</td>\n",
              "      <td>-0.061539</td>\n",
              "    </tr>\n",
              "    <tr>\n",
              "      <th>2020-10-04</th>\n",
              "      <td>-0.726811</td>\n",
              "      <td>0.379653</td>\n",
              "      <td>-1.504845</td>\n",
              "      <td>-0.045724</td>\n",
              "    </tr>\n",
              "    <tr>\n",
              "      <th>2020-10-11</th>\n",
              "      <td>-0.726811</td>\n",
              "      <td>0.379653</td>\n",
              "      <td>-1.504845</td>\n",
              "      <td>-0.045724</td>\n",
              "    </tr>\n",
              "    <tr>\n",
              "      <th>2020-10-18</th>\n",
              "      <td>-0.726811</td>\n",
              "      <td>0.379653</td>\n",
              "      <td>-1.504845</td>\n",
              "      <td>-0.045724</td>\n",
              "    </tr>\n",
              "    <tr>\n",
              "      <th>2020-10-25</th>\n",
              "      <td>-0.726811</td>\n",
              "      <td>0.379653</td>\n",
              "      <td>-1.504845</td>\n",
              "      <td>-0.045724</td>\n",
              "    </tr>\n",
              "    <tr>\n",
              "      <th>2020-11-01</th>\n",
              "      <td>0.234086</td>\n",
              "      <td>-0.261081</td>\n",
              "      <td>-0.167812</td>\n",
              "      <td>1.570177</td>\n",
              "    </tr>\n",
              "  </tbody>\n",
              "</table>\n",
              "</div>\n",
              "      <button class=\"colab-df-convert\" onclick=\"convertToInteractive('df-f07509d4-b9ee-4748-8a3c-167aa4d0d24f')\"\n",
              "              title=\"Convert this dataframe to an interactive table.\"\n",
              "              style=\"display:none;\">\n",
              "        \n",
              "  <svg xmlns=\"http://www.w3.org/2000/svg\" height=\"24px\"viewBox=\"0 0 24 24\"\n",
              "       width=\"24px\">\n",
              "    <path d=\"M0 0h24v24H0V0z\" fill=\"none\"/>\n",
              "    <path d=\"M18.56 5.44l.94 2.06.94-2.06 2.06-.94-2.06-.94-.94-2.06-.94 2.06-2.06.94zm-11 1L8.5 8.5l.94-2.06 2.06-.94-2.06-.94L8.5 2.5l-.94 2.06-2.06.94zm10 10l.94 2.06.94-2.06 2.06-.94-2.06-.94-.94-2.06-.94 2.06-2.06.94z\"/><path d=\"M17.41 7.96l-1.37-1.37c-.4-.4-.92-.59-1.43-.59-.52 0-1.04.2-1.43.59L10.3 9.45l-7.72 7.72c-.78.78-.78 2.05 0 2.83L4 21.41c.39.39.9.59 1.41.59.51 0 1.02-.2 1.41-.59l7.78-7.78 2.81-2.81c.8-.78.8-2.07 0-2.86zM5.41 20L4 18.59l7.72-7.72 1.47 1.35L5.41 20z\"/>\n",
              "  </svg>\n",
              "      </button>\n",
              "      \n",
              "  <style>\n",
              "    .colab-df-container {\n",
              "      display:flex;\n",
              "      flex-wrap:wrap;\n",
              "      gap: 12px;\n",
              "    }\n",
              "\n",
              "    .colab-df-convert {\n",
              "      background-color: #E8F0FE;\n",
              "      border: none;\n",
              "      border-radius: 50%;\n",
              "      cursor: pointer;\n",
              "      display: none;\n",
              "      fill: #1967D2;\n",
              "      height: 32px;\n",
              "      padding: 0 0 0 0;\n",
              "      width: 32px;\n",
              "    }\n",
              "\n",
              "    .colab-df-convert:hover {\n",
              "      background-color: #E2EBFA;\n",
              "      box-shadow: 0px 1px 2px rgba(60, 64, 67, 0.3), 0px 1px 3px 1px rgba(60, 64, 67, 0.15);\n",
              "      fill: #174EA6;\n",
              "    }\n",
              "\n",
              "    [theme=dark] .colab-df-convert {\n",
              "      background-color: #3B4455;\n",
              "      fill: #D2E3FC;\n",
              "    }\n",
              "\n",
              "    [theme=dark] .colab-df-convert:hover {\n",
              "      background-color: #434B5C;\n",
              "      box-shadow: 0px 1px 3px 1px rgba(0, 0, 0, 0.15);\n",
              "      filter: drop-shadow(0px 1px 2px rgba(0, 0, 0, 0.3));\n",
              "      fill: #FFFFFF;\n",
              "    }\n",
              "  </style>\n",
              "\n",
              "      <script>\n",
              "        const buttonEl =\n",
              "          document.querySelector('#df-f07509d4-b9ee-4748-8a3c-167aa4d0d24f button.colab-df-convert');\n",
              "        buttonEl.style.display =\n",
              "          google.colab.kernel.accessAllowed ? 'block' : 'none';\n",
              "\n",
              "        async function convertToInteractive(key) {\n",
              "          const element = document.querySelector('#df-f07509d4-b9ee-4748-8a3c-167aa4d0d24f');\n",
              "          const dataTable =\n",
              "            await google.colab.kernel.invokeFunction('convertToInteractive',\n",
              "                                                     [key], {});\n",
              "          if (!dataTable) return;\n",
              "\n",
              "          const docLinkHtml = 'Like what you see? Visit the ' +\n",
              "            '<a target=\"_blank\" href=https://colab.research.google.com/notebooks/data_table.ipynb>data table notebook</a>'\n",
              "            + ' to learn more about interactive tables.';\n",
              "          element.innerHTML = '';\n",
              "          dataTable['output_type'] = 'display_data';\n",
              "          await google.colab.output.renderOutput(dataTable, element);\n",
              "          const docLink = document.createElement('div');\n",
              "          docLink.innerHTML = docLinkHtml;\n",
              "          element.appendChild(docLink);\n",
              "        }\n",
              "      </script>\n",
              "    </div>\n",
              "  </div>\n",
              "  "
            ]
          },
          "metadata": {},
          "execution_count": 52
        }
      ]
    },
    {
      "cell_type": "code",
      "source": [
        "df.resample('Q-DEC').mean()"
      ],
      "metadata": {
        "colab": {
          "base_uri": "https://localhost:8080/",
          "height": 175
        },
        "id": "PeZVBuGw_Oja",
        "outputId": "26019f6b-f75d-4a0e-9545-b278011626fb"
      },
      "execution_count": 53,
      "outputs": [
        {
          "output_type": "execute_result",
          "data": {
            "text/plain": [
              "                  C1        C2        C3        C4\n",
              "2020-03-31 -0.447750  0.164067 -0.633546  0.101549\n",
              "2020-06-30  0.879366  0.319560 -0.112401  0.779369\n",
              "2020-09-30 -0.470735  0.759107 -0.717678 -0.113751\n",
              "2020-12-31  0.234086 -0.261081 -0.167812  1.570177"
            ],
            "text/html": [
              "\n",
              "  <div id=\"df-e3d92005-b669-483f-8ea2-15f207abcb53\">\n",
              "    <div class=\"colab-df-container\">\n",
              "      <div>\n",
              "<style scoped>\n",
              "    .dataframe tbody tr th:only-of-type {\n",
              "        vertical-align: middle;\n",
              "    }\n",
              "\n",
              "    .dataframe tbody tr th {\n",
              "        vertical-align: top;\n",
              "    }\n",
              "\n",
              "    .dataframe thead th {\n",
              "        text-align: right;\n",
              "    }\n",
              "</style>\n",
              "<table border=\"1\" class=\"dataframe\">\n",
              "  <thead>\n",
              "    <tr style=\"text-align: right;\">\n",
              "      <th></th>\n",
              "      <th>C1</th>\n",
              "      <th>C2</th>\n",
              "      <th>C3</th>\n",
              "      <th>C4</th>\n",
              "    </tr>\n",
              "  </thead>\n",
              "  <tbody>\n",
              "    <tr>\n",
              "      <th>2020-03-31</th>\n",
              "      <td>-0.447750</td>\n",
              "      <td>0.164067</td>\n",
              "      <td>-0.633546</td>\n",
              "      <td>0.101549</td>\n",
              "    </tr>\n",
              "    <tr>\n",
              "      <th>2020-06-30</th>\n",
              "      <td>0.879366</td>\n",
              "      <td>0.319560</td>\n",
              "      <td>-0.112401</td>\n",
              "      <td>0.779369</td>\n",
              "    </tr>\n",
              "    <tr>\n",
              "      <th>2020-09-30</th>\n",
              "      <td>-0.470735</td>\n",
              "      <td>0.759107</td>\n",
              "      <td>-0.717678</td>\n",
              "      <td>-0.113751</td>\n",
              "    </tr>\n",
              "    <tr>\n",
              "      <th>2020-12-31</th>\n",
              "      <td>0.234086</td>\n",
              "      <td>-0.261081</td>\n",
              "      <td>-0.167812</td>\n",
              "      <td>1.570177</td>\n",
              "    </tr>\n",
              "  </tbody>\n",
              "</table>\n",
              "</div>\n",
              "      <button class=\"colab-df-convert\" onclick=\"convertToInteractive('df-e3d92005-b669-483f-8ea2-15f207abcb53')\"\n",
              "              title=\"Convert this dataframe to an interactive table.\"\n",
              "              style=\"display:none;\">\n",
              "        \n",
              "  <svg xmlns=\"http://www.w3.org/2000/svg\" height=\"24px\"viewBox=\"0 0 24 24\"\n",
              "       width=\"24px\">\n",
              "    <path d=\"M0 0h24v24H0V0z\" fill=\"none\"/>\n",
              "    <path d=\"M18.56 5.44l.94 2.06.94-2.06 2.06-.94-2.06-.94-.94-2.06-.94 2.06-2.06.94zm-11 1L8.5 8.5l.94-2.06 2.06-.94-2.06-.94L8.5 2.5l-.94 2.06-2.06.94zm10 10l.94 2.06.94-2.06 2.06-.94-2.06-.94-.94-2.06-.94 2.06-2.06.94z\"/><path d=\"M17.41 7.96l-1.37-1.37c-.4-.4-.92-.59-1.43-.59-.52 0-1.04.2-1.43.59L10.3 9.45l-7.72 7.72c-.78.78-.78 2.05 0 2.83L4 21.41c.39.39.9.59 1.41.59.51 0 1.02-.2 1.41-.59l7.78-7.78 2.81-2.81c.8-.78.8-2.07 0-2.86zM5.41 20L4 18.59l7.72-7.72 1.47 1.35L5.41 20z\"/>\n",
              "  </svg>\n",
              "      </button>\n",
              "      \n",
              "  <style>\n",
              "    .colab-df-container {\n",
              "      display:flex;\n",
              "      flex-wrap:wrap;\n",
              "      gap: 12px;\n",
              "    }\n",
              "\n",
              "    .colab-df-convert {\n",
              "      background-color: #E8F0FE;\n",
              "      border: none;\n",
              "      border-radius: 50%;\n",
              "      cursor: pointer;\n",
              "      display: none;\n",
              "      fill: #1967D2;\n",
              "      height: 32px;\n",
              "      padding: 0 0 0 0;\n",
              "      width: 32px;\n",
              "    }\n",
              "\n",
              "    .colab-df-convert:hover {\n",
              "      background-color: #E2EBFA;\n",
              "      box-shadow: 0px 1px 2px rgba(60, 64, 67, 0.3), 0px 1px 3px 1px rgba(60, 64, 67, 0.15);\n",
              "      fill: #174EA6;\n",
              "    }\n",
              "\n",
              "    [theme=dark] .colab-df-convert {\n",
              "      background-color: #3B4455;\n",
              "      fill: #D2E3FC;\n",
              "    }\n",
              "\n",
              "    [theme=dark] .colab-df-convert:hover {\n",
              "      background-color: #434B5C;\n",
              "      box-shadow: 0px 1px 3px 1px rgba(0, 0, 0, 0.15);\n",
              "      filter: drop-shadow(0px 1px 2px rgba(0, 0, 0, 0.3));\n",
              "      fill: #FFFFFF;\n",
              "    }\n",
              "  </style>\n",
              "\n",
              "      <script>\n",
              "        const buttonEl =\n",
              "          document.querySelector('#df-e3d92005-b669-483f-8ea2-15f207abcb53 button.colab-df-convert');\n",
              "        buttonEl.style.display =\n",
              "          google.colab.kernel.accessAllowed ? 'block' : 'none';\n",
              "\n",
              "        async function convertToInteractive(key) {\n",
              "          const element = document.querySelector('#df-e3d92005-b669-483f-8ea2-15f207abcb53');\n",
              "          const dataTable =\n",
              "            await google.colab.kernel.invokeFunction('convertToInteractive',\n",
              "                                                     [key], {});\n",
              "          if (!dataTable) return;\n",
              "\n",
              "          const docLinkHtml = 'Like what you see? Visit the ' +\n",
              "            '<a target=\"_blank\" href=https://colab.research.google.com/notebooks/data_table.ipynb>data table notebook</a>'\n",
              "            + ' to learn more about interactive tables.';\n",
              "          element.innerHTML = '';\n",
              "          dataTable['output_type'] = 'display_data';\n",
              "          await google.colab.output.renderOutput(dataTable, element);\n",
              "          const docLink = document.createElement('div');\n",
              "          docLink.innerHTML = docLinkHtml;\n",
              "          element.appendChild(docLink);\n",
              "        }\n",
              "      </script>\n",
              "    </div>\n",
              "  </div>\n",
              "  "
            ]
          },
          "metadata": {},
          "execution_count": 53
        }
      ]
    },
    {
      "cell_type": "code",
      "source": [
        "df.resample('Y').mean()\n"
      ],
      "metadata": {
        "colab": {
          "base_uri": "https://localhost:8080/",
          "height": 81
        },
        "id": "XTtaL3nn_nWW",
        "outputId": "79456892-7e38-4771-d3ce-16f9106d0a34"
      },
      "execution_count": 54,
      "outputs": [
        {
          "output_type": "execute_result",
          "data": {
            "text/plain": [
              "                  C1        C2        C3        C4\n",
              "2020-12-31  0.011673  0.346712 -0.455868  0.387168"
            ],
            "text/html": [
              "\n",
              "  <div id=\"df-ed2d190c-610e-4fe0-882d-bc76f803643f\">\n",
              "    <div class=\"colab-df-container\">\n",
              "      <div>\n",
              "<style scoped>\n",
              "    .dataframe tbody tr th:only-of-type {\n",
              "        vertical-align: middle;\n",
              "    }\n",
              "\n",
              "    .dataframe tbody tr th {\n",
              "        vertical-align: top;\n",
              "    }\n",
              "\n",
              "    .dataframe thead th {\n",
              "        text-align: right;\n",
              "    }\n",
              "</style>\n",
              "<table border=\"1\" class=\"dataframe\">\n",
              "  <thead>\n",
              "    <tr style=\"text-align: right;\">\n",
              "      <th></th>\n",
              "      <th>C1</th>\n",
              "      <th>C2</th>\n",
              "      <th>C3</th>\n",
              "      <th>C4</th>\n",
              "    </tr>\n",
              "  </thead>\n",
              "  <tbody>\n",
              "    <tr>\n",
              "      <th>2020-12-31</th>\n",
              "      <td>0.011673</td>\n",
              "      <td>0.346712</td>\n",
              "      <td>-0.455868</td>\n",
              "      <td>0.387168</td>\n",
              "    </tr>\n",
              "  </tbody>\n",
              "</table>\n",
              "</div>\n",
              "      <button class=\"colab-df-convert\" onclick=\"convertToInteractive('df-ed2d190c-610e-4fe0-882d-bc76f803643f')\"\n",
              "              title=\"Convert this dataframe to an interactive table.\"\n",
              "              style=\"display:none;\">\n",
              "        \n",
              "  <svg xmlns=\"http://www.w3.org/2000/svg\" height=\"24px\"viewBox=\"0 0 24 24\"\n",
              "       width=\"24px\">\n",
              "    <path d=\"M0 0h24v24H0V0z\" fill=\"none\"/>\n",
              "    <path d=\"M18.56 5.44l.94 2.06.94-2.06 2.06-.94-2.06-.94-.94-2.06-.94 2.06-2.06.94zm-11 1L8.5 8.5l.94-2.06 2.06-.94-2.06-.94L8.5 2.5l-.94 2.06-2.06.94zm10 10l.94 2.06.94-2.06 2.06-.94-2.06-.94-.94-2.06-.94 2.06-2.06.94z\"/><path d=\"M17.41 7.96l-1.37-1.37c-.4-.4-.92-.59-1.43-.59-.52 0-1.04.2-1.43.59L10.3 9.45l-7.72 7.72c-.78.78-.78 2.05 0 2.83L4 21.41c.39.39.9.59 1.41.59.51 0 1.02-.2 1.41-.59l7.78-7.78 2.81-2.81c.8-.78.8-2.07 0-2.86zM5.41 20L4 18.59l7.72-7.72 1.47 1.35L5.41 20z\"/>\n",
              "  </svg>\n",
              "      </button>\n",
              "      \n",
              "  <style>\n",
              "    .colab-df-container {\n",
              "      display:flex;\n",
              "      flex-wrap:wrap;\n",
              "      gap: 12px;\n",
              "    }\n",
              "\n",
              "    .colab-df-convert {\n",
              "      background-color: #E8F0FE;\n",
              "      border: none;\n",
              "      border-radius: 50%;\n",
              "      cursor: pointer;\n",
              "      display: none;\n",
              "      fill: #1967D2;\n",
              "      height: 32px;\n",
              "      padding: 0 0 0 0;\n",
              "      width: 32px;\n",
              "    }\n",
              "\n",
              "    .colab-df-convert:hover {\n",
              "      background-color: #E2EBFA;\n",
              "      box-shadow: 0px 1px 2px rgba(60, 64, 67, 0.3), 0px 1px 3px 1px rgba(60, 64, 67, 0.15);\n",
              "      fill: #174EA6;\n",
              "    }\n",
              "\n",
              "    [theme=dark] .colab-df-convert {\n",
              "      background-color: #3B4455;\n",
              "      fill: #D2E3FC;\n",
              "    }\n",
              "\n",
              "    [theme=dark] .colab-df-convert:hover {\n",
              "      background-color: #434B5C;\n",
              "      box-shadow: 0px 1px 3px 1px rgba(0, 0, 0, 0.15);\n",
              "      filter: drop-shadow(0px 1px 2px rgba(0, 0, 0, 0.3));\n",
              "      fill: #FFFFFF;\n",
              "    }\n",
              "  </style>\n",
              "\n",
              "      <script>\n",
              "        const buttonEl =\n",
              "          document.querySelector('#df-ed2d190c-610e-4fe0-882d-bc76f803643f button.colab-df-convert');\n",
              "        buttonEl.style.display =\n",
              "          google.colab.kernel.accessAllowed ? 'block' : 'none';\n",
              "\n",
              "        async function convertToInteractive(key) {\n",
              "          const element = document.querySelector('#df-ed2d190c-610e-4fe0-882d-bc76f803643f');\n",
              "          const dataTable =\n",
              "            await google.colab.kernel.invokeFunction('convertToInteractive',\n",
              "                                                     [key], {});\n",
              "          if (!dataTable) return;\n",
              "\n",
              "          const docLinkHtml = 'Like what you see? Visit the ' +\n",
              "            '<a target=\"_blank\" href=https://colab.research.google.com/notebooks/data_table.ipynb>data table notebook</a>'\n",
              "            + ' to learn more about interactive tables.';\n",
              "          element.innerHTML = '';\n",
              "          dataTable['output_type'] = 'display_data';\n",
              "          await google.colab.output.renderOutput(dataTable, element);\n",
              "          const docLink = document.createElement('div');\n",
              "          docLink.innerHTML = docLinkHtml;\n",
              "          element.appendChild(docLink);\n",
              "        }\n",
              "      </script>\n",
              "    </div>\n",
              "  </div>\n",
              "  "
            ]
          },
          "metadata": {},
          "execution_count": 54
        }
      ]
    },
    {
      "cell_type": "code",
      "source": [
        ""
      ],
      "metadata": {
        "id": "fXXloudv_uAJ"
      },
      "execution_count": null,
      "outputs": []
    },
    {
      "cell_type": "markdown",
      "source": [
        "### Moving Window"
      ],
      "metadata": {
        "id": "2B9xDlNP_wNc"
      }
    },
    {
      "cell_type": "code",
      "source": [
        "df= pd.DataFrame(np.random.randn(300,4),\n",
        "                 index = pd.date_range('2020-01-01', periods=300, freq='D'),\n",
        "                 columns=['C1','C2', 'C3','C4'])\n",
        "df"
      ],
      "metadata": {
        "colab": {
          "base_uri": "https://localhost:8080/",
          "height": 424
        },
        "id": "TF9QSm0z_z00",
        "outputId": "9db6a098-e805-4004-d641-ddd8135ca168"
      },
      "execution_count": 55,
      "outputs": [
        {
          "output_type": "execute_result",
          "data": {
            "text/plain": [
              "                  C1        C2        C3        C4\n",
              "2020-01-01 -0.817637 -2.358957 -0.338174 -0.697827\n",
              "2020-01-02  0.904433 -1.766801  0.838128  1.424882\n",
              "2020-01-03  0.127489 -0.178304  0.707315 -0.771655\n",
              "2020-01-04  1.534994 -0.998655 -0.716960  0.772062\n",
              "2020-01-05 -0.486318 -1.424949  0.225737 -0.603497\n",
              "...              ...       ...       ...       ...\n",
              "2020-10-22  1.454743  1.484292  0.313572 -2.427514\n",
              "2020-10-23 -0.908041 -0.216414  0.007822  0.652702\n",
              "2020-10-24  0.545233  2.546690  0.009643 -0.580047\n",
              "2020-10-25 -1.723479  0.993416  0.602787  0.805306\n",
              "2020-10-26 -1.649612 -0.142393  0.683082  1.791294\n",
              "\n",
              "[300 rows x 4 columns]"
            ],
            "text/html": [
              "\n",
              "  <div id=\"df-b93f8f52-dd7a-4497-b905-e1f5c9b7eb3d\">\n",
              "    <div class=\"colab-df-container\">\n",
              "      <div>\n",
              "<style scoped>\n",
              "    .dataframe tbody tr th:only-of-type {\n",
              "        vertical-align: middle;\n",
              "    }\n",
              "\n",
              "    .dataframe tbody tr th {\n",
              "        vertical-align: top;\n",
              "    }\n",
              "\n",
              "    .dataframe thead th {\n",
              "        text-align: right;\n",
              "    }\n",
              "</style>\n",
              "<table border=\"1\" class=\"dataframe\">\n",
              "  <thead>\n",
              "    <tr style=\"text-align: right;\">\n",
              "      <th></th>\n",
              "      <th>C1</th>\n",
              "      <th>C2</th>\n",
              "      <th>C3</th>\n",
              "      <th>C4</th>\n",
              "    </tr>\n",
              "  </thead>\n",
              "  <tbody>\n",
              "    <tr>\n",
              "      <th>2020-01-01</th>\n",
              "      <td>-0.817637</td>\n",
              "      <td>-2.358957</td>\n",
              "      <td>-0.338174</td>\n",
              "      <td>-0.697827</td>\n",
              "    </tr>\n",
              "    <tr>\n",
              "      <th>2020-01-02</th>\n",
              "      <td>0.904433</td>\n",
              "      <td>-1.766801</td>\n",
              "      <td>0.838128</td>\n",
              "      <td>1.424882</td>\n",
              "    </tr>\n",
              "    <tr>\n",
              "      <th>2020-01-03</th>\n",
              "      <td>0.127489</td>\n",
              "      <td>-0.178304</td>\n",
              "      <td>0.707315</td>\n",
              "      <td>-0.771655</td>\n",
              "    </tr>\n",
              "    <tr>\n",
              "      <th>2020-01-04</th>\n",
              "      <td>1.534994</td>\n",
              "      <td>-0.998655</td>\n",
              "      <td>-0.716960</td>\n",
              "      <td>0.772062</td>\n",
              "    </tr>\n",
              "    <tr>\n",
              "      <th>2020-01-05</th>\n",
              "      <td>-0.486318</td>\n",
              "      <td>-1.424949</td>\n",
              "      <td>0.225737</td>\n",
              "      <td>-0.603497</td>\n",
              "    </tr>\n",
              "    <tr>\n",
              "      <th>...</th>\n",
              "      <td>...</td>\n",
              "      <td>...</td>\n",
              "      <td>...</td>\n",
              "      <td>...</td>\n",
              "    </tr>\n",
              "    <tr>\n",
              "      <th>2020-10-22</th>\n",
              "      <td>1.454743</td>\n",
              "      <td>1.484292</td>\n",
              "      <td>0.313572</td>\n",
              "      <td>-2.427514</td>\n",
              "    </tr>\n",
              "    <tr>\n",
              "      <th>2020-10-23</th>\n",
              "      <td>-0.908041</td>\n",
              "      <td>-0.216414</td>\n",
              "      <td>0.007822</td>\n",
              "      <td>0.652702</td>\n",
              "    </tr>\n",
              "    <tr>\n",
              "      <th>2020-10-24</th>\n",
              "      <td>0.545233</td>\n",
              "      <td>2.546690</td>\n",
              "      <td>0.009643</td>\n",
              "      <td>-0.580047</td>\n",
              "    </tr>\n",
              "    <tr>\n",
              "      <th>2020-10-25</th>\n",
              "      <td>-1.723479</td>\n",
              "      <td>0.993416</td>\n",
              "      <td>0.602787</td>\n",
              "      <td>0.805306</td>\n",
              "    </tr>\n",
              "    <tr>\n",
              "      <th>2020-10-26</th>\n",
              "      <td>-1.649612</td>\n",
              "      <td>-0.142393</td>\n",
              "      <td>0.683082</td>\n",
              "      <td>1.791294</td>\n",
              "    </tr>\n",
              "  </tbody>\n",
              "</table>\n",
              "<p>300 rows × 4 columns</p>\n",
              "</div>\n",
              "      <button class=\"colab-df-convert\" onclick=\"convertToInteractive('df-b93f8f52-dd7a-4497-b905-e1f5c9b7eb3d')\"\n",
              "              title=\"Convert this dataframe to an interactive table.\"\n",
              "              style=\"display:none;\">\n",
              "        \n",
              "  <svg xmlns=\"http://www.w3.org/2000/svg\" height=\"24px\"viewBox=\"0 0 24 24\"\n",
              "       width=\"24px\">\n",
              "    <path d=\"M0 0h24v24H0V0z\" fill=\"none\"/>\n",
              "    <path d=\"M18.56 5.44l.94 2.06.94-2.06 2.06-.94-2.06-.94-.94-2.06-.94 2.06-2.06.94zm-11 1L8.5 8.5l.94-2.06 2.06-.94-2.06-.94L8.5 2.5l-.94 2.06-2.06.94zm10 10l.94 2.06.94-2.06 2.06-.94-2.06-.94-.94-2.06-.94 2.06-2.06.94z\"/><path d=\"M17.41 7.96l-1.37-1.37c-.4-.4-.92-.59-1.43-.59-.52 0-1.04.2-1.43.59L10.3 9.45l-7.72 7.72c-.78.78-.78 2.05 0 2.83L4 21.41c.39.39.9.59 1.41.59.51 0 1.02-.2 1.41-.59l7.78-7.78 2.81-2.81c.8-.78.8-2.07 0-2.86zM5.41 20L4 18.59l7.72-7.72 1.47 1.35L5.41 20z\"/>\n",
              "  </svg>\n",
              "      </button>\n",
              "      \n",
              "  <style>\n",
              "    .colab-df-container {\n",
              "      display:flex;\n",
              "      flex-wrap:wrap;\n",
              "      gap: 12px;\n",
              "    }\n",
              "\n",
              "    .colab-df-convert {\n",
              "      background-color: #E8F0FE;\n",
              "      border: none;\n",
              "      border-radius: 50%;\n",
              "      cursor: pointer;\n",
              "      display: none;\n",
              "      fill: #1967D2;\n",
              "      height: 32px;\n",
              "      padding: 0 0 0 0;\n",
              "      width: 32px;\n",
              "    }\n",
              "\n",
              "    .colab-df-convert:hover {\n",
              "      background-color: #E2EBFA;\n",
              "      box-shadow: 0px 1px 2px rgba(60, 64, 67, 0.3), 0px 1px 3px 1px rgba(60, 64, 67, 0.15);\n",
              "      fill: #174EA6;\n",
              "    }\n",
              "\n",
              "    [theme=dark] .colab-df-convert {\n",
              "      background-color: #3B4455;\n",
              "      fill: #D2E3FC;\n",
              "    }\n",
              "\n",
              "    [theme=dark] .colab-df-convert:hover {\n",
              "      background-color: #434B5C;\n",
              "      box-shadow: 0px 1px 3px 1px rgba(0, 0, 0, 0.15);\n",
              "      filter: drop-shadow(0px 1px 2px rgba(0, 0, 0, 0.3));\n",
              "      fill: #FFFFFF;\n",
              "    }\n",
              "  </style>\n",
              "\n",
              "      <script>\n",
              "        const buttonEl =\n",
              "          document.querySelector('#df-b93f8f52-dd7a-4497-b905-e1f5c9b7eb3d button.colab-df-convert');\n",
              "        buttonEl.style.display =\n",
              "          google.colab.kernel.accessAllowed ? 'block' : 'none';\n",
              "\n",
              "        async function convertToInteractive(key) {\n",
              "          const element = document.querySelector('#df-b93f8f52-dd7a-4497-b905-e1f5c9b7eb3d');\n",
              "          const dataTable =\n",
              "            await google.colab.kernel.invokeFunction('convertToInteractive',\n",
              "                                                     [key], {});\n",
              "          if (!dataTable) return;\n",
              "\n",
              "          const docLinkHtml = 'Like what you see? Visit the ' +\n",
              "            '<a target=\"_blank\" href=https://colab.research.google.com/notebooks/data_table.ipynb>data table notebook</a>'\n",
              "            + ' to learn more about interactive tables.';\n",
              "          element.innerHTML = '';\n",
              "          dataTable['output_type'] = 'display_data';\n",
              "          await google.colab.output.renderOutput(dataTable, element);\n",
              "          const docLink = document.createElement('div');\n",
              "          docLink.innerHTML = docLinkHtml;\n",
              "          element.appendChild(docLink);\n",
              "        }\n",
              "      </script>\n",
              "    </div>\n",
              "  </div>\n",
              "  "
            ]
          },
          "metadata": {},
          "execution_count": 55
        }
      ]
    },
    {
      "cell_type": "code",
      "source": [
        "#30일 이동평균을 그림으로 보기\n",
        "df.rolling(30).mean().plot()"
      ],
      "metadata": {
        "colab": {
          "base_uri": "https://localhost:8080/",
          "height": 295
        },
        "id": "WDaq_sztAoFG",
        "outputId": "3f9bd752-d2a8-438a-9afa-f10950990473"
      },
      "execution_count": 56,
      "outputs": [
        {
          "output_type": "execute_result",
          "data": {
            "text/plain": [
              "<matplotlib.axes._subplots.AxesSubplot at 0x7f3ea00fa0d0>"
            ]
          },
          "metadata": {},
          "execution_count": 56
        },
        {
          "output_type": "display_data",
          "data": {
            "text/plain": [
              "<Figure size 432x288 with 1 Axes>"
            ],
            "image/png": "[encoded data removed]"
          },
          "metadata": {
            "needs_background": "light"
          }
        }
      ]
    },
    {
      "cell_type": "code",
      "source": [
        "df.rolling(60).mean().plot()\n"
      ],
      "metadata": {
        "colab": {
          "base_uri": "https://localhost:8080/",
          "height": 295
        },
        "id": "c-xyuGXtBC6M",
        "outputId": "0da5d86d-2269-45d6-caa6-7888336360e2"
      },
      "execution_count": 57,
      "outputs": [
        {
          "output_type": "execute_result",
          "data": {
            "text/plain": [
              "<matplotlib.axes._subplots.AxesSubplot at 0x7f3ea0032a90>"
            ]
          },
          "metadata": {},
          "execution_count": 57
        },
        {
          "output_type": "display_data",
          "data": {
            "text/plain": [
              "<Figure size 432x288 with 1 Axes>"
            ],
            "image/png": "[encoded data removed]"
          },
          "metadata": {
            "needs_background": "light"
          }
        }
      ]
    },
    {
      "cell_type": "code",
      "source": [
        "#특정 칼럼만 보고자 할 경우\n",
        "df.C1.rolling(60, min_periods=20).std().plot()"
      ],
      "metadata": {
        "colab": {
          "base_uri": "https://localhost:8080/",
          "height": 295
        },
        "id": "pd2wMWmdBNSB",
        "outputId": "0732274e-9947-4107-aca5-a82e04a20242"
      },
      "execution_count": 59,
      "outputs": [
        {
          "output_type": "execute_result",
          "data": {
            "text/plain": [
              "<matplotlib.axes._subplots.AxesSubplot at 0x7f3e9c1a4110>"
            ]
          },
          "metadata": {},
          "execution_count": 59
        },
        {
          "output_type": "display_data",
          "data": {
            "text/plain": [
              "<Figure size 432x288 with 1 Axes>"
            ],
            "image/png": "[encoded data removed]"
          },
          "metadata": {
            "needs_background": "light"
          }
        }
      ]
    },
    {
      "cell_type": "code",
      "source": [
        "# 일부분만 보고자 할 경우 (10-70)\n",
        "df.rolling(60, min_periods=20).std()[10:70].plot()\n"
      ],
      "metadata": {
        "colab": {
          "base_uri": "https://localhost:8080/",
          "height": 318
        },
        "id": "VObBNPkOBjOG",
        "outputId": "29321286-3200-4f77-ea67-a4c76bca07e8"
      },
      "execution_count": 60,
      "outputs": [
        {
          "output_type": "execute_result",
          "data": {
            "text/plain": [
              "<matplotlib.axes._subplots.AxesSubplot at 0x7f3e9c2b51d0>"
            ]
          },
          "metadata": {},
          "execution_count": 60
        },
        {
          "output_type": "display_data",
          "data": {
            "text/plain": [
              "<Figure size 432x288 with 1 Axes>"
            ],
            "image/png": "[encoded data removed]"
          },
          "metadata": {
            "needs_background": "light"
          }
        }
      ]
    },
    {
      "cell_type": "code",
      "source": [
        "df.rolling(60, min_periods=20).std().expanding().mean().plot()\n"
      ],
      "metadata": {
        "colab": {
          "base_uri": "https://localhost:8080/",
          "height": 295
        },
        "id": "Rl3y-0QyCBef",
        "outputId": "88208df0-8de0-4e46-e40c-3011b17e0cb0"
      },
      "execution_count": 61,
      "outputs": [
        {
          "output_type": "execute_result",
          "data": {
            "text/plain": [
              "<matplotlib.axes._subplots.AxesSubplot at 0x7f3e9c2c0590>"
            ]
          },
          "metadata": {},
          "execution_count": 61
        },
        {
          "output_type": "display_data",
          "data": {
            "text/plain": [
              "<Figure size 432x288 with 1 Axes>"
            ],
            "image/png": "[encoded data removed]"
          },
          "metadata": {
            "needs_background": "light"
          }
        }
      ]
    },
    {
      "cell_type": "code",
      "source": [
        "df.rolling(60).mean().plot(logy=True)\n"
      ],
      "metadata": {
        "colab": {
          "base_uri": "https://localhost:8080/",
          "height": 295
        },
        "id": "bCA4bsrECrpA",
        "outputId": "130dbaad-f339-4532-f394-7f2af8477900"
      },
      "execution_count": 62,
      "outputs": [
        {
          "output_type": "execute_result",
          "data": {
            "text/plain": [
              "<matplotlib.axes._subplots.AxesSubplot at 0x7f3e9e26da10>"
            ]
          },
          "metadata": {},
          "execution_count": 62
        },
        {
          "output_type": "display_data",
          "data": {
            "text/plain": [
              "<Figure size 432x288 with 1 Axes>"
            ],
            "image/png": "[encoded data removed]"
          },
          "metadata": {
            "needs_background": "light"
          }
        }
      ]
    },
    {
      "cell_type": "code",
      "source": [
        "from pandas.io.formats import style\n",
        "df.C1.rolling(30,min_periods=20).mean().plot(style='--', label='Simple MA',color='G')\n",
        "df.C1.ewm(span=30).mean().plot(style='*', label='EWA',color='R')"
      ],
      "metadata": {
        "colab": {
          "base_uri": "https://localhost:8080/",
          "height": 352
        },
        "id": "YWfd4rkADAfa",
        "outputId": "cc03af16-1656-4637-f1d2-d144a521bfba"
      },
      "execution_count": 67,
      "outputs": [
        {
          "output_type": "stream",
          "name": "stderr",
          "text": [
            "/usr/local/lib/python3.7/dist-packages/pandas/plotting/_matplotlib/style.py:271: MatplotlibDeprecationWarning: Support for uppercase single-letter colors is deprecated since Matplotlib 3.1 and will be removed in 3.3; please use lowercase instead.\n",
            "  conv.to_rgba(color)\n"
          ]
        },
        {
          "output_type": "execute_result",
          "data": {
            "text/plain": [
              "<matplotlib.axes._subplots.AxesSubplot at 0x7f3e9b500890>"
            ]
          },
          "metadata": {},
          "execution_count": 67
        },
        {
          "output_type": "display_data",
          "data": {
            "text/plain": [
              "<Figure size 432x288 with 1 Axes>"
            ],
            "image/png": "[encoded data removed]"
          },
          "metadata": {
            "needs_background": "light"
          }
        }
      ]
    },
    {
      "cell_type": "code",
      "source": [
        "# Column간 상관관계의 분석\n",
        "\n",
        "df.C1.rolling(100, min_periods=50).corr(df.C3).plot()"
      ],
      "metadata": {
        "colab": {
          "base_uri": "https://localhost:8080/",
          "height": 295
        },
        "id": "RrNMXc_YEMeC",
        "outputId": "36003200-b046-4d9b-841e-c463874034a0"
      },
      "execution_count": 69,
      "outputs": [
        {
          "output_type": "execute_result",
          "data": {
            "text/plain": [
              "<matplotlib.axes._subplots.AxesSubplot at 0x7f3e9b27a310>"
            ]
          },
          "metadata": {},
          "execution_count": 69
        },
        {
          "output_type": "display_data",
          "data": {
            "text/plain": [
              "<Figure size 432x288 with 1 Axes>"
            ],
            "image/png": "[encoded data removed]"
          },
          "metadata": {
            "needs_background": "light"
          }
        }
      ]
    },
    {
      "cell_type": "code",
      "source": [
        "df.C3.rolling(100, min_periods=50).corr(df.C4).plot()\n"
      ],
      "metadata": {
        "colab": {
          "base_uri": "https://localhost:8080/",
          "height": 295
        },
        "id": "zUPhdccYFDoZ",
        "outputId": "ebd5b2ee-1d0f-4171-ce87-40a768f7a464"
      },
      "execution_count": 70,
      "outputs": [
        {
          "output_type": "execute_result",
          "data": {
            "text/plain": [
              "<matplotlib.axes._subplots.AxesSubplot at 0x7f3e9b1722d0>"
            ]
          },
          "metadata": {},
          "execution_count": 70
        },
        {
          "output_type": "display_data",
          "data": {
            "text/plain": [
              "<Figure size 432x288 with 1 Axes>"
            ],
            "image/png": "[encoded data removed]"
          },
          "metadata": {
            "needs_background": "light"
          }
        }
      ]
    },
    {
      "cell_type": "code",
      "source": [
        ""
      ],
      "metadata": {
        "id": "8VR2yRiSFVqx"
      },
      "execution_count": null,
      "outputs": []
    }
  ]
}