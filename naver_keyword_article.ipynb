{
  "nbformat": 4,
  "nbformat_minor": 0,
  "metadata": {
    "colab": {
      "name": "naver_keyword_article.ipynb",
      "provenance": [],
      "collapsed_sections": [],
      "authorship_tag": "ABX9TyNvQj0wBs/Yvw3n6HY+8XKy",
      "include_colab_link": true
    },
    "kernelspec": {
      "name": "python3",
      "display_name": "Python 3"
    },
    "language_info": {
      "name": "python"
    }
  },
  "cells": [
    {
      "cell_type": "markdown",
      "metadata": {
        "id": "view-in-github",
        "colab_type": "text"
      },
      "source": [
        "<a href=\"https://colab.research.google.com/github/saonongjang/coding_excercise/blob/main/naver_keyword_article.ipynb\" target=\"_parent\"><img src=\"https://colab.research.google.com/assets/colab-badge.svg\" alt=\"Open In Colab\"/></a>"
      ]
    },
    {
      "cell_type": "code",
      "execution_count": 14,
      "metadata": {
        "colab": {
          "base_uri": "https://localhost:8080/"
        },
        "id": "X_1Wy3wOOhsu",
        "outputId": "5efc4050-2310-4002-86f3-26576857b461"
      },
      "outputs": [
        {
          "output_type": "stream",
          "name": "stdout",
          "text": [
            "검색할 키워드를 입력해주세요:윤석렬\n",
            "크롤링할 페이지를 입력해주세요. ex)1(숫자만입력):2\n",
            "크롤링할 페이지:  2 페이지\n",
            "생성url:  https://search.naver.com/search.naver?where=news&sm=tab_pge&query=윤석렬&start=11\n",
            "[<a class=\"news_tit\" href=\"http://yna.kr/AKR20220214051351001?did=1195m\" onclick=\"return goOtherCR(this, 'a=nws*h.tit&amp;r=1&amp;i=880000D8_000000000000000012982764&amp;g=001.0012982764&amp;u='+urlencode(this.href));\" target=\"_blank\" title='이재명 \"합리적 개헌안, 최대한 임기 초반 합의·처리\"(종합)'><mark>이재명</mark> \"합리적 개헌안, 최대한 임기 초반 합의·처리\"(종합)</a>, <a class=\"news_tit\" href=\"http://news.mk.co.kr/newsRead.php?no=137447&amp;year=2022\" onclick=\"return goOtherCR(this, 'a=nws*h.tit&amp;r=6&amp;i=880000BC_000000000000000004921537&amp;g=009.0004921537&amp;u='+urlencode(this.href));\" target=\"_blank\" title=\"윤석열 국민펀드, 53분 만에 500억…이재명은 109분 간 350억 모금\">윤석열 국민펀드, 53분 만에 500억…<mark>이재명</mark>은 109분 간 350억 모금</a>, <a class=\"news_tit\" href=\"http://news.kmib.co.kr/article/view.asp?arcid=0016769835&amp;code=61111111&amp;cp=nv\" onclick=\"return goOtherCR(this, 'a=nws*h.tit&amp;r=8&amp;i=8800006F_000000000000000001505333&amp;g=005.0001505333&amp;u='+urlencode(this.href));\" target=\"_blank\" title=\"국힘, 尹 ‘구둣발’ 역공…“이재명 식당 흡연, 말려도 피워”\">국힘, 尹 ‘구둣발’ 역공…“<mark>이재명</mark> 식당 흡연, 말려도 피워”</a>, <a class=\"news_tit\" href=\"https://economist.co.kr/2022/02/14/policy/issue/20220214162410706.html\" onclick=\"return goOtherCR(this, 'a=nws*h.tit&amp;r=13&amp;i=880002EC_000000000000000000022806&amp;g=243.0000022806&amp;u='+urlencode(this.href));\" target=\"_blank\" title='이재명 \"GTX 과감히 추진해 출퇴근 지옥 해소할 것\"'><mark>이재명</mark> \"GTX 과감히 추진해 출퇴근 지옥 해소할 것\"</a>, <a class=\"news_tit\" href=\"https://www.news1.kr/articles/?4584455\" onclick=\"return goOtherCR(this, 'a=nws*h.tit&amp;r=17&amp;i=08138263_000000000000000005904742&amp;g=421.0005904742&amp;u='+urlencode(this.href));\" target=\"_blank\" title=\"이재명 &quot;'살찐 고양이법'은 삼전 몰락법이자 시진핑 미소법&quot;\"><mark>이재명</mark> \"'살찐 고양이법'은 삼전 몰락법이자 시진핑 미소법\"</a>, <a class=\"news_tit\" href=\"https://www.seoul.co.kr/news/newsView.php?id=20220214500028&amp;wlog_tag3=naver\" onclick=\"return goOtherCR(this, 'a=nws*h.tit&amp;r=19&amp;i=880000D1_000000000000000003251439&amp;g=081.0003251439&amp;u='+urlencode(this.href));\" target=\"_blank\" title=\"이재명, 野 단일화 논의에 “정치 중심에 국민 있어야”\"><mark>이재명</mark>, 野 단일화 논의에 “정치 중심에 국민 있어야”</a>, <a class=\"news_tit\" href=\"https://hankookilbo.com/News/Read/A2022021411350000364?did=NA\" onclick=\"return goOtherCR(this, 'a=nws*h.tit&amp;r=21&amp;i=88156f75_000000000000000000658079&amp;g=469.0000658079&amp;u='+urlencode(this.href));\" target=\"_blank\" title=\"이재명 &quot;국민통합 위해 '이재명 정부' 표현 안 쓰겠다&quot;\"><mark>이재명</mark> \"국민통합 위해 '<mark>이재명</mark> 정부' 표현 안 쓰겠다\"</a>, <a class=\"news_tit\" href=\"http://www.newsis.com/view/?id=NISX20220214_0001757945&amp;cID=10301&amp;pID=10300\" onclick=\"return goOtherCR(this, 'a=nws*j.tit&amp;r=26&amp;i=88000127_000000000000000011000725&amp;g=003.0011000725&amp;u='+urlencode(this.href));\" target=\"_blank\" title=\"이재명 &quot;'李정부' 안 쓰겠다…난 통합·평화대통령&quot;(종합)\"><mark>이재명</mark> \"'李정부' 안 쓰겠다…난 통합·평화대통령\"(종합)</a>, <a class=\"news_tit\" href=\"https://www.joongang.co.kr/article/25048140\" onclick=\"return goOtherCR(this, 'a=nws*h.tit&amp;r=27&amp;i=880000F2_000000000000000003173458&amp;g=025.0003173458&amp;u='+urlencode(this.href));\" target=\"_blank\" title=\"'尹 구둣발' 집중공격에…&quot;식당서 흡연하는 이재명&quot; 野 역공\">'尹 구둣발' 집중공격에…\"식당서 흡연하는 <mark>이재명</mark>\" 野 역공</a>, <a class=\"news_tit\" href=\"https://www.ytn.co.kr/_ln/0101_202202141054554140\" onclick=\"return goOtherCR(this, 'a=nws*h.tit&amp;r=30&amp;i=880000AF_000000000000000001701574&amp;g=052.0001701574&amp;u='+urlencode(this.href));\" target=\"_blank\" title='\"이재명 40.4% 윤석열 43.5%...지난주보다 격차 줄어\"'>\"<mark>이재명</mark> 40.4% 윤석열 43.5%...지난주보다 격차 줄어\"</a>]\n",
            "10 개의 기사가 검색됌.\n"
          ]
        },
        {
          "output_type": "execute_result",
          "data": {
            "text/plain": [
              "['3일, 20대 대선 첫 4자 TV토론 관전 포인트는?',\n",
              " '평택시 충청인들 126인 사드기지 추가배치 결사반대와 이재명 후보 지지 선언',\n",
              " '영국 매체 \"한국 대선, 후보 부인들 비호감 대결로 번져\"',\n",
              " '홍남기 “일부지역 집값, 개발 공약에 영향…심각한 우려”',\n",
              " '서부경남언론연대, \"강민국 국회의원 의원직 사퇴하라\" 요구',\n",
              " '민주노총-NGO 출신 등 노년단체장 \"이재명 후보 지지\"',\n",
              " '한명숙 수사방해 무혐의 윤석열…\"정치공작 밝혀져\"',\n",
              " '김현정 위원장, 사드 평택ㆍ충남계룡 배치 언급 철회 촉구, \"국가안보와 평택시민 안전 무시 경박한 짓\"',\n",
              " '\"文, 집값 잡을 자신 있다더니 뒤로는 임대사업자 배만 불려\"',\n",
              " '“설 민심을 잡아라” 여야 대선후보, 총력 행보']"
            ]
          },
          "metadata": {},
          "execution_count": 14
        }
      ],
      "source": [
        "#크롤링시 필요한 라이브러리 불러오기\n",
        "from bs4 import BeautifulSoup\n",
        "import requests\n",
        "\n",
        "#검색어 입력\n",
        "search = input(\"검색할 키워드를 입력해주세요:\")\n",
        "#검색할 페이지 입력\n",
        "page = int(input(\"크롤링할 페이지를 입력해주세요. ex)1(숫자만입력):\")) # ex)1 =1페이지,2=2페이지...\n",
        "print(\"크롤링할 페이지: \",page,\"페이지\")   \n",
        "#start수를 1, 11, 21, 31 ...만들어 주는 함수\n",
        "page_num = 0\n",
        "\n",
        "if page == 1:\n",
        "    page_num =1\n",
        "elif page == 0:\n",
        "    page_num =1\n",
        "else:\n",
        "    page_num = page+9*(page-1)\n",
        "    \n",
        "#url 생성\n",
        "url = \"https://search.naver.com/search.naver?where=news&sm=tab_pge&query=\" + search + \"&start=\" + str(page_num)\n",
        "print(\"생성url: \",url)\n",
        "\n",
        "#html불러오기\n",
        "original_html = requests.get(url)\n",
        "html = BeautifulSoup(original_html.text, \"html.parser\")\n",
        "\n",
        "# 검색결과\n",
        "articles = html.select(\"div.group_news > ul.list_news > li div.news_area > a\")\n",
        "print(articles1)\n",
        "\n",
        "# 검색된 기사의 갯수\n",
        "print(len(articles),\"개의 기사가 검색됌.\")\n",
        "\n",
        "#뉴스기사 제목 가져오기\n",
        "news_title = []\n",
        "for i in articles:\n",
        "    news_title.append(i.attrs['title'])\n",
        "news_title\n",
        "\n",
        "\n",
        "# #뉴스기사 URL 가져오기\n",
        "# news_url = []\n",
        "# for i in articles:\n",
        "#     news_url.append(i.attrs['href'])\n",
        "# news_url\n",
        "\n",
        "# #뉴스기사 내용 크롤링하기\n",
        "# contents = []\n",
        "# for i in news_url:\n",
        "#     #각 기사 html get하기\n",
        "#     news = requests.get(i)\n",
        "#     news_html = BeautifulSoup(news.text,\"html.parser\")\n",
        "#     #기사 내용 가져오기 (p태그의 내용 모두 가져오기) \n",
        "#     contents.append(news_html.find_all('p'))\n",
        "# contents"
      ]
    }
  ]
}