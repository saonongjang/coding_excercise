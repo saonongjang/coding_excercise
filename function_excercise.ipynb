{
  "nbformat": 4,
  "nbformat_minor": 0,
  "metadata": {
    "colab": {
      "name": "function_excercise.ipynb",
      "provenance": [],
      "authorship_tag": "ABX9TyOOyn8Y+HuE4cJJfgbd6RbJ",
      "include_colab_link": true
    },
    "kernelspec": {
      "name": "python3",
      "display_name": "Python 3"
    },
    "language_info": {
      "name": "python"
    }
  },
  "cells": [
    {
      "cell_type": "markdown",
      "metadata": {
        "id": "view-in-github",
        "colab_type": "text"
      },
      "source": [
        "<a href=\"https://colab.research.google.com/github/saonongjang/coding_excercise/blob/main/function_excercise.ipynb\" target=\"_parent\"><img src=\"https://colab.research.google.com/assets/colab-badge.svg\" alt=\"Open In Colab\"/></a>"
      ]
    },
    {
      "cell_type": "markdown",
      "source": [
        "# 함수\n",
        "\n",
        "## 1. 함수 만들기"
      ],
      "metadata": {
        "id": "iqFmPOFhPFdi"
      }
    },
    {
      "cell_type": "code",
      "source": [
        "# def를 이용하여 함수만들기\n",
        "\n",
        "def my_function_1() :\n",
        "  print('Hello')\n",
        "\n",
        "print(my_function_1())"
      ],
      "metadata": {
        "colab": {
          "base_uri": "https://localhost:8080/"
        },
        "id": "I8vygHzZPQ7v",
        "outputId": "1bc231d8-1d8e-475a-e14d-432d0af47d00"
      },
      "execution_count": null,
      "outputs": [
        {
          "output_type": "stream",
          "name": "stdout",
          "text": [
            "Hello\n",
            "None\n"
          ]
        }
      ]
    },
    {
      "cell_type": "code",
      "source": [
        "def my_fn_add_10(x):\n",
        "  y = x+10\n",
        "  return y\n",
        "output = my_fn_add_10(5)\n",
        "\n",
        "print(output)"
      ],
      "metadata": {
        "colab": {
          "base_uri": "https://localhost:8080/"
        },
        "id": "fmzX0d_uRXAx",
        "outputId": "6dc681d7-1231-43a2-ffab-834358c9584c"
      },
      "execution_count": null,
      "outputs": [
        {
          "output_type": "stream",
          "name": "stdout",
          "text": [
            "15\n"
          ]
        }
      ]
    },
    {
      "cell_type": "markdown",
      "source": [
        "## 2.Local Function & Global Function"
      ],
      "metadata": {
        "id": "--KKRxUGTjF6"
      }
    },
    {
      "cell_type": "code",
      "source": [
        "def my_fn_add_10(x):\n",
        "  #global y ---> y가 함수정의 밖에서도 적용되도록 하려면 global y로 정의함.\n",
        "  y = x+10  #이 y는 함수 내에서만 적용되는 y값이다.\n",
        "  print('Inside fn, y =' + str(y))\n",
        "  return y\n",
        "\n",
        "y=5  # 이 y 값은 함수 밖에 있으므로 함수내의 y와는 다른 y이다\n",
        "\n",
        "my_fn_add_10(3)\n",
        "print('Outside fn, y=' +str(y))\n"
      ],
      "metadata": {
        "colab": {
          "base_uri": "https://localhost:8080/"
        },
        "id": "1YmBOdUwTu03",
        "outputId": "3c2d48af-6814-454b-e05e-37a7e2a70d23"
      },
      "execution_count": null,
      "outputs": [
        {
          "output_type": "stream",
          "name": "stdout",
          "text": [
            "Inside fn, y =13\n",
            "Outside fn, y=5\n"
          ]
        }
      ]
    },
    {
      "cell_type": "markdown",
      "source": [
        "## 3. Input 변수의 초기화"
      ],
      "metadata": {
        "id": "Y3Kq56VKo7iA"
      }
    },
    {
      "cell_type": "code",
      "source": [
        "def my_fn_add_10_v2(x=5):   #x의 값을 지정해주면 다른 값이 들어오지 않으면 x값으로 초기화가 됨\n",
        "  return x+10\n",
        "\n",
        "print(my_fn_add_10_v2(50))\n",
        "\n"
      ],
      "metadata": {
        "colab": {
          "base_uri": "https://localhost:8080/"
        },
        "id": "uGqGjNEEpDP6",
        "outputId": "30afd6f6-2885-44e2-e0ba-d1ed5dd78d33"
      },
      "execution_count": null,
      "outputs": [
        {
          "output_type": "stream",
          "name": "stdout",
          "text": [
            "60\n"
          ]
        }
      ]
    },
    {
      "cell_type": "code",
      "source": [
        "#positional arguments\n",
        "\n",
        "def my_fn_two_numbers(x1, x2):\n",
        "  return x1+x2\n",
        "\n",
        "print(my_fn_two_numbers(3,9)) #각각의 숫자가 순서대로 x1, x2에 대응"
      ],
      "metadata": {
        "colab": {
          "base_uri": "https://localhost:8080/"
        },
        "id": "hwMrlE7Opk-f",
        "outputId": "3eae019e-bdaa-4b3a-f0ba-379536715b3d"
      },
      "execution_count": null,
      "outputs": [
        {
          "output_type": "stream",
          "name": "stdout",
          "text": [
            "12\n"
          ]
        }
      ]
    },
    {
      "cell_type": "code",
      "source": [
        "#keyword arguments\n",
        "\n",
        "def my_print(name, age=0, lan='NONE'): #age와 lan는 초기화를 시켜야 키값으로 찾을 수 있다. name은 초기호가 안되어 있음으로 무조건 제일 먼저와야 함.\n",
        "  print(name +' ' + str(age) +' '+lan)\n",
        "\n",
        "my_print('mingeol')\n",
        "my_print('mingeol', 2, 'Python')\n",
        "my_print('mingeol', lan='Python', age=2) #순서가 바뀌더라도 키값을 지정해주면 순서대로 출력됨\n",
        "\n"
      ],
      "metadata": {
        "colab": {
          "base_uri": "https://localhost:8080/"
        },
        "id": "Dw-rZw2ZwkYD",
        "outputId": "c53952eb-8c51-4361-d3fe-aee0c621dddb"
      },
      "execution_count": null,
      "outputs": [
        {
          "output_type": "stream",
          "name": "stdout",
          "text": [
            "mingeol 0 NONE\n",
            "mingeol 2 Python\n",
            "mingeol 2 Python\n"
          ]
        }
      ]
    },
    {
      "cell_type": "code",
      "source": [
        "#arbitrary arguments - 임의로 들어오는 변수를 읽기\n",
        "\n",
        "def my_print(*arguments) :  # *를 붙여 모든 변수를 읽도록 함. \n",
        "  for arg in arguments:\n",
        "    print(arg)\n",
        "\n",
        "my_print('MK', \"KH\", 'MK')\n"
      ],
      "metadata": {
        "colab": {
          "base_uri": "https://localhost:8080/"
        },
        "id": "p3S-zsjXx4d5",
        "outputId": "90239ac1-e4e8-4273-daca-cfb0e39ad535"
      },
      "execution_count": null,
      "outputs": [
        {
          "output_type": "stream",
          "name": "stdout",
          "text": [
            "MK\n",
            "KH\n",
            "MK\n"
          ]
        }
      ]
    },
    {
      "cell_type": "code",
      "source": [
        "def my_add(*args): # 수많은 값들이 들어올 때 그 합을 구할 때 유용하게 쓰일 수 있음\n",
        "  total =0\n",
        "  for a in args:\n",
        "    total += a\n",
        "  return total\n",
        "\n",
        "my_add(10,20,30,40,50,60)"
      ],
      "metadata": {
        "colab": {
          "base_uri": "https://localhost:8080/"
        },
        "id": "SNyE-uQRzfHu",
        "outputId": "72459228-4f0b-482d-c567-64f2270e35c0"
      },
      "execution_count": null,
      "outputs": [
        {
          "output_type": "execute_result",
          "data": {
            "text/plain": [
              "210"
            ]
          },
          "metadata": {},
          "execution_count": 11
        }
      ]
    },
    {
      "cell_type": "code",
      "source": [
        "# *arguments 를 활용한 list만들기\n",
        "\n",
        "def my_list() :\n",
        "  print('input three numbers: ')\n",
        "  print('Start #', 'End: #','Increment: #')\n",
        "  print('For Example:0,5,1')\n",
        "\n",
        "  ui = input('Waiting for input:')\n",
        "  ui_list = [int(i) for i in ui.split(',')]\n",
        "  out_list = list(range(*ui_list))\n",
        "\n",
        "  return out_list\n",
        "\n",
        "my_list()"
      ],
      "metadata": {
        "colab": {
          "base_uri": "https://localhost:8080/"
        },
        "id": "d_rPN_Zh0uuu",
        "outputId": "7100061e-e667-4960-9598-2d284061f7b3"
      },
      "execution_count": null,
      "outputs": [
        {
          "name": "stdout",
          "output_type": "stream",
          "text": [
            "input three numbers: \n",
            "Start # End: # Increment: #\n",
            "For Example:0,5,1\n",
            "Waiting for input:5,20,2\n"
          ]
        },
        {
          "output_type": "execute_result",
          "data": {
            "text/plain": [
              "[5, 7, 9, 11, 13, 15, 17, 19]"
            ]
          },
          "metadata": {},
          "execution_count": 14
        }
      ]
    },
    {
      "cell_type": "markdown",
      "source": [
        "## Annotation - 주석달기"
      ],
      "metadata": {
        "id": "IC_DWqnN42xH"
      }
    },
    {
      "cell_type": "code",
      "source": [
        "def my_fn(num:int):\n",
        "  out = num+10\n",
        "  return out\n",
        "\n",
        "print(my_fn.__annotations__) # 어떠한 형태의 입력 데이터가 와야 하는 지 알려줌"
      ],
      "metadata": {
        "colab": {
          "base_uri": "https://localhost:8080/"
        },
        "id": "pRLcNe7D4-7x",
        "outputId": "af01c53f-ac5a-496e-800c-da6b5ab03a23"
      },
      "execution_count": null,
      "outputs": [
        {
          "output_type": "stream",
          "name": "stdout",
          "text": [
            "{'num': <class 'int'>}\n"
          ]
        }
      ]
    },
    {
      "cell_type": "code",
      "source": [
        "# 리턴되는 값도 어떠한 지를 보여줄 경우\n",
        "\n",
        "def my_fn(num:int)->int:\n",
        "  out = num+10\n",
        "  return out\n",
        "\n",
        "print(my_fn.__annotations__)"
      ],
      "metadata": {
        "colab": {
          "base_uri": "https://localhost:8080/"
        },
        "id": "NmTYP22uHz6C",
        "outputId": "3270b803-ba90-4aef-f1c5-dbcd7de0702a"
      },
      "execution_count": null,
      "outputs": [
        {
          "output_type": "stream",
          "name": "stdout",
          "text": [
            "{'num': <class 'int'>, 'return': <class 'int'>}\n"
          ]
        }
      ]
    },
    {
      "cell_type": "markdown",
      "source": [
        "## Lambda함수 \n",
        "### 함수로 지정하는 것에 비해 훨씬 간편하게 함수를 만들기\n"
      ],
      "metadata": {
        "id": "w-Gz7AVbKEZZ"
      }
    },
    {
      "cell_type": "code",
      "source": [
        "add_one = lambda x : x+1\n",
        "add_one(1)"
      ],
      "metadata": {
        "colab": {
          "base_uri": "https://localhost:8080/"
        },
        "id": "jL3E1FeLJys4",
        "outputId": "4c11fa58-cd48-4742-f2a8-9e2c8a9d698a"
      },
      "execution_count": null,
      "outputs": [
        {
          "output_type": "execute_result",
          "data": {
            "text/plain": [
              "2"
            ]
          },
          "metadata": {},
          "execution_count": 19
        }
      ]
    },
    {
      "cell_type": "code",
      "source": [
        "add_one(5)\n"
      ],
      "metadata": {
        "colab": {
          "base_uri": "https://localhost:8080/"
        },
        "id": "5DX3ABO1LegR",
        "outputId": "843bf74d-a80d-424f-eaa1-6531e3ec2091"
      },
      "execution_count": null,
      "outputs": [
        {
          "output_type": "execute_result",
          "data": {
            "text/plain": [
              "6"
            ]
          },
          "metadata": {},
          "execution_count": 21
        }
      ]
    },
    {
      "cell_type": "code",
      "source": [
        "add_one('a')  # 숫자가 아닌 것이 오면 에러\n"
      ],
      "metadata": {
        "colab": {
          "base_uri": "https://localhost:8080/",
          "height": 248
        },
        "id": "mMkP-4q2LiBc",
        "outputId": "8b5c628c-315c-427a-9189-316dff50212d"
      },
      "execution_count": null,
      "outputs": [
        {
          "output_type": "error",
          "ename": "TypeError",
          "evalue": "ignored",
          "traceback": [
            "\u001b[0;31m---------------------------------------------------------------------------\u001b[0m",
            "\u001b[0;31mTypeError\u001b[0m                                 Traceback (most recent call last)",
            "\u001b[0;32m<ipython-input-22-f9f49f0d9411>\u001b[0m in \u001b[0;36m<module>\u001b[0;34m()\u001b[0m\n\u001b[0;32m----> 1\u001b[0;31m \u001b[0madd_one\u001b[0m\u001b[0;34m(\u001b[0m\u001b[0;34m'a'\u001b[0m\u001b[0;34m)\u001b[0m\u001b[0;34m\u001b[0m\u001b[0;34m\u001b[0m\u001b[0m\n\u001b[0m",
            "\u001b[0;32m<ipython-input-19-4704142420b5>\u001b[0m in \u001b[0;36m<lambda>\u001b[0;34m(x)\u001b[0m\n\u001b[0;32m----> 1\u001b[0;31m \u001b[0madd_one\u001b[0m \u001b[0;34m=\u001b[0m \u001b[0;32mlambda\u001b[0m \u001b[0mx\u001b[0m \u001b[0;34m:\u001b[0m \u001b[0mx\u001b[0m\u001b[0;34m+\u001b[0m\u001b[0;36m1\u001b[0m\u001b[0;34m\u001b[0m\u001b[0;34m\u001b[0m\u001b[0m\n\u001b[0m\u001b[1;32m      2\u001b[0m \u001b[0madd_one\u001b[0m\u001b[0;34m(\u001b[0m\u001b[0;36m1\u001b[0m\u001b[0;34m)\u001b[0m\u001b[0;34m\u001b[0m\u001b[0;34m\u001b[0m\u001b[0m\n",
            "\u001b[0;31mTypeError\u001b[0m: can only concatenate str (not \"int\") to str"
          ]
        }
      ]
    },
    {
      "cell_type": "code",
      "source": [
        "y = (lambda x: x+1)(10)  # 한줄로 람다함수를 만들 수 있음\n",
        "print(y)"
      ],
      "metadata": {
        "colab": {
          "base_uri": "https://localhost:8080/"
        },
        "id": "4m1L41THLrS1",
        "outputId": "d5bd9132-6e96-437a-9fc5-5aa65f0197f4"
      },
      "execution_count": null,
      "outputs": [
        {
          "output_type": "stream",
          "name": "stdout",
          "text": [
            "11\n"
          ]
        }
      ]
    },
    {
      "cell_type": "code",
      "source": [
        "# 함수 안에 또다른 함수를 쓰기\n",
        "\n",
        "def my_fn_add_10(x):\n",
        "  return x+10\n",
        "\n",
        "high_ord_fn = lambda x:x+my_fn_add_10(x)\n",
        "high_ord_fn(2)"
      ],
      "metadata": {
        "colab": {
          "base_uri": "https://localhost:8080/"
        },
        "id": "Red7KobQL3p-",
        "outputId": "6f37a224-0896-4eac-c305-1c7e35c100a5"
      },
      "execution_count": 4,
      "outputs": [
        {
          "output_type": "execute_result",
          "data": {
            "text/plain": [
              "14"
            ]
          },
          "metadata": {},
          "execution_count": 4
        }
      ]
    },
    {
      "cell_type": "code",
      "source": [
        "# 함수를 입력변수로 가져오기\n",
        "\n",
        "higr_ord_fn = lambda x, func:x +func(x)\n",
        "high_ord_fn(2, lambda x : x+1)  # 주피터에서는 실행이 되는데 여기서는 왜  에러가 나지요?"
      ],
      "metadata": {
        "colab": {
          "base_uri": "https://localhost:8080/",
          "height": 211
        },
        "id": "5bOiyVnnNCzK",
        "outputId": "1bd286e3-c815-41d6-cd7a-263c136dab0b"
      },
      "execution_count": null,
      "outputs": [
        {
          "output_type": "error",
          "ename": "TypeError",
          "evalue": "ignored",
          "traceback": [
            "\u001b[0;31m---------------------------------------------------------------------------\u001b[0m",
            "\u001b[0;31mTypeError\u001b[0m                                 Traceback (most recent call last)",
            "\u001b[0;32m<ipython-input-36-f51187704a2b>\u001b[0m in \u001b[0;36m<module>\u001b[0;34m()\u001b[0m\n\u001b[1;32m      2\u001b[0m \u001b[0;34m\u001b[0m\u001b[0m\n\u001b[1;32m      3\u001b[0m \u001b[0mhigr_ord_fn\u001b[0m \u001b[0;34m=\u001b[0m \u001b[0;32mlambda\u001b[0m \u001b[0mx\u001b[0m\u001b[0;34m,\u001b[0m \u001b[0mfunc\u001b[0m\u001b[0;34m:\u001b[0m\u001b[0mx\u001b[0m \u001b[0;34m+\u001b[0m\u001b[0mfunc\u001b[0m\u001b[0;34m(\u001b[0m\u001b[0mx\u001b[0m\u001b[0;34m)\u001b[0m\u001b[0;34m\u001b[0m\u001b[0;34m\u001b[0m\u001b[0m\n\u001b[0;32m----> 4\u001b[0;31m \u001b[0mhigh_ord_fn\u001b[0m\u001b[0;34m(\u001b[0m\u001b[0;36m2\u001b[0m\u001b[0;34m,\u001b[0m \u001b[0;32mlambda\u001b[0m \u001b[0mx\u001b[0m \u001b[0;34m:\u001b[0m \u001b[0mx\u001b[0m\u001b[0;34m+\u001b[0m\u001b[0;36m1\u001b[0m\u001b[0;34m)\u001b[0m\u001b[0;34m\u001b[0m\u001b[0;34m\u001b[0m\u001b[0m\n\u001b[0m",
            "\u001b[0;31mTypeError\u001b[0m: <lambda>() takes 1 positional argument but 2 were given"
          ]
        }
      ]
    },
    {
      "cell_type": "markdown",
      "source": [
        "## map()"
      ],
      "metadata": {
        "id": "K8SurIbZ-g8-"
      }
    },
    {
      "cell_type": "code",
      "source": [
        "import numpy as np\n",
        "a = np.array([1,2,3,4,5])\n",
        "a*2"
      ],
      "metadata": {
        "id": "oklRpK7-NruV",
        "colab": {
          "base_uri": "https://localhost:8080/"
        },
        "outputId": "dc07c490-2d44-48bc-eba6-e215b93e35cf"
      },
      "execution_count": 1,
      "outputs": [
        {
          "output_type": "execute_result",
          "data": {
            "text/plain": [
              "array([ 2,  4,  6,  8, 10])"
            ]
          },
          "metadata": {},
          "execution_count": 1
        }
      ]
    },
    {
      "cell_type": "code",
      "source": [
        "a =[1,2,3,4,5]\n",
        "a*2"
      ],
      "metadata": {
        "colab": {
          "base_uri": "https://localhost:8080/"
        },
        "id": "zMkE3oJO_B-q",
        "outputId": "fb7f252b-7c11-4b8b-a88d-8e840cdb2733"
      },
      "execution_count": 2,
      "outputs": [
        {
          "output_type": "execute_result",
          "data": {
            "text/plain": [
              "[1, 2, 3, 4, 5, 1, 2, 3, 4, 5]"
            ]
          },
          "metadata": {},
          "execution_count": 2
        }
      ]
    },
    {
      "cell_type": "code",
      "source": [
        "b= list(map(my_fn_add_10, a)) # map 안에 있는 함수와 리스트를 서로 맵핑해줌\n",
        "print(b)"
      ],
      "metadata": {
        "colab": {
          "base_uri": "https://localhost:8080/"
        },
        "id": "SjIxDVXS_LXt",
        "outputId": "34db9d06-d5ad-48e7-8c8f-e5e243cd2c1e"
      },
      "execution_count": 6,
      "outputs": [
        {
          "output_type": "stream",
          "name": "stdout",
          "text": [
            "[11, 12, 13, 14, 15]\n"
          ]
        }
      ]
    },
    {
      "cell_type": "code",
      "source": [
        "b= list(map(lambda x : x*3, a)) # 미리 만들어 놓은 함수가 없을 경우 람다를 써서 만듬\n",
        "print(b)"
      ],
      "metadata": {
        "colab": {
          "base_uri": "https://localhost:8080/"
        },
        "id": "khIN8vAH_1Fc",
        "outputId": "1e38f641-f62e-440b-f49f-9b7975d23f70"
      },
      "execution_count": 8,
      "outputs": [
        {
          "output_type": "stream",
          "name": "stdout",
          "text": [
            "[3, 6, 9, 12, 15]\n"
          ]
        }
      ]
    },
    {
      "cell_type": "code",
      "source": [
        "#string에 적용\n",
        "\n",
        "vip_list = ['euler', 'newton','kepler']\n",
        "vip_list_L = list(map(lambda x: x.upper(),vip_list))  #람다를 이용해 소문자를 모두 대문자로 바꿈\n",
        "print(vip_list_L)"
      ],
      "metadata": {
        "colab": {
          "base_uri": "https://localhost:8080/"
        },
        "id": "m_5NJUb2Ak7k",
        "outputId": "a821b4ed-8538-40d1-f992-9fcff6959f9a"
      },
      "execution_count": 10,
      "outputs": [
        {
          "output_type": "stream",
          "name": "stdout",
          "text": [
            "['EULER', 'NEWTON', 'KEPLER']\n"
          ]
        }
      ]
    },
    {
      "cell_type": "code",
      "source": [
        "char_size = list(map(lambda x: len(x), vip_list))\n",
        "print(char_size)"
      ],
      "metadata": {
        "colab": {
          "base_uri": "https://localhost:8080/"
        },
        "id": "iEQSSXL2Bb2T",
        "outputId": "d6ca339f-9c23-4f58-ca85-95b4df8ed2f1"
      },
      "execution_count": 13,
      "outputs": [
        {
          "output_type": "stream",
          "name": "stdout",
          "text": [
            "[5, 6, 6]\n"
          ]
        }
      ]
    },
    {
      "cell_type": "markdown",
      "source": [
        "## Filter기능"
      ],
      "metadata": {
        "id": "3yGXiNkACcJ4"
      }
    },
    {
      "cell_type": "code",
      "source": [
        "#특정단어가 속한 항목만 추출하기\n",
        "\n",
        "list(filter(lambda x: 'p' in x, vip_list))"
      ],
      "metadata": {
        "colab": {
          "base_uri": "https://localhost:8080/"
        },
        "id": "1vijDU78CArk",
        "outputId": "a6f1fa28-9a90-450c-a0c2-0eeb52f4a258"
      },
      "execution_count": 14,
      "outputs": [
        {
          "output_type": "execute_result",
          "data": {
            "text/plain": [
              "['kepler']"
            ]
          },
          "metadata": {},
          "execution_count": 14
        }
      ]
    },
    {
      "cell_type": "code",
      "source": [
        "# 짝수만 필터링하여 추출하기\n",
        "\n",
        "num_list = list(range(0,11,1))\n",
        "list(filter(lambda x: x%2==0, num_list))"
      ],
      "metadata": {
        "colab": {
          "base_uri": "https://localhost:8080/"
        },
        "id": "VryOgycpC5a2",
        "outputId": "3de44218-4f00-469a-8c70-154688c20e44"
      },
      "execution_count": 21,
      "outputs": [
        {
          "output_type": "execute_result",
          "data": {
            "text/plain": [
              "[0, 2, 4, 6, 8, 10]"
            ]
          },
          "metadata": {},
          "execution_count": 21
        }
      ]
    },
    {
      "cell_type": "markdown",
      "source": [
        "##reduce 연속적으로 연산을 수행"
      ],
      "metadata": {
        "id": "QRHqj30iGfts"
      }
    },
    {
      "cell_type": "code",
      "source": [
        "from functools import reduce\n",
        "\n",
        "def my_fn_add(x,y):\n",
        "  return x+y\n",
        "reduce(my_fn_add, num_list) #순차적으로 리스트 안에 있는 숫자들을 연산하라"
      ],
      "metadata": {
        "colab": {
          "base_uri": "https://localhost:8080/"
        },
        "id": "iY9T6tFHFmoK",
        "outputId": "97d39243-c868-43f0-c5cb-9ff02fa9b36b"
      },
      "execution_count": 24,
      "outputs": [
        {
          "output_type": "execute_result",
          "data": {
            "text/plain": [
              "55"
            ]
          },
          "metadata": {},
          "execution_count": 24
        }
      ]
    },
    {
      "cell_type": "code",
      "source": [
        "#떨어진 글자를 하나로 합치기\n",
        "\n",
        "str_list = ['p','y','t','h','o','n']\n",
        "str_list = list(map(lambda x :x.upper(), str_list))\n",
        "reduce(lambda a, b: a+b, str_list)"
      ],
      "metadata": {
        "colab": {
          "base_uri": "https://localhost:8080/",
          "height": 35
        },
        "id": "6iqhGeWMHI6q",
        "outputId": "8726faaf-2fe6-4ea3-dcce-d8290077d996"
      },
      "execution_count": 28,
      "outputs": [
        {
          "output_type": "execute_result",
          "data": {
            "application/vnd.google.colaboratory.intrinsic+json": {
              "type": "string"
            },
            "text/plain": [
              "'PYTHON'"
            ]
          },
          "metadata": {},
          "execution_count": 28
        }
      ]
    },
    {
      "cell_type": "code",
      "source": [
        "#위의 반대, 하나의 문자열을 하나씩 나누기(반복문을 써서)\n",
        "\n",
        "letter_list =[]\n",
        "for letter in 'Python':\n",
        "  letter_list.append(letter)\n",
        "print(letter_list)"
      ],
      "metadata": {
        "colab": {
          "base_uri": "https://localhost:8080/"
        },
        "id": "tV9VsyGoInGa",
        "outputId": "51a84075-15ab-452d-f9ab-36b479bae329"
      },
      "execution_count": 29,
      "outputs": [
        {
          "output_type": "stream",
          "name": "stdout",
          "text": [
            "['P', 'y', 't', 'h', 'o', 'n']\n"
          ]
        }
      ]
    },
    {
      "cell_type": "code",
      "source": [
        "#lambda를 사용하여 위와 똑같은 결과값 추출하기\n",
        "\n",
        "letter_list_1 = list(map(lambda x: x, 'Python'))\n",
        "print(letter_list_1)"
      ],
      "metadata": {
        "colab": {
          "base_uri": "https://localhost:8080/"
        },
        "id": "LagLctwbKDjS",
        "outputId": "571c76cd-32f0-43df-8d6b-33680240cef0"
      },
      "execution_count": 30,
      "outputs": [
        {
          "output_type": "stream",
          "name": "stdout",
          "text": [
            "['P', 'y', 't', 'h', 'o', 'n']\n"
          ]
        }
      ]
    },
    {
      "cell_type": "code",
      "source": [
        ""
      ],
      "metadata": {
        "id": "r6SvdaWkKy_C"
      },
      "execution_count": null,
      "outputs": []
    }
  ]
}