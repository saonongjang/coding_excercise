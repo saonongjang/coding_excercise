{
  "nbformat": 4,
  "nbformat_minor": 0,
  "metadata": {
    "colab": {
      "name": "While_excercise.ipynb",
      "provenance": [],
      "authorship_tag": "ABX9TyOrZruiHxRfS3ooYOWgHV85",
      "include_colab_link": true
    },
    "kernelspec": {
      "name": "python3",
      "display_name": "Python 3"
    },
    "language_info": {
      "name": "python"
    }
  },
  "cells": [
    {
      "cell_type": "markdown",
      "metadata": {
        "id": "view-in-github",
        "colab_type": "text"
      },
      "source": [
        "<a href=\"https://colab.research.google.com/github/saonongjang/coding_excercise/blob/main/While_excercise.ipynb\" target=\"_parent\"><img src=\"https://colab.research.google.com/assets/colab-badge.svg\" alt=\"Open In Colab\"/></a>"
      ]
    },
    {
      "cell_type": "code",
      "execution_count": 3,
      "metadata": {
        "colab": {
          "base_uri": "https://localhost:8080/"
        },
        "id": "2HfePF7095CO",
        "outputId": "acda9aba-11d7-4a1f-efb5-69566bb38374"
      },
      "outputs": [
        {
          "output_type": "stream",
          "name": "stdout",
          "text": [
            "Kepler\n",
            "Remaining Guests: 2\n",
            "Newton\n",
            "Remaining Guests: 1\n",
            "Euler\n",
            "Remaining Guests: 0\n"
          ]
        }
      ],
      "source": [
        "# while반복문 연습\n",
        "\n",
        "import time\n",
        "\n",
        "# 초대된 게스트 중 온 사람과 안 온사람의 구분\n",
        "\n",
        "vip_list =['Kepler', 'Newton', 'Euler']\n",
        "while vip_list :\n",
        "  print(vip_list.pop(0)) #남아있는 게스트를 순서대로 삭제\n",
        "  print('Remaining Guests: {}'.format(len(vip_list)))\n",
        "\n",
        "\n"
      ]
    },
    {
      "cell_type": "code",
      "source": [
        "# 내 통장 잔고 1억원이 이자율 5%일 때 2억원이 될 때까지의 변화 모습\n",
        "\n",
        "balance = 100000000\n",
        "interest = 0.05\n",
        "yr = 0\n",
        "while balance <200000000 :\n",
        "  balance =balance +balance*interest\n",
        "  yr +=1\n",
        "  print('%of Year={}'.format(yr))\n",
        "  print('Current Balance :{}'.format(balance))\n",
        "  print('')\n",
        "  time.sleep(0.5)"
      ],
      "metadata": {
        "colab": {
          "base_uri": "https://localhost:8080/"
        },
        "id": "7Uz8vc52_U7z",
        "outputId": "54d7cacd-7a38-478b-e220-5ffbe89e19e9"
      },
      "execution_count": 5,
      "outputs": [
        {
          "output_type": "stream",
          "name": "stdout",
          "text": [
            "%of Year=1\n",
            "Current Balance :105000000.0\n",
            "\n",
            "%of Year=2\n",
            "Current Balance :110250000.0\n",
            "\n",
            "%of Year=3\n",
            "Current Balance :115762500.0\n",
            "\n",
            "%of Year=4\n",
            "Current Balance :121550625.0\n",
            "\n",
            "%of Year=5\n",
            "Current Balance :127628156.25\n",
            "\n",
            "%of Year=6\n",
            "Current Balance :134009564.0625\n",
            "\n",
            "%of Year=7\n",
            "Current Balance :140710042.265625\n",
            "\n",
            "%of Year=8\n",
            "Current Balance :147745544.37890625\n",
            "\n",
            "%of Year=9\n",
            "Current Balance :155132821.59785157\n",
            "\n",
            "%of Year=10\n",
            "Current Balance :162889462.67774415\n",
            "\n",
            "%of Year=11\n",
            "Current Balance :171033935.81163135\n",
            "\n",
            "%of Year=12\n",
            "Current Balance :179585632.6022129\n",
            "\n",
            "%of Year=13\n",
            "Current Balance :188564914.23232356\n",
            "\n",
            "%of Year=14\n",
            "Current Balance :197993159.94393975\n",
            "\n",
            "%of Year=15\n",
            "Current Balance :207892817.94113672\n",
            "\n"
          ]
        }
      ]
    },
    {
      "cell_type": "code",
      "source": [
        "# Break문을 이용하여 위의 결과와 동일한 결과 구하기\n",
        "\n",
        "balance = 100000000\n",
        "interest = 0.05\n",
        "yr = 0\n",
        "for i in range(300000000) :\n",
        "  balance =balance +balance*interest\n",
        "  yr +=1\n",
        "  print('%of Year={}'.format(yr))\n",
        "  print('Current Balance :{}'.format(balance))\n",
        "  print('')\n",
        "  if balance > 200000000 :\n",
        "    break\n",
        "  time.sleep(0.5)\n",
        "\n"
      ],
      "metadata": {
        "colab": {
          "base_uri": "https://localhost:8080/"
        },
        "id": "Ko6ROa6eBPbs",
        "outputId": "c66ba789-1ac2-4f08-b438-eeab88e70c27"
      },
      "execution_count": 11,
      "outputs": [
        {
          "output_type": "stream",
          "name": "stdout",
          "text": [
            "%of Year=1\n",
            "Current Balance :105000000.0\n",
            "\n",
            "%of Year=2\n",
            "Current Balance :110250000.0\n",
            "\n",
            "%of Year=3\n",
            "Current Balance :115762500.0\n",
            "\n",
            "%of Year=4\n",
            "Current Balance :121550625.0\n",
            "\n",
            "%of Year=5\n",
            "Current Balance :127628156.25\n",
            "\n",
            "%of Year=6\n",
            "Current Balance :134009564.0625\n",
            "\n",
            "%of Year=7\n",
            "Current Balance :140710042.265625\n",
            "\n",
            "%of Year=8\n",
            "Current Balance :147745544.37890625\n",
            "\n",
            "%of Year=9\n",
            "Current Balance :155132821.59785157\n",
            "\n",
            "%of Year=10\n",
            "Current Balance :162889462.67774415\n",
            "\n",
            "%of Year=11\n",
            "Current Balance :171033935.81163135\n",
            "\n",
            "%of Year=12\n",
            "Current Balance :179585632.6022129\n",
            "\n",
            "%of Year=13\n",
            "Current Balance :188564914.23232356\n",
            "\n",
            "%of Year=14\n",
            "Current Balance :197993159.94393975\n",
            "\n",
            "%of Year=15\n",
            "Current Balance :207892817.94113672\n",
            "\n"
          ]
        }
      ]
    },
    {
      "cell_type": "code",
      "source": [
        "# Continue 명령어 -->조건에 해당하면 앞으로 돌아가라\n",
        "\n",
        "import time\n",
        "\n",
        "temp =[18,19,20,-14,24,30]\n",
        "for t in temp:\n",
        "  if  t<0 :\n",
        "    continue    #-기온은 표시를 하지 않음\n",
        "  print('Temperature is {}'.format(t))\n",
        "  time.sleep(1)"
      ],
      "metadata": {
        "colab": {
          "base_uri": "https://localhost:8080/"
        },
        "id": "5uD93h3bC0Qo",
        "outputId": "252024ba-e56b-4c18-bb3e-cd6d52875da3"
      },
      "execution_count": 20,
      "outputs": [
        {
          "output_type": "stream",
          "name": "stdout",
          "text": [
            "Temperature is 18\n",
            "Temperature is 19\n",
            "Temperature is 20\n",
            "Temperature is 24\n",
            "Temperature is 30\n"
          ]
        }
      ]
    },
    {
      "cell_type": "code",
      "source": [
        "# 코딩중 나중에 완성할테니 해당부분은 그냥 지나가라고 함\n",
        "\n",
        "for i in range(5):\n",
        "  pass\n",
        "\n",
        "x=1\n",
        "print(x)"
      ],
      "metadata": {
        "colab": {
          "base_uri": "https://localhost:8080/"
        },
        "id": "osS1r6MLFPt-",
        "outputId": "b87552a4-343a-4728-af4b-f54ebcb26d58"
      },
      "execution_count": 21,
      "outputs": [
        {
          "output_type": "stream",
          "name": "stdout",
          "text": [
            "1\n"
          ]
        }
      ]
    },
    {
      "cell_type": "code",
      "source": [
        "#예외처리 : try and catch\n",
        "\n",
        "age = int(input(\"Input your age :\"))\n",
        "print('Age is {}'.format(age))\n",
        "\n",
        "while True:\n",
        "  try :\n",
        "    age = int(input(\"Input your age :\"))\n",
        "    break\n",
        "  except ValueError :\n",
        "    print('Hull~~~~~!!!!')\n"
      ],
      "metadata": {
        "colab": {
          "base_uri": "https://localhost:8080/"
        },
        "id": "PG-4Nn0LdWgG",
        "outputId": "726e9392-0a4b-4393-d780-ff18b7e98548"
      },
      "execution_count": 23,
      "outputs": [
        {
          "name": "stdout",
          "output_type": "stream",
          "text": [
            "Input your age :62\n",
            "Age is 62\n",
            "Input your age :saff\n",
            "Hull~~~~~!!!!\n",
            "Input your age :62\n"
          ]
        }
      ]
    },
    {
      "cell_type": "code",
      "source": [
        ""
      ],
      "metadata": {
        "id": "3QQxuJSxe-PG"
      },
      "execution_count": null,
      "outputs": []
    }
  ]
}