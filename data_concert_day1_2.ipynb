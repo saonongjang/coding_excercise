{
 "cells": [
  {
   "cell_type": "markdown",
   "id": "cb64a0cb",
   "metadata": {},
   "source": [
    "## 2. Image 데이터를 학습시키기\n",
    "\n",
    "### 2-1. 분석데이터 검토\n"
   ]
  },
  {
   "cell_type": "code",
   "execution_count": 2,
   "id": "1fe20a37",
   "metadata": {},
   "outputs": [],
   "source": [
    "import pandas as pd\n",
    "\n",
    "#사전에 train과 테스트로 분류된 데이터를 불러오기\n",
    "\n",
    "X_train = pd.read_csv('E://data_concert/day1/Image_X_train.csv')\n",
    "X_test = pd.read_csv('E://data_concert/day1/Image_X_test.csv')\n",
    "y_train = pd.read_csv('E://data_concert/day1/Image_y_train.csv')\n",
    "y_test = pd.read_csv('E://data_concert/day1/Image_y_test.csv')\n"
   ]
  },
  {
   "cell_type": "code",
   "execution_count": 3,
   "id": "fbfefbb6",
   "metadata": {},
   "outputs": [
    {
     "name": "stdout",
     "output_type": "stream",
     "text": [
      "(59, 7056)\n",
      "(19, 7056)\n",
      "(59, 1)\n",
      "(19, 1)\n"
     ]
    }
   ],
   "source": [
    "print(X_train.shape)\n",
    "print(X_test.shape)\n",
    "print(y_train.shape)\n",
    "print(y_test.shape)"
   ]
  },
  {
   "cell_type": "markdown",
   "id": "fac699a5",
   "metadata": {},
   "source": [
    "### 2-2. 모델 학습시키기"
   ]
  },
  {
   "cell_type": "code",
   "execution_count": 4,
   "id": "189415da",
   "metadata": {},
   "outputs": [
    {
     "name": "stderr",
     "output_type": "stream",
     "text": [
      "C:\\Users\\Richard Baek\\anaconda3\\lib\\site-packages\\sklearn\\utils\\validation.py:63: DataConversionWarning: A column-vector y was passed when a 1d array was expected. Please change the shape of y to (n_samples, ), for example using ravel().\n",
      "  return f(*args, **kwargs)\n",
      "C:\\Users\\Richard Baek\\anaconda3\\lib\\site-packages\\sklearn\\linear_model\\_logistic.py:763: ConvergenceWarning: lbfgs failed to converge (status=1):\n",
      "STOP: TOTAL NO. of ITERATIONS REACHED LIMIT.\n",
      "\n",
      "Increase the number of iterations (max_iter) or scale the data as shown in:\n",
      "    https://scikit-learn.org/stable/modules/preprocessing.html\n",
      "Please also refer to the documentation for alternative solver options:\n",
      "    https://scikit-learn.org/stable/modules/linear_model.html#logistic-regression\n",
      "  n_iter_i = _check_optimize_result(\n"
     ]
    },
    {
     "data": {
      "text/plain": [
       "LogisticRegression()"
      ]
     },
     "execution_count": 4,
     "metadata": {},
     "output_type": "execute_result"
    }
   ],
   "source": [
    "# 이번 경우도 LogisticRegression라이브러리를 불러와서 학습시킴\n",
    "\n",
    "from sklearn.linear_model import LogisticRegression\n",
    "model =LogisticRegression()\n",
    "model.fit(X_train, y_train)"
   ]
  },
  {
   "cell_type": "markdown",
   "id": "66944352",
   "metadata": {},
   "source": [
    "### 2-3. 모델에 대한 평가"
   ]
  },
  {
   "cell_type": "code",
   "execution_count": 5,
   "id": "447f54e9",
   "metadata": {},
   "outputs": [
    {
     "data": {
      "text/plain": [
       "1.0"
      ]
     },
     "execution_count": 5,
     "metadata": {},
     "output_type": "execute_result"
    }
   ],
   "source": [
    "# 분류 예측 결과 (0 또는 1)을 pred_train에 저장하고 Score로 정확도 확인\n",
    "\n",
    "pred_train = model.predict(X_train)\n",
    "model.score(X_train, y_train)"
   ]
  },
  {
   "cell_type": "code",
   "execution_count": 6,
   "id": "fe3be0c0",
   "metadata": {},
   "outputs": [
    {
     "data": {
      "text/plain": [
       "0.631578947368421"
      ]
     },
     "execution_count": 6,
     "metadata": {},
     "output_type": "execute_result"
    }
   ],
   "source": [
    "# Test 데이터에 대해서도 정확도 확인\n",
    "\n",
    "pred_test = model.predict(X_test)\n",
    "model.score(X_test, y_test)"
   ]
  },
  {
   "cell_type": "code",
   "execution_count": 10,
   "id": "12968dcd",
   "metadata": {},
   "outputs": [
    {
     "name": "stdout",
     "output_type": "stream",
     "text": [
      "훈련데이터의 오차행렬 :\n",
      " [[29  0]\n",
      " [ 0 30]]\n"
     ]
    }
   ],
   "source": [
    "# 학습데이터의 혼동행렬(정분류 오분류 교차표) 보기\n",
    "\n",
    "from sklearn.metrics import confusion_matrix\n",
    "confusion_train = confusion_matrix(y_train, pred_train)\n",
    "print(\"훈련데이터의 오차행렬 :\\n\", confusion_train)"
   ]
  },
  {
   "cell_type": "code",
   "execution_count": 11,
   "id": "c9411135",
   "metadata": {},
   "outputs": [
    {
     "name": "stdout",
     "output_type": "stream",
     "text": [
      "훈련데이터의 오차행렬 :\n",
      " [[5 4]\n",
      " [3 7]]\n"
     ]
    }
   ],
   "source": [
    "# 테스트 데이터의 혼동행렬\n",
    "\n",
    "\n",
    "from sklearn.metrics import confusion_matrix\n",
    "confusion_test = confusion_matrix(y_test, pred_test)\n",
    "print(\"훈련데이터의 오차행렬 :\\n\", confusion_test)"
   ]
  },
  {
   "cell_type": "markdown",
   "id": "6165a13a",
   "metadata": {},
   "source": [
    "## Text 파일에 대한 학습_간단한 연습\n",
    "\n",
    "### 3-1. 분석데이터에 대한 검토\n"
   ]
  },
  {
   "cell_type": "code",
   "execution_count": 12,
   "id": "d49f7b94",
   "metadata": {},
   "outputs": [],
   "source": [
    "\n",
    "X_train = pd.read_csv('E://data_concert/day1/Text_X_train.csv')\n",
    "X_test = pd.read_csv('E://data_concert/day1/Text_X_test.csv')\n",
    "y_train = pd.read_csv('E://data_concert/day1/Text_y_train.csv')\n",
    "y_test = pd.read_csv('E://data_concert/day1/Text_y_test.csv')"
   ]
  },
  {
   "cell_type": "code",
   "execution_count": 13,
   "id": "cd109fbc",
   "metadata": {},
   "outputs": [
    {
     "name": "stdout",
     "output_type": "stream",
     "text": [
      "(13, 20)\n",
      "(5, 20)\n",
      "(13, 1)\n",
      "(5, 1)\n"
     ]
    }
   ],
   "source": [
    "print(X_train.shape)\n",
    "print(X_test.shape)\n",
    "print(y_train.shape)\n",
    "print(y_test.shape)"
   ]
  },
  {
   "cell_type": "markdown",
   "id": "73bc5b0e",
   "metadata": {},
   "source": [
    "### 3-2. 모델 학습"
   ]
  },
  {
   "cell_type": "code",
   "execution_count": 14,
   "id": "687610e3",
   "metadata": {},
   "outputs": [
    {
     "name": "stderr",
     "output_type": "stream",
     "text": [
      "C:\\Users\\Richard Baek\\anaconda3\\lib\\site-packages\\sklearn\\utils\\validation.py:63: DataConversionWarning: A column-vector y was passed when a 1d array was expected. Please change the shape of y to (n_samples, ), for example using ravel().\n",
      "  return f(*args, **kwargs)\n"
     ]
    },
    {
     "data": {
      "text/plain": [
       "LogisticRegression()"
      ]
     },
     "execution_count": 14,
     "metadata": {},
     "output_type": "execute_result"
    }
   ],
   "source": [
    "from sklearn.linear_model import LogisticRegression\n",
    "model =LogisticRegression()\n",
    "model.fit(X_train, y_train)"
   ]
  },
  {
   "cell_type": "markdown",
   "id": "1987758c",
   "metadata": {},
   "source": [
    "### 3-3.모델 평가"
   ]
  },
  {
   "cell_type": "code",
   "execution_count": 15,
   "id": "32429167",
   "metadata": {},
   "outputs": [
    {
     "data": {
      "text/plain": [
       "0.9230769230769231"
      ]
     },
     "execution_count": 15,
     "metadata": {},
     "output_type": "execute_result"
    }
   ],
   "source": [
    "pred_train = model.predict(X_train)\n",
    "model.score(X_train, y_train)"
   ]
  },
  {
   "cell_type": "code",
   "execution_count": 16,
   "id": "c468f9c9",
   "metadata": {},
   "outputs": [
    {
     "data": {
      "text/plain": [
       "0.6"
      ]
     },
     "execution_count": 16,
     "metadata": {},
     "output_type": "execute_result"
    }
   ],
   "source": [
    "pred_test = model.predict(X_test)\n",
    "model.score(X_test, y_test)"
   ]
  },
  {
   "cell_type": "code",
   "execution_count": 17,
   "id": "a08851bc",
   "metadata": {},
   "outputs": [
    {
     "name": "stdout",
     "output_type": "stream",
     "text": [
      "훈련데이터의 오차행렬 :\n",
      " [[8 0]\n",
      " [1 4]]\n"
     ]
    }
   ],
   "source": [
    "from sklearn.metrics import confusion_matrix\n",
    "confusion_train = confusion_matrix(y_train, pred_train)\n",
    "print(\"훈련데이터의 오차행렬 :\\n\", confusion_train)"
   ]
  },
  {
   "cell_type": "code",
   "execution_count": 18,
   "id": "9202fd03",
   "metadata": {},
   "outputs": [
    {
     "name": "stdout",
     "output_type": "stream",
     "text": [
      "훈련데이터의 오차행렬 :\n",
      " [[2 0]\n",
      " [2 1]]\n"
     ]
    }
   ],
   "source": [
    "from sklearn.metrics import confusion_matrix\n",
    "confusion_test = confusion_matrix(y_test, pred_test)\n",
    "print(\"훈련데이터의 오차행렬 :\\n\", confusion_test)"
   ]
  },
  {
   "cell_type": "code",
   "execution_count": null,
   "id": "d1c2a342",
   "metadata": {},
   "outputs": [],
   "source": []
  }
 ],
 "metadata": {
  "kernelspec": {
   "display_name": "Python 3 (ipykernel)",
   "language": "python",
   "name": "python3"
  },
  "language_info": {
   "codemirror_mode": {
    "name": "ipython",
    "version": 3
   },
   "file_extension": ".py",
   "mimetype": "text/x-python",
   "name": "python",
   "nbconvert_exporter": "python",
   "pygments_lexer": "ipython3",
   "version": "3.9.7"
  }
 },
 "nbformat": 4,
 "nbformat_minor": 5
}
